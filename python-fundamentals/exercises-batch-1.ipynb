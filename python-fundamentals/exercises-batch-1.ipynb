{
 "cells": [
  {
   "cell_type": "markdown",
   "metadata": {},
   "source": [
    "# PYTHON FUNDAMENTALS EXERCISES\n",
    "___"
   ]
  },
  {
   "cell_type": "markdown",
   "metadata": {},
   "source": [
    "## Notebook memo.\n",
    "\n",
    "### Shortcuts\n",
    "* **esc + b**: create a new cell below\n",
    "* **esc + a**: create a new cell above\n",
    "* **esc + x**: delete current cell \n",
    "* **esc + m**: switch cell to markdown mode\n",
    "* **esc + y**: switch cell to code mode\n",
    "* **shift + enter**: execute code cell\n",
    "\n",
    "### Execution facts\n",
    "* Cells need to be run sequentially from top to bottom\n",
    "* When a code cell is executing you see (left margin of the cell) **In [*]** instead of **In [51]** (for instance)\n",
    "\n",
    "### Markdown syntax\n",
    "* double click on this cell to have examples\n",
    "* or https://github.com/adam-p/markdown-here/wiki/Markdown-Cheatsheet\n",
    "* or help menu"
   ]
  },
  {
   "cell_type": "markdown",
   "metadata": {},
   "source": [
    "# Warm up"
   ]
  },
  {
   "cell_type": "markdown",
   "metadata": {},
   "source": [
    "## Exercise 1"
   ]
  },
  {
   "cell_type": "code",
   "execution_count": 53,
   "metadata": {
    "collapsed": true
   },
   "outputs": [],
   "source": [
    "iot_keywords = ['lora', 'modulation', 'MQTT', 'the things network', 'spreading factor']"
   ]
  },
  {
   "cell_type": "code",
   "execution_count": null,
   "metadata": {
    "collapsed": true
   },
   "outputs": [],
   "source": [
    "# Loop over the list below and print each element\n",
    "# --your code here--"
   ]
  },
  {
   "cell_type": "code",
   "execution_count": 1,
   "metadata": {
    "collapsed": false
   },
   "outputs": [],
   "source": [
    "# Loop over the list below and print each element capitalized\n",
    "# --your code here--"
   ]
  },
  {
   "cell_type": "code",
   "execution_count": 2,
   "metadata": {
    "collapsed": true
   },
   "outputs": [],
   "source": [
    "# Loop over the list below and print each element capitalized\n",
    "#     - for 'lora', the 'r' sould be in uppercase\n",
    "#     - for 'mqtt', all letters shoud be in uppercase\n",
    "\n",
    "# --your code here--"
   ]
  },
  {
   "cell_type": "markdown",
   "metadata": {},
   "source": [
    "## Exercise 2"
   ]
  },
  {
   "cell_type": "code",
   "execution_count": 3,
   "metadata": {
    "collapsed": false
   },
   "outputs": [],
   "source": [
    "hosts = ['google.com', 'nytimes.com', 'facebook.com', 'wikipedia.org']"
   ]
  },
  {
   "cell_type": "code",
   "execution_count": 4,
   "metadata": {
    "collapsed": true
   },
   "outputs": [],
   "source": [
    "# Print for each host a dictionary with the following structure:\n",
    "#     {'name': the_host_name, 'ip_address': the_ip_address}\n",
    "\n",
    "# Tip:\n",
    "#     - look for an appropriate method in the 'socket' module documentation\n",
    "\n",
    "# --your code here--"
   ]
  },
  {
   "cell_type": "code",
   "execution_count": 5,
   "metadata": {
    "collapsed": false
   },
   "outputs": [],
   "source": [
    "# Instead of printing a dictionnary create a list of dictionaries and print it\n",
    "hosts_ips = []\n",
    "\n",
    "# --your code here--"
   ]
  },
  {
   "cell_type": "code",
   "execution_count": 6,
   "metadata": {
    "collapsed": false
   },
   "outputs": [],
   "source": [
    "# Instead of using a for loop use a list comprehension\n",
    "# --your code here--"
   ]
  },
  {
   "cell_type": "code",
   "execution_count": 7,
   "metadata": {
    "collapsed": false
   },
   "outputs": [],
   "source": [
    "# get a list of host and ip where last octet (in decimal) is even (divisible by 2)\n",
    "# Tips:\n",
    "#     - use the `split` function to convert a string into a list\n",
    "#     - access the last element of the list\n",
    "#     - use the modulo operator `%`\n",
    "\n",
    "# Use either a for loop or a list comprehension\n",
    "# Which one is best?\n",
    "\n",
    "# --your code here--"
   ]
  },
  {
   "cell_type": "markdown",
   "metadata": {},
   "source": [
    "# Logger"
   ]
  },
  {
   "cell_type": "markdown",
   "metadata": {},
   "source": [
    "## Exercise 3"
   ]
  },
  {
   "cell_type": "code",
   "execution_count": 8,
   "metadata": {
    "collapsed": false
   },
   "outputs": [],
   "source": [
    "# Using the `datetime` Python module, print current time as `string` type\n",
    "\n",
    "# --your code here--"
   ]
  },
  {
   "cell_type": "code",
   "execution_count": 9,
   "metadata": {
    "collapsed": false
   },
   "outputs": [],
   "source": [
    "# Using the `random` Python module, generate a `float` from a Normal/Gaussian distribution with mean=20 and sd=3\n",
    "\n",
    "# --your code here--"
   ]
  },
  {
   "cell_type": "code",
   "execution_count": 10,
   "metadata": {
    "collapsed": false
   },
   "outputs": [],
   "source": [
    "# Print a series of dictionnaries  at an interval of 1 second with the following structure:\n",
    "#     {'id': an_integer, 'time': current_time, 'temperature': temperature_from_gaussian}\n",
    "\n",
    "# Tips: \n",
    "#     - use the `time` module\n",
    "#     - use the `round` function if you want to specify number of decimals for float\n",
    "\n",
    "# --your code here--"
   ]
  },
  {
   "cell_type": "markdown",
   "metadata": {},
   "source": [
    "## Exercise 4"
   ]
  },
  {
   "cell_type": "code",
   "execution_count": 11,
   "metadata": {
    "collapsed": false
   },
   "outputs": [],
   "source": [
    "# Write a function accepting as arguments:\n",
    "#     - type of measurement: 'temperature', ...\n",
    "#     - interval of logs (in seconds)\n",
    "#     - mean of the mean and standard deviation of measurement simulated from a Normal distribution\n",
    "#     - number of logged values\n",
    "\n",
    "# In case arguments are not specified during function call, your function should use default values\n",
    "# Your function should be documented with a proper Docstring\n",
    "\n",
    "# --your code here--"
   ]
  },
  {
   "cell_type": "code",
   "execution_count": 12,
   "metadata": {
    "collapsed": false
   },
   "outputs": [],
   "source": [
    "# Check that your function has been properly documented with the `help` function\n",
    "\n",
    "# --your code here--"
   ]
  },
  {
   "cell_type": "markdown",
   "metadata": {},
   "source": [
    "## Exercise 5"
   ]
  },
  {
   "cell_type": "code",
   "execution_count": 13,
   "metadata": {
    "collapsed": false
   },
   "outputs": [],
   "source": [
    "# Rewrite your logger function (without the Docstring for the sake of brevity)\n",
    "# But this time, the function returns the list of logged values\n",
    "\n",
    "# --your code here--"
   ]
  },
  {
   "cell_type": "markdown",
   "metadata": {},
   "source": [
    "## Exercise 6"
   ]
  },
  {
   "cell_type": "code",
   "execution_count": 15,
   "metadata": {
    "collapsed": true
   },
   "outputs": [],
   "source": [
    "# In function written in exercise 5, add a bit of validation: check that arguments passed have proper types.\n",
    "\n",
    "# --your code here--"
   ]
  },
  {
   "cell_type": "markdown",
   "metadata": {},
   "source": [
    "## Exercise 7 [optional - more advanced]"
   ]
  },
  {
   "cell_type": "code",
   "execution_count": 14,
   "metadata": {
    "collapsed": false
   },
   "outputs": [],
   "source": [
    "# Instead of passing the Mean and Standard deviation, pass directly a simulation function of your choice\n",
    "# That way your function is a bit generalized\n",
    "\n",
    "# --your code here--"
   ]
  }
 ],
 "metadata": {
  "kernelspec": {
   "display_name": "Python 3",
   "language": "python",
   "name": "python3"
  },
  "language_info": {
   "codemirror_mode": {
    "name": "ipython",
    "version": 3
   },
   "file_extension": ".py",
   "mimetype": "text/x-python",
   "name": "python",
   "nbconvert_exporter": "python",
   "pygments_lexer": "ipython3",
   "version": "3.5.0"
  }
 },
 "nbformat": 4,
 "nbformat_minor": 2
}
