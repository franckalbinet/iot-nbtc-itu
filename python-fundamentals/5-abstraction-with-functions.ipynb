{
 "cells": [
  {
   "cell_type": "markdown",
   "metadata": {},
   "source": [
    "#### PYTHON FUNDAMENTALS | FROM BASICS TO ADVANCED ► CHAPTER 5 ► FUNCTIONS\n",
    "---\n",
    "\n",
    "**Functions** are the most basic program structure Python provides for maximizing code reuse, and lead us to the larger notions of program design. As we’ll see, functions let us split complex systems into manageable parts. By implementing each part as a function, we make it both reusable and easier to code.\n",
    "\n",
    "A **function** is a group of statements that execute upon request. Python provides may built-in functions and allows programmers to define their own functions.\n",
    "\n",
    "To use function, you need:\n",
    "\n",
    "1. to **define it using the `def` statement**. For instance: `def square(x): return x**2`\n",
    "2. to **call it using the call statement** `square(2)`\n",
    "\n",
    "We've said several times that in Python everything is an object, so **functions** are objects and you can pass a function to another function (higher-order functions)."
   ]
  },
  {
   "cell_type": "markdown",
   "metadata": {},
   "source": [
    "## I. Basics"
   ]
  },
  {
   "cell_type": "markdown",
   "metadata": {},
   "source": [
    "To declare a function, we use the **`def`** statement:"
   ]
  },
  {
   "cell_type": "code",
   "execution_count": 181,
   "metadata": {
    "collapsed": true
   },
   "outputs": [],
   "source": [
    "# Function object \"f\" with arguments \"a, b, c\"\n",
    "def f(a, b, c):\n",
    "    print(a, b, c)"
   ]
  },
  {
   "cell_type": "markdown",
   "metadata": {},
   "source": [
    "To call it, simply use the **`call`** statement:"
   ]
  },
  {
   "cell_type": "code",
   "execution_count": 182,
   "metadata": {
    "collapsed": false
   },
   "outputs": [
    {
     "name": "stdout",
     "output_type": "stream",
     "text": [
      "1 2 3\n"
     ]
    }
   ],
   "source": [
    "f(1, 2, 3)"
   ]
  },
  {
   "cell_type": "markdown",
   "metadata": {},
   "source": [
    "As seen already, functions are objects. The function name **`f`** is just a name referencing the function object defined. As result, you can rebind the function object if needed."
   ]
  },
  {
   "cell_type": "code",
   "execution_count": 183,
   "metadata": {
    "collapsed": false
   },
   "outputs": [
    {
     "name": "stdout",
     "output_type": "stream",
     "text": [
      "1 2 3\n"
     ]
    }
   ],
   "source": [
    "g = f\n",
    "g(1, 2, 3)"
   ]
  },
  {
   "cell_type": "markdown",
   "metadata": {},
   "source": [
    "In Python, arguments are **passed by reference**. Again, as everything is an object in Python, systematically copying objects when passed as arguments to functions would be costly in memory. \n",
    "\n",
    "This is an important aspect to bear in mind as it is often a source of bugs."
   ]
  },
  {
   "cell_type": "code",
   "execution_count": 1,
   "metadata": {
    "collapsed": true
   },
   "outputs": [],
   "source": [
    "# For instance let's create an empty list\n",
    "my_list = []"
   ]
  },
  {
   "cell_type": "code",
   "execution_count": 2,
   "metadata": {
    "collapsed": true
   },
   "outputs": [],
   "source": [
    "# And a simple function expecting a list as argument and appending \"1\"\n",
    "def h(a):\n",
    "    a.append(1)"
   ]
  },
  {
   "cell_type": "code",
   "execution_count": 3,
   "metadata": {
    "collapsed": true
   },
   "outputs": [],
   "source": [
    "# Let's call \"h\" in our empty list\n",
    "h(my_list)"
   ]
  },
  {
   "cell_type": "code",
   "execution_count": 4,
   "metadata": {
    "collapsed": false
   },
   "outputs": [
    {
     "name": "stdout",
     "output_type": "stream",
     "text": [
      "[1]\n"
     ]
    }
   ],
   "source": [
    "print(my_list)"
   ]
  },
  {
   "cell_type": "markdown",
   "metadata": {},
   "source": [
    "We notice that the local variable (notion defined in next chapter) **`a`** reference the same empty list and as a result modify the original empty list itself."
   ]
  },
  {
   "cell_type": "markdown",
   "metadata": {},
   "source": [
    "Functions that do not return any object/value is actually a **procedure** - they have **side effects**. The way to return explicitely a value is to use the keyword **`return`**."
   ]
  },
  {
   "cell_type": "code",
   "execution_count": 6,
   "metadata": {
    "collapsed": true
   },
   "outputs": [],
   "source": [
    "def h(a):\n",
    "    a.append('spam')\n",
    "    return a"
   ]
  },
  {
   "cell_type": "code",
   "execution_count": 7,
   "metadata": {
    "collapsed": true
   },
   "outputs": [],
   "source": [
    "# A returned value/object assigned to a variable\n",
    "my_var = h([1, 2, 3])"
   ]
  },
  {
   "cell_type": "code",
   "execution_count": 8,
   "metadata": {
    "collapsed": false
   },
   "outputs": [
    {
     "name": "stdout",
     "output_type": "stream",
     "text": [
      "[1, 2, 3, 1]\n"
     ]
    }
   ],
   "source": [
    "print(my_var)"
   ]
  },
  {
   "cell_type": "markdown",
   "metadata": {},
   "source": [
    "Instead if you don't explicitely return a value, the value **`None`** is returned by default."
   ]
  },
  {
   "cell_type": "code",
   "execution_count": 10,
   "metadata": {
    "collapsed": false
   },
   "outputs": [
    {
     "name": "stdout",
     "output_type": "stream",
     "text": [
      "None\n"
     ]
    }
   ],
   "source": [
    "def h(a):\n",
    "    a.append('spam')\n",
    "    \n",
    "my_var = h([1, 2, 3])\n",
    "print(my_var)"
   ]
  },
  {
   "cell_type": "markdown",
   "metadata": {},
   "source": [
    "You can have several **`return`** in a function. Function execution terminates as soon as you reach one of them."
   ]
  },
  {
   "cell_type": "code",
   "execution_count": 11,
   "metadata": {
    "collapsed": true
   },
   "outputs": [],
   "source": [
    "# several return \n",
    "def f(a, b, c):\n",
    "    if b < 10:\n",
    "        return a\n",
    "    else:\n",
    "        return c"
   ]
  },
  {
   "cell_type": "code",
   "execution_count": 12,
   "metadata": {
    "collapsed": false
   },
   "outputs": [
    {
     "data": {
      "text/plain": [
       "1"
      ]
     },
     "execution_count": 12,
     "metadata": {},
     "output_type": "execute_result"
    }
   ],
   "source": [
    "f(1, 9, 12)"
   ]
  },
  {
   "cell_type": "code",
   "execution_count": 13,
   "metadata": {
    "collapsed": false
   },
   "outputs": [
    {
     "data": {
      "text/plain": [
       "12"
      ]
     },
     "execution_count": 13,
     "metadata": {},
     "output_type": "execute_result"
    }
   ],
   "source": [
    "f(1, 100, 12)"
   ]
  },
  {
   "cell_type": "markdown",
   "metadata": {},
   "source": [
    "## II. Scope and namespace\n",
    "Scope and namespace are subtle notions that you need to understand. In a program, you can assign/reference an object to a variable/name in various locations. For instance below:"
   ]
  },
  {
   "cell_type": "code",
   "execution_count": 18,
   "metadata": {
    "collapsed": true
   },
   "outputs": [],
   "source": [
    "a = 2 # you first assign 2 to variable a \n",
    "\n",
    "def f():\n",
    "    a = 3 # then rebind a to 3 in function body\n",
    "    print('Value of \"a\" inside function body: ', a)"
   ]
  },
  {
   "cell_type": "code",
   "execution_count": 19,
   "metadata": {
    "collapsed": false
   },
   "outputs": [
    {
     "name": "stdout",
     "output_type": "stream",
     "text": [
      "Value of \"a\" inside function body:  3\n",
      "Value of \"a\" outside function body:  2\n"
     ]
    }
   ],
   "source": [
    "f()\n",
    "print('Value of \"a\" outside function body: ', a)"
   ]
  },
  {
   "cell_type": "markdown",
   "metadata": {},
   "source": [
    "Instead in an other configuration:"
   ]
  },
  {
   "cell_type": "code",
   "execution_count": 20,
   "metadata": {
    "collapsed": false
   },
   "outputs": [
    {
     "name": "stdout",
     "output_type": "stream",
     "text": [
      "Value of \"a\" inside function body:  2\n",
      "Value of \"a\" outside function body:  2\n"
     ]
    }
   ],
   "source": [
    "a = 2 # you first assign 2 to variable a \n",
    "\n",
    "def f():\n",
    "    print('Value of \"a\" inside function body: ', a)\n",
    "\n",
    "f()\n",
    "print('Value of \"a\" outside function body: ', a)"
   ]
  },
  {
   "cell_type": "markdown",
   "metadata": {},
   "source": [
    "### II.1 The \"LOG\" rule"
   ]
  },
  {
   "cell_type": "markdown",
   "metadata": {},
   "source": [
    "You notice that we can assign and reference a variable in different locations and that might be ambiguous. To clarify these situations, a simple rule is defined based on notions of **namespace**, **scope** and **block code** which simply define, loosely speaking, regions of your code. \n",
    "\n",
    "A mnemotechnic way to remember this rule is the acronym **LOG**: \n",
    "* **L**ocal (in function's body)\n",
    "* **O**uter function (in \"englobing\" functions)\n",
    "* **G**lobal (outside functions - module scope)\n",
    "\n",
    "![alt text](img/scopes.png)"
   ]
  },
  {
   "cell_type": "markdown",
   "metadata": {},
   "source": [
    "* **Example 1**: global scope"
   ]
  },
  {
   "cell_type": "code",
   "execution_count": 23,
   "metadata": {
    "collapsed": false
   },
   "outputs": [
    {
     "name": "stdout",
     "output_type": "stream",
     "text": [
      "1\n",
      "1\n",
      "1\n"
     ]
    }
   ],
   "source": [
    "a, b = 1, 1 \n",
    "for i in range(3):\n",
    "    print(a) # What's the value of a ?"
   ]
  },
  {
   "cell_type": "markdown",
   "metadata": {},
   "source": [
    "**Question**: What's the value of **`a`** when printed in the `for` loop? \n",
    "\n",
    "1. Is **`a`** assigned in **L**ocal scope (function's body)? **NO**\n",
    "2. Is **`a`** assigned in **O**uter function(s)? **NO**\n",
    "2. Is **`a`** assigned in **G**lobal scope (outside any functions in my program's file)? **YES**  and it has value **`1`**."
   ]
  },
  {
   "cell_type": "markdown",
   "metadata": {},
   "source": [
    "* **Example 2**: local and global scope"
   ]
  },
  {
   "cell_type": "code",
   "execution_count": 25,
   "metadata": {
    "collapsed": true
   },
   "outputs": [],
   "source": [
    "a, b = 1, 1 \n",
    "\n",
    "def f():\n",
    "    b, c = 2, 3\n",
    "    print(a, b, c)"
   ]
  },
  {
   "cell_type": "markdown",
   "metadata": {},
   "source": [
    "**Question**: What's the values of **`a, b, c`** when printed in function's body? \n",
    " \n",
    "** The case of `a`:** \n",
    "1. Is **`a`** assigned in **L**ocal scope? **NO**\n",
    "2. Is **`a`** assigned in **O**uter function(s)? **NO**\n",
    "2. Is **`a`** assigned in **G**lobal scope?  **YES**  and it has value **`1`**.\n",
    "\n",
    "** The case of `b`:** \n",
    "1. Is **`b`** assigned in **L**ocal scope? **YES** and it has value **`2`**.\n",
    "\n",
    "** The case of `c`:** \n",
    "1. Is **`c`** assigned in **L**ocal scope? **YES** and it has value **`3`**."
   ]
  },
  {
   "cell_type": "code",
   "execution_count": 28,
   "metadata": {
    "collapsed": false
   },
   "outputs": [
    {
     "name": "stdout",
     "output_type": "stream",
     "text": [
      "1 2 3\n"
     ]
    }
   ],
   "source": [
    "# Let's check\n",
    "f()"
   ]
  },
  {
   "cell_type": "markdown",
   "metadata": {},
   "source": [
    "Now what if we try to print **`b` and `c`** outside the function (in Global scope)?"
   ]
  },
  {
   "cell_type": "markdown",
   "metadata": {},
   "source": [
    "* Is **`b`** assigned in global scope? **YES** and it has value **1**"
   ]
  },
  {
   "cell_type": "code",
   "execution_count": 33,
   "metadata": {
    "collapsed": false
   },
   "outputs": [
    {
     "name": "stdout",
     "output_type": "stream",
     "text": [
      "1\n"
     ]
    }
   ],
   "source": [
    "print(b)"
   ]
  },
  {
   "cell_type": "markdown",
   "metadata": {},
   "source": [
    "* Is **`c`** assigned in global scope? **NO** => End of look up sequence => ERROR"
   ]
  },
  {
   "cell_type": "code",
   "execution_count": 35,
   "metadata": {
    "collapsed": false
   },
   "outputs": [
    {
     "ename": "NameError",
     "evalue": "name 'c' is not defined",
     "output_type": "error",
     "traceback": [
      "\u001b[0;31m---------------------------------------------------------------------------\u001b[0m",
      "\u001b[0;31mNameError\u001b[0m                                 Traceback (most recent call last)",
      "\u001b[0;32m<ipython-input-35-5315f3e3adca>\u001b[0m in \u001b[0;36m<module>\u001b[0;34m()\u001b[0m\n\u001b[0;32m----> 1\u001b[0;31m \u001b[0mprint\u001b[0m\u001b[0;34m(\u001b[0m\u001b[0mc\u001b[0m\u001b[0;34m)\u001b[0m\u001b[0;34m\u001b[0m\u001b[0m\n\u001b[0m",
      "\u001b[0;31mNameError\u001b[0m: name 'c' is not defined"
     ]
    }
   ],
   "source": [
    "print(c)"
   ]
  },
  {
   "cell_type": "markdown",
   "metadata": {},
   "source": [
    "* **Example 3**: locals (with nested functions) and global scope\n"
   ]
  },
  {
   "cell_type": "code",
   "execution_count": 37,
   "metadata": {
    "collapsed": true
   },
   "outputs": [],
   "source": [
    "a, b, c = 1, 1, 1\n",
    "\n",
    "def g():\n",
    "    b, c = 2, 3\n",
    "    def h():\n",
    "        c = 5\n",
    "        print(a, b, c)\n",
    "    h()"
   ]
  },
  {
   "cell_type": "markdown",
   "metadata": {},
   "source": [
    "What will be the values of printed **`a, b, c`** in function **`h`**?"
   ]
  },
  {
   "cell_type": "markdown",
   "metadata": {},
   "source": [
    "** The case of `a`**\n",
    "1. **`a`** is not assigned in h (local scope)\n",
    "2. **`a`** is not assigned in g (local scope - outer function)\n",
    "3. **`a`** is assigned in global scope -> **`a`** = 1\n",
    "\n",
    "** The case of `b`**\n",
    "1. **`b`** is not assigned in h (local scope)\n",
    "2. **`b`** is assigned in g (local scope - outer function) -> **`b`** = 2\n",
    "\n",
    "** The case of `c`**\n",
    "1. **`c`** is assigned in h (local scope) -> **`c`** = 5"
   ]
  },
  {
   "cell_type": "code",
   "execution_count": 38,
   "metadata": {
    "collapsed": false
   },
   "outputs": [
    {
     "name": "stdout",
     "output_type": "stream",
     "text": [
      "1 2 5\n"
     ]
    }
   ],
   "source": [
    "g()"
   ]
  },
  {
   "cell_type": "markdown",
   "metadata": {},
   "source": [
    "### II.2 Scope and shared reference\n",
    "Scope and shared reference are often confused by beginners so let's clarify it. First let's recall that:\n",
    "\n",
    "* **scope** is related to **variables**\n",
    "* and **shared reference** to **objects**"
   ]
  },
  {
   "cell_type": "code",
   "execution_count": 42,
   "metadata": {
    "collapsed": true
   },
   "outputs": [],
   "source": [
    "# Create a list (mutable object)\n",
    "my_list = [1, 2]\n",
    "\n",
    "def f(a_list):\n",
    "    a_list.append(3)\n",
    "    a_list = [3, 5, 7]"
   ]
  },
  {
   "cell_type": "code",
   "execution_count": 43,
   "metadata": {
    "collapsed": false
   },
   "outputs": [
    {
     "name": "stdout",
     "output_type": "stream",
     "text": [
      "[1, 2, 3]\n"
     ]
    }
   ],
   "source": [
    "f(my_list)\n",
    "print(my_list)"
   ]
  },
  {
   "cell_type": "markdown",
   "metadata": {},
   "source": [
    "What's happened above?\n",
    "\n",
    "1. First, remember that arguments are passed by reference, so **`a_list`** (local variable) will simply binds/refers to the passed list (here **`my_list`**);\n",
    "\n",
    "2. So when you **`append(3)`** to **`a_list`** and given it references the same object as **`my_list`**, you modify the original list;\n",
    "\n",
    "3. When you rebind **`a_list`** to **`[3, 5, 7]`** you rebind the local variable/name to a new object but this new object and reference will be destroyed as soon as function execution terminates and hence not visible outside the function."
   ]
  },
  {
   "cell_type": "markdown",
   "metadata": {},
   "source": [
    "### II.3 Making local variables global"
   ]
  },
  {
   "cell_type": "code",
   "execution_count": 46,
   "metadata": {
    "collapsed": false
   },
   "outputs": [
    {
     "name": "stdout",
     "output_type": "stream",
     "text": [
      "10\n"
     ]
    }
   ],
   "source": [
    "a = 10\n",
    "\n",
    "def f():\n",
    "    a = 11\n",
    "\n",
    "f()\n",
    "print(a)"
   ]
  },
  {
   "cell_type": "markdown",
   "metadata": {},
   "source": [
    "As discussed in previous chapter, the modification **`a = 11`** remains local. This said, there is a trick in Python using the assignement **`global`** (directive to the parser)."
   ]
  },
  {
   "cell_type": "code",
   "execution_count": 47,
   "metadata": {
    "collapsed": false
   },
   "outputs": [
    {
     "name": "stdout",
     "output_type": "stream",
     "text": [
      "11\n"
     ]
    }
   ],
   "source": [
    "a = 10\n",
    "\n",
    "def f():\n",
    "    global a\n",
    "    a = 11\n",
    "\n",
    "f()\n",
    "print(a)"
   ]
  },
  {
   "cell_type": "code",
   "execution_count": 49,
   "metadata": {
    "collapsed": false
   },
   "outputs": [
    {
     "name": "stdout",
     "output_type": "stream",
     "text": [
      "110\n"
     ]
    }
   ],
   "source": [
    "# or\n",
    "x = 100\n",
    "def f():\n",
    "    global x\n",
    "    x = x + 10\n",
    "\n",
    "f()\n",
    "print(x)"
   ]
  },
  {
   "cell_type": "markdown",
   "metadata": {},
   "source": [
    "**THIS IS A BAD PRACTICE AND SHOULD BE AVOIDED**. This is a perfect way to create \"spaghetti code\" https://en.wikipedia.org/wiki/Spaghetti_code: variables referenced here and there in your program. It does not make a big difference for small programs but make bigger one unmaintanable and unscalable."
   ]
  },
  {
   "cell_type": "markdown",
   "metadata": {},
   "source": [
    "### II.3 From procedures to pure functions\n",
    "When a function does not return any value and perform some actions in its body that modify the state of your program (update a global variable, print a message, input/output actions, ...) this modification is called **side effect** and the function is rather a **procedure**. We saw above that's updating a global variable inside a function make your code unscalable and difficult to maintain. In the example above, it is implicit that the function **`f`** modifies the global variable **`x`**. \n",
    "\n",
    "Instead, to make your code maintanable by you and potentially by **others**, this is a good practice to make things **explicit**."
   ]
  },
  {
   "cell_type": "markdown",
   "metadata": {},
   "source": [
    "* **Everything implicit**"
   ]
  },
  {
   "cell_type": "code",
   "execution_count": 50,
   "metadata": {
    "collapsed": false
   },
   "outputs": [
    {
     "name": "stdout",
     "output_type": "stream",
     "text": [
      "110\n"
     ]
    }
   ],
   "source": [
    "x = 100\n",
    "def f():\n",
    "    global x\n",
    "    x = x + 10\n",
    "\n",
    "f()\n",
    "print(x)"
   ]
  },
  {
   "cell_type": "markdown",
   "metadata": {},
   "source": [
    "* **Improvement 1**\n",
    "\n",
    "Make it explicit that the **`function f`** modify variable **`x`** (as the returned value is assigned to **`x`** itself)."
   ]
  },
  {
   "cell_type": "code",
   "execution_count": 52,
   "metadata": {
    "collapsed": false
   },
   "outputs": [
    {
     "name": "stdout",
     "output_type": "stream",
     "text": [
      "110\n"
     ]
    }
   ],
   "source": [
    "x = 100\n",
    "\n",
    "def f():\n",
    "    return x + 10\n",
    "\n",
    "x = f()\n",
    "print(x)"
   ]
  },
  {
   "cell_type": "markdown",
   "metadata": {},
   "source": [
    "* **Improvement 2**\n",
    "\n",
    "Make it (more or less) explicit that the **`function f`** takes something \"like\" **`x`** as argument. We have here what's called a **pure function**:\n",
    "\n",
    "* The function always evaluates the same result value given the same argument value(s). The function result value cannot depend on any hidden information or state that may change while program execution proceeds or between different executions of the program, nor can it depend on any external input from I/O devices (usually—see below).\n",
    "\n",
    "* Evaluation of the result does not cause any semantically observable side effect or output, such as mutation of mutable objects or output to I/O devices (usually—see below).\n",
    "\n",
    "https://en.wikipedia.org/wiki/Pure_function: "
   ]
  },
  {
   "cell_type": "code",
   "execution_count": 63,
   "metadata": {
    "collapsed": false
   },
   "outputs": [
    {
     "name": "stdout",
     "output_type": "stream",
     "text": [
      "110\n"
     ]
    }
   ],
   "source": [
    "x = 100\n",
    "\n",
    "def f(x):\n",
    "    return x + 10\n",
    "\n",
    "x = f(x)\n",
    "print(x)"
   ]
  },
  {
   "cell_type": "markdown",
   "metadata": {},
   "source": [
    "* **Improvement 3**\n",
    "\n",
    "Document your function with a **Docstring**."
   ]
  },
  {
   "cell_type": "code",
   "execution_count": 67,
   "metadata": {
    "collapsed": false
   },
   "outputs": [
    {
     "name": "stdout",
     "output_type": "stream",
     "text": [
      "110\n",
      "Help on function f in module __main__:\n",
      "\n",
      "f(x)\n",
      "    Add value 10 to the argument passed\n",
      "    ...\n",
      "    \n",
      "    Arguments\n",
      "    ---------\n",
      "    x     : int\n",
      "            The integer to which we add 10\n",
      "    \n",
      "    Returns\n",
      "    -------\n",
      "    The sum of x and 10\n",
      "\n"
     ]
    }
   ],
   "source": [
    "x = 100\n",
    "\n",
    "def f(x):\n",
    "    \"\"\"\n",
    "    Add value 10 to the argument passed\n",
    "    ...\n",
    "    \n",
    "    Arguments\n",
    "    ---------\n",
    "    x     : int\n",
    "            The integer to which we add 10\n",
    "    \n",
    "    Returns\n",
    "    -------\n",
    "    The sum of x and 10\n",
    "    \"\"\"\n",
    "    return x + 10\n",
    "\n",
    "x = f(x)\n",
    "print(x)\n",
    "help(f)"
   ]
  },
  {
   "cell_type": "markdown",
   "metadata": {},
   "source": [
    "Of course, this is a bit extreme for such a simple function but this is highly important generally speaking to document your function that way."
   ]
  },
  {
   "cell_type": "markdown",
   "metadata": {},
   "source": [
    "## III. Arguments"
   ]
  },
  {
   "cell_type": "markdown",
   "metadata": {},
   "source": [
    "* Passing arguments **positionally**"
   ]
  },
  {
   "cell_type": "code",
   "execution_count": 71,
   "metadata": {
    "collapsed": true
   },
   "outputs": [],
   "source": [
    "def phone_book(name, surname, number):\n",
    "    return {'name': name, 'surname': surname, 'phone_number': number}"
   ]
  },
  {
   "cell_type": "code",
   "execution_count": 72,
   "metadata": {
    "collapsed": false
   },
   "outputs": [
    {
     "data": {
      "text/plain": [
       "{'name': 'John', 'phone_number': '08965434', 'surname': 'Cheng'}"
      ]
     },
     "execution_count": 72,
     "metadata": {},
     "output_type": "execute_result"
    }
   ],
   "source": [
    "# Positional \n",
    "phone_book('John', 'Cheng', '08965434')"
   ]
  },
  {
   "cell_type": "markdown",
   "metadata": {},
   "source": [
    "This is straightforward but you need to remember the order of the arguments. This is easier to remember names only."
   ]
  },
  {
   "cell_type": "markdown",
   "metadata": {},
   "source": [
    "* Passing **named arguments**"
   ]
  },
  {
   "cell_type": "code",
   "execution_count": 75,
   "metadata": {
    "collapsed": false
   },
   "outputs": [
    {
     "data": {
      "text/plain": [
       "{'name': 'John', 'phone_number': '08965434', 'surname': 'Cheng'}"
      ]
     },
     "execution_count": 75,
     "metadata": {},
     "output_type": "execute_result"
    }
   ],
   "source": [
    "# Named arguments\n",
    "phone_book(name = 'John', number = '08965434', surname = 'Cheng')"
   ]
  },
  {
   "cell_type": "markdown",
   "metadata": {},
   "source": [
    "Now what if we want to add an entry in our phone book but leaving the phone number field empty for now? "
   ]
  },
  {
   "cell_type": "code",
   "execution_count": 78,
   "metadata": {
    "collapsed": false
   },
   "outputs": [
    {
     "data": {
      "text/plain": [
       "{'name': 'John', 'phone_number': None, 'surname': 'Cheng'}"
      ]
     },
     "execution_count": 78,
     "metadata": {},
     "output_type": "execute_result"
    }
   ],
   "source": [
    "# We could do the following\n",
    "phone_book(name = 'John', number = '', surname = 'Cheng')\n",
    "\n",
    "# or \n",
    "phone_book(name = 'John', number = None, surname = 'Cheng')"
   ]
  },
  {
   "cell_type": "markdown",
   "metadata": {},
   "source": [
    "But the way to encode \"no value\" is left to the user and **might not be consistent**. Instead we prefer to use **default values**:"
   ]
  },
  {
   "cell_type": "markdown",
   "metadata": {},
   "source": [
    "* Defining **default arguments**"
   ]
  },
  {
   "cell_type": "code",
   "execution_count": 81,
   "metadata": {
    "collapsed": false
   },
   "outputs": [
    {
     "data": {
      "text/plain": [
       "{'name': 'John', 'phone_number': '', 'surname': 'Cheng'}"
      ]
     },
     "execution_count": 81,
     "metadata": {},
     "output_type": "execute_result"
    }
   ],
   "source": [
    "def phone_book(name, surname, number = ''):\n",
    "    return {'name': name, 'surname': surname, 'phone_number': number}\n",
    "\n",
    "# That way, when no number is specified the default will be used\n",
    "phone_book(name = 'John', surname = 'Cheng')"
   ]
  },
  {
   "cell_type": "markdown",
   "metadata": {},
   "source": [
    "* Defining functions to **accept any number of arguments**"
   ]
  },
  {
   "cell_type": "code",
   "execution_count": 82,
   "metadata": {
    "collapsed": false
   },
   "outputs": [
    {
     "name": "stdout",
     "output_type": "stream",
     "text": [
      "(1, 2, 3, 'spam')\n"
     ]
    }
   ],
   "source": [
    "# The * argument: all positional arguments will be packed into a tuple\n",
    "def f(*t):\n",
    "    print(t)\n",
    "\n",
    "f(1, 2, 3, 'spam')"
   ]
  },
  {
   "cell_type": "markdown",
   "metadata": {},
   "source": [
    "* Defining functions to **accept any number of named arguments**"
   ]
  },
  {
   "cell_type": "code",
   "execution_count": 83,
   "metadata": {
    "collapsed": false
   },
   "outputs": [
    {
     "name": "stdout",
     "output_type": "stream",
     "text": [
      "{'prenom': 'marc', 'nom': 'durant', 'tel': '9876986745'}\n"
     ]
    }
   ],
   "source": [
    "# The ** argument: all named arguments will be packed into a dictionary\n",
    "def f(**d):\n",
    "    print(d)\n",
    "\n",
    "f(nom = 'durant', prenom = 'marc', tel = '9876986745')"
   ]
  },
  {
   "cell_type": "markdown",
   "metadata": {},
   "source": [
    "* **Unpacking a sequence passed as argument**"
   ]
  },
  {
   "cell_type": "code",
   "execution_count": 90,
   "metadata": {
    "collapsed": false
   },
   "outputs": [
    {
     "name": "stdout",
     "output_type": "stream",
     "text": [
      "1 2\n"
     ]
    }
   ],
   "source": [
    "def f(a, b):\n",
    "    print(a, b)\n",
    "    \n",
    "my_sequence = [1, 2]\n",
    "\n",
    "f(*my_sequence)"
   ]
  },
  {
   "cell_type": "markdown",
   "metadata": {},
   "source": [
    "* **Unpacking values of a dictionary passed as argument**"
   ]
  },
  {
   "cell_type": "code",
   "execution_count": 92,
   "metadata": {
    "collapsed": false
   },
   "outputs": [
    {
     "name": "stdout",
     "output_type": "stream",
     "text": [
      "1 2\n"
     ]
    }
   ],
   "source": [
    "my_dict = {'a': 1, 'b': 2}\n",
    "\n",
    "f(*my_sequence)"
   ]
  }
 ],
 "metadata": {
  "kernelspec": {
   "display_name": "Python [default]",
   "language": "python",
   "name": "python3"
  },
  "language_info": {
   "codemirror_mode": {
    "name": "ipython",
    "version": 3
   },
   "file_extension": ".py",
   "mimetype": "text/x-python",
   "name": "python",
   "nbconvert_exporter": "python",
   "pygments_lexer": "ipython3",
   "version": "3.6.0"
  }
 },
 "nbformat": 4,
 "nbformat_minor": 2
}
