{
 "cells": [
  {
   "cell_type": "markdown",
   "metadata": {
    "collapsed": true
   },
   "source": [
    "#### PYTHON FUNDAMENTALS | FROM BASICS TO ADVANCED ► CHAPTER 2 ► PYTHON LANGUAGE PIECES\n",
    "---"
   ]
  },
  {
   "cell_type": "markdown",
   "metadata": {
    "collapsed": true
   },
   "source": [
    "### I. A slight reference to programming language spectrum\n",
    "\n",
    "The many existing languages can be classified into families based on their model of computation. The top-level division distinguishes between:\n",
    "\n",
    "* **declarative** languages, in which the focus is on **what** the computer is to do and;\n",
    "* **imperative** languages, in which the focus is on **how** the computer should do it.\n",
    "\n",
    "For instance in `SQL` (Structured Query Language) known as a declarative query language, you would specify **what** you want in that way:\n",
    "\n",
    "```\n",
    "SELECT name, age, sex\n",
    "FROM employee_table\n",
    "WHERE location=\"Trieste\"\n",
    "```\n",
    "\n",
    "In example above, you simply specify that you want `name, age, sex` columns from the `employee_table` where `location` column values is equal to `Trieste`. **Declarative** languages are in some sense \"higher level\"; they are more in tune with the programmer's view.\n",
    "\n",
    "**Imperative** languages predominate, however, mainly for performance reasons. In this family, you will find languages like `C` and `Python` among others.\n",
    "\n",
    "For more information on the topic, I recommend getting a copy of that book: \"Programming Language Pragmatics\" from Michael L. Scott https://www.cs.rochester.edu/~scott/pragmatics/."
   ]
  },
  {
   "cell_type": "markdown",
   "metadata": {},
   "source": [
    "## II. The basics elements of Python"
   ]
  },
  {
   "cell_type": "markdown",
   "metadata": {},
   "source": [
    "In a very informal way, a Python program *\"does things with stuffs\"*. The \"stuffs\" are **objects** and you specify what you want to do with them using **statements**. Python provides many built-in types of object by default but you are free to create custom type of object using **classes**. "
   ]
  },
  {
   "cell_type": "markdown",
   "metadata": {},
   "source": [
    "### a. Objects\n",
    "\n",
    "Objects are essentially just pieces of memory, with values and sets of associated operations. As we'll see everything is an object in Python.\n",
    "\n",
    "For instance to create a string of characters \"internet of things\", simply write:"
   ]
  },
  {
   "cell_type": "code",
   "execution_count": 8,
   "metadata": {
    "collapsed": false
   },
   "outputs": [
    {
     "data": {
      "text/plain": [
       "'internet of things'"
      ]
     },
     "execution_count": 8,
     "metadata": {},
     "output_type": "execute_result"
    }
   ],
   "source": [
    "# A literal expression to create a string of character\n",
    "'internet of things'"
   ]
  },
  {
   "cell_type": "code",
   "execution_count": 9,
   "metadata": {
    "collapsed": false
   },
   "outputs": [
    {
     "data": {
      "text/plain": [
       "'0x10f82be88'"
      ]
     },
     "execution_count": 9,
     "metadata": {},
     "output_type": "execute_result"
    }
   ],
   "source": [
    "# This object is stored in memory at the following address\n",
    "hex(id('internet of things'))"
   ]
  },
  {
   "cell_type": "markdown",
   "metadata": {},
   "source": [
    "Every object has a **type** that defines the kinds of things that programs can do with objects of that type. `\"internet of things\"` object has type `str`."
   ]
  },
  {
   "cell_type": "code",
   "execution_count": 10,
   "metadata": {
    "collapsed": false
   },
   "outputs": [
    {
     "data": {
      "text/plain": [
       "str"
      ]
     },
     "execution_count": 10,
     "metadata": {},
     "output_type": "execute_result"
    }
   ],
   "source": [
    "type('internet of things')"
   ]
  },
  {
   "cell_type": "markdown",
   "metadata": {},
   "source": [
    "An object's type determines which operations the object support, or, in other words, which operations you can perform on the data value. For instance, objects of type `str` will support the `uppercase` operation."
   ]
  },
  {
   "cell_type": "code",
   "execution_count": 17,
   "metadata": {
    "collapsed": false
   },
   "outputs": [
    {
     "data": {
      "text/plain": [
       "'INTERNET OF THINGS'"
      ]
     },
     "execution_count": 17,
     "metadata": {},
     "output_type": "execute_result"
    }
   ],
   "source": [
    "'internet of things'.upper()"
   ]
  },
  {
   "cell_type": "markdown",
   "metadata": {},
   "source": [
    "When we say that everything is an object in Python, that's as well the case for `functions`. A `Function` object will have type `function`. Functions are **first class citizens**."
   ]
  },
  {
   "cell_type": "code",
   "execution_count": 49,
   "metadata": {
    "collapsed": false
   },
   "outputs": [
    {
     "data": {
      "text/plain": [
       "function"
      ]
     },
     "execution_count": 49,
     "metadata": {},
     "output_type": "execute_result"
    }
   ],
   "source": [
    "# Fuction declaration statement - will be covered later\n",
    "def square(x):\n",
    "    return x**2\n",
    "\n",
    "type(square)"
   ]
  },
  {
   "cell_type": "code",
   "execution_count": 22,
   "metadata": {
    "collapsed": false
   },
   "outputs": [
    {
     "data": {
      "text/plain": [
       "4"
      ]
     },
     "execution_count": 22,
     "metadata": {},
     "output_type": "execute_result"
    }
   ],
   "source": [
    "# To call the function to get the square of 2\n",
    "square(2)"
   ]
  },
  {
   "cell_type": "markdown",
   "metadata": {},
   "source": [
    "Python provides many built-in types https://docs.python.org/3/library/stdtypes.html such as:"
   ]
  },
  {
   "cell_type": "code",
   "execution_count": 24,
   "metadata": {
    "collapsed": false
   },
   "outputs": [
    {
     "data": {
      "text/plain": [
       "False"
      ]
     },
     "execution_count": 24,
     "metadata": {},
     "output_type": "execute_result"
    }
   ],
   "source": [
    "# Boolean: True, False\n",
    "False"
   ]
  },
  {
   "cell_type": "code",
   "execution_count": 25,
   "metadata": {
    "collapsed": false
   },
   "outputs": [
    {
     "data": {
      "text/plain": [
       "4.534876"
      ]
     },
     "execution_count": 25,
     "metadata": {},
     "output_type": "execute_result"
    }
   ],
   "source": [
    "# Numeric types: int, float, complex\n",
    "4.534876"
   ]
  },
  {
   "cell_type": "code",
   "execution_count": 26,
   "metadata": {
    "collapsed": false
   },
   "outputs": [
    {
     "data": {
      "text/plain": [
       "[1, 4, 6, 'spam']"
      ]
     },
     "execution_count": 26,
     "metadata": {},
     "output_type": "execute_result"
    }
   ],
   "source": [
    "# Sequence types: str, list, tuple, range\n",
    "[1, 4, 6, 'spam'] # list object"
   ]
  },
  {
   "cell_type": "code",
   "execution_count": 27,
   "metadata": {
    "collapsed": false
   },
   "outputs": [
    {
     "data": {
      "text/plain": [
       "{'name': 'Abdus', 'surname': 'Salam', 'year': 1979}"
      ]
     },
     "execution_count": 27,
     "metadata": {},
     "output_type": "execute_result"
    }
   ],
   "source": [
    "# Mapping types: dict\n",
    "{'name': 'Abdus', 'surname': 'Salam', 'year': 1979}"
   ]
  },
  {
   "cell_type": "markdown",
   "metadata": {},
   "source": [
    "and many others ... We will cover in detail each of them in next notebooks. We will see as well how to create custom types using classes."
   ]
  },
  {
   "cell_type": "markdown",
   "metadata": {},
   "source": [
    "#### A word on expressions\n",
    "An **expression** is a phrase of code that produces a value. The simplest expressions are **literals** and **identifiers** (a variable name for instance - see below). Using literals, identifiers and **operator** (arithmetic, boolean, membership test, ...). So using expressions, you can build new objects/values out of existing ones."
   ]
  },
  {
   "cell_type": "code",
   "execution_count": 52,
   "metadata": {
    "collapsed": false
   },
   "outputs": [
    {
     "data": {
      "text/plain": [
       "8.23"
      ]
     },
     "execution_count": 52,
     "metadata": {},
     "output_type": "execute_result"
    }
   ],
   "source": [
    "# Three built-in objects\n",
    "a = 2\n",
    "b = 5.23\n",
    "c = True\n",
    "\n",
    "# An expression producing a value out of the \n",
    "a + b + c"
   ]
  },
  {
   "cell_type": "markdown",
   "metadata": {},
   "source": [
    "Note as the `c` boolean object has been **coerced** automatically by Python interpreter to a numeric type, here `1`. "
   ]
  },
  {
   "cell_type": "markdown",
   "metadata": {},
   "source": [
    "Now that we have objects, we need to specify what to do with them."
   ]
  },
  {
   "cell_type": "markdown",
   "metadata": {},
   "source": [
    "### b. Statements\n",
    "In simple terms, statements are the things you write to tell Python what your programs should do. Less informally, Python is a procedural, statement-based language; by combining statements, you specify a procedure that Python performs to satisfy a program’s goals."
   ]
  },
  {
   "cell_type": "markdown",
   "metadata": {},
   "source": [
    "#### b.1 The assignement statement ► to create references\n",
    "We saw above how to create objects using **literal** expressions in memory, but if you want to use these objects in further part of your script/program you need a way to access them. This is called a **reference**. A **reference** is a name that refers to the location in memory of a value (object). To create such reference, you use an **assignement statement**. You **bind** a **variable** (a name) holding a reference to the object. You are quite free to choose whatever name you want assumed it is meaningful and it is not a Python keyword."
   ]
  },
  {
   "cell_type": "code",
   "execution_count": 1,
   "metadata": {
    "collapsed": false
   },
   "outputs": [
    {
     "name": "stdout",
     "output_type": "stream",
     "text": [
      "\n",
      "Here is a list of the Python keywords.  Enter any keyword to get more help.\n",
      "\n",
      "False               def                 if                  raise\n",
      "None                del                 import              return\n",
      "True                elif                in                  try\n",
      "and                 else                is                  while\n",
      "as                  except              lambda              with\n",
      "assert              finally             nonlocal            yield\n",
      "break               for                 not                 \n",
      "class               from                or                  \n",
      "continue            global              pass                \n",
      "\n"
     ]
    }
   ],
   "source": [
    "help('keywords')"
   ]
  },
  {
   "cell_type": "code",
   "execution_count": 29,
   "metadata": {
    "collapsed": true
   },
   "outputs": [],
   "source": [
    "# An assignement statement\n",
    "topic = 'internet of things' # We bind the variable named 'topic' to the str object 'internet of things'"
   ]
  },
  {
   "cell_type": "code",
   "execution_count": 30,
   "metadata": {
    "collapsed": false
   },
   "outputs": [
    {
     "data": {
      "text/plain": [
       "'internet of things'"
      ]
     },
     "execution_count": 30,
     "metadata": {},
     "output_type": "execute_result"
    }
   ],
   "source": [
    "# Now the variable 'topic' is bound to the object\n",
    "topic"
   ]
  },
  {
   "cell_type": "code",
   "execution_count": 32,
   "metadata": {
    "collapsed": false
   },
   "outputs": [
    {
     "data": {
      "text/plain": [
       "'0x10f2f2e40'"
      ]
     },
     "execution_count": 32,
     "metadata": {},
     "output_type": "execute_result"
    }
   ],
   "source": [
    "# And refers to the proper memory address\n",
    "hex(id(topic) )"
   ]
  },
  {
   "cell_type": "markdown",
   "metadata": {},
   "source": [
    "#### A word on dynamic typing\n",
    "This is important to introduce the notion of **dynamic typing**. \n",
    "\n",
    "In `C` for instance you might write the following code:\n",
    "```\n",
    "/* C code */ \n",
    "int num, sum; // explicit declaration \n",
    "num = 5; // now use the variables \n",
    "sum = 10; \n",
    "sum = sum + num;\n",
    "```\n",
    "\n",
    "In `C`, before using a variable you need to specify its type (in the example above `integer`). This is called `static typing`. You constrain the use of your variable by specifying what type of data/value you are expecting at runtime and can optimize memory use and execution speed as well. So, when compiling your `C` program, your compiler will check that all occurrences of your variable is consistent with what you specified.\n",
    "\n",
    "In `Python`, you would write instead:"
   ]
  },
  {
   "cell_type": "code",
   "execution_count": 35,
   "metadata": {
    "collapsed": true
   },
   "outputs": [],
   "source": [
    "# Python code\n",
    "num = 5\n",
    "sum = 10\n",
    "sum = sum + num"
   ]
  },
  {
   "cell_type": "code",
   "execution_count": 34,
   "metadata": {
    "collapsed": false
   },
   "outputs": [
    {
     "name": "stdout",
     "output_type": "stream",
     "text": [
      "15\n"
     ]
    }
   ],
   "source": [
    "print(sum)"
   ]
  },
  {
   "cell_type": "markdown",
   "metadata": {},
   "source": [
    "As you can see, you don't need to specify the type of `num` and `sum` variables. It is determined at **runtime** (when you are executing your script). It means as well that later on, in your program you can **rebind** it:"
   ]
  },
  {
   "cell_type": "code",
   "execution_count": 36,
   "metadata": {
    "collapsed": true
   },
   "outputs": [],
   "source": [
    "# Later on in your script `num` is re-bound to a float object\n",
    "num = 45.567"
   ]
  },
  {
   "cell_type": "markdown",
   "metadata": {},
   "source": [
    "This is called **dynamic typing**. Which is better is really a matter of taste and use case. This is really a sterile debate. So it is important to keep in mind that in Python a **variable has no intrinsic type**. The object to which a refeference is bound at a given time always has a type, but a given reference (variable in our case) may be bound to objects of various types during the program's execution."
   ]
  },
  {
   "cell_type": "markdown",
   "metadata": {},
   "source": [
    "#### b.2 The `if/elif/else` statement ► to select actions\n",
    "You are most probably very familiar with this kind of statement."
   ]
  },
  {
   "cell_type": "code",
   "execution_count": 39,
   "metadata": {
    "collapsed": false
   },
   "outputs": [
    {
     "name": "stdout",
     "output_type": "stream",
     "text": [
      "a higher than b\n"
     ]
    }
   ],
   "source": [
    "a = 5\n",
    "b = 3\n",
    "if a >= b:\n",
    "    print(\"a higher than b\")\n",
    "else:\n",
    "    print(\"b higher than a\")"
   ]
  },
  {
   "cell_type": "markdown",
   "metadata": {},
   "source": [
    "#### b.3 The iteration statement ► to iterate over sequences/iterables"
   ]
  },
  {
   "cell_type": "code",
   "execution_count": 44,
   "metadata": {
    "collapsed": false
   },
   "outputs": [
    {
     "name": "stdout",
     "output_type": "stream",
     "text": [
      "Trying to connect to 176.149.135.210\n",
      "Trying to connect to 176.149.135.211\n",
      "Trying to connect to 176.149.135.212\n",
      "Trying to connect to 176.149.135.213\n"
     ]
    }
   ],
   "source": [
    "ip_address = ['176.149.135.210', '176.149.135.211', '176.149.135.212', '176.149.135.213']\n",
    "\n",
    "for i in ip_address:\n",
    "    print(\"Trying to connect to {}\".format(i))"
   ]
  },
  {
   "cell_type": "markdown",
   "metadata": {},
   "source": [
    "#### b.4 The `def` statement ► to define a function object"
   ]
  },
  {
   "cell_type": "code",
   "execution_count": 46,
   "metadata": {
    "collapsed": true
   },
   "outputs": [],
   "source": [
    "def square(x):\n",
    "    return x**2"
   ]
  },
  {
   "cell_type": "markdown",
   "metadata": {},
   "source": [
    "#### b.5 The `call` statement ► to run functions"
   ]
  },
  {
   "cell_type": "code",
   "execution_count": 53,
   "metadata": {
    "collapsed": false
   },
   "outputs": [
    {
     "data": {
      "text/plain": [
       "64"
      ]
     },
     "execution_count": 53,
     "metadata": {},
     "output_type": "execute_result"
    }
   ],
   "source": [
    "square(8)"
   ]
  },
  {
   "cell_type": "markdown",
   "metadata": {},
   "source": [
    "#### b.6 And many others ..."
   ]
  },
  {
   "cell_type": "markdown",
   "metadata": {},
   "source": [
    "See complete list of Python statements here: https://docs.python.org/3/reference/simple_stmts.html\n",
    "Most of them will be covered in next notebooks."
   ]
  },
  {
   "cell_type": "markdown",
   "metadata": {},
   "source": [
    "## III. To recap\n",
    "\n",
    "So loosely speaking, in Python:\n",
    "* everything is an **object** (including functions)\n",
    "* every object has a **type**\n",
    "* you get access by default to a large and useful base of **built-in** types (str, float, list, tuple, dict, ...)\n",
    "* you can create your own type using **classes** \n",
    "* you can combine objects to produce new values using **expressions**\n",
    "* all of the above are \"stuffs\"\n",
    "* and to do something useful with that \"stuffs\" you use **statements**"
   ]
  }
 ],
 "metadata": {
  "kernelspec": {
   "display_name": "Python [default]",
   "language": "python",
   "name": "python3"
  },
  "language_info": {
   "codemirror_mode": {
    "name": "ipython",
    "version": 3
   },
   "file_extension": ".py",
   "mimetype": "text/x-python",
   "name": "python",
   "nbconvert_exporter": "python",
   "pygments_lexer": "ipython3",
   "version": "3.6.0"
  }
 },
 "nbformat": 4,
 "nbformat_minor": 2
}
