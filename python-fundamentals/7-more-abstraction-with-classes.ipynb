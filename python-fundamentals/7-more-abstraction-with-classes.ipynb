{
 "cells": [
  {
   "cell_type": "markdown",
   "metadata": {
    "collapsed": true
   },
   "source": [
    "#### PYTHON FUNDAMENTALS | FROM BASICS TO ADVANCED ► CHAPTER 7 ► MORE ABSTRACTION WITH CLASSES\n",
    "---\n",
    "So far, we have seen number of Python built-in types (int, float, string, sequences, ...). It is often convenient to create custom ones for dedicated purposes.\n",
    "\n",
    "In this notebook we will cover the important notions of **classes**, **instances**, **inheritance**, ... that provide \n",
    "a flexible framework to create custom types in a powerful and flexible way.\n",
    "\n",
    "A **class** is a kind of factory of **instances**, each time we call a **class**, Python produces a new **instance** with its own **namespace**. \n",
    "\n",
    "Let's clarify and make these new notions concrete."
   ]
  },
  {
   "cell_type": "markdown",
   "metadata": {},
   "source": [
    "### I. Introduction to `classes` and `instances`\n",
    "Let's start by creating a new object of type string (`str`)."
   ]
  },
  {
   "cell_type": "code",
   "execution_count": 176,
   "metadata": {
    "collapsed": true
   },
   "outputs": [],
   "source": [
    "my_string = 'internet of things' # string litteral equivalent to syntax below\n",
    "\n",
    "# or \n",
    "\n",
    "my_string = str('internet of things') # str is called a class constructor (notion to be covered below)"
   ]
  },
  {
   "cell_type": "code",
   "execution_count": 165,
   "metadata": {
    "collapsed": false
   },
   "outputs": [
    {
     "data": {
      "text/plain": [
       "str"
      ]
     },
     "execution_count": 165,
     "metadata": {},
     "output_type": "execute_result"
    }
   ],
   "source": [
    "# Its type is 'str'\n",
    "type(my_string)"
   ]
  },
  {
   "cell_type": "markdown",
   "metadata": {},
   "source": [
    "`my_string` is actually an **instance** of the **class** str (string)."
   ]
  },
  {
   "cell_type": "code",
   "execution_count": 167,
   "metadata": {
    "collapsed": false
   },
   "outputs": [
    {
     "data": {
      "text/plain": [
       "str"
      ]
     },
     "execution_count": 167,
     "metadata": {},
     "output_type": "execute_result"
    }
   ],
   "source": [
    "# To see an instance's class\n",
    "my_string.__class__"
   ]
  },
  {
   "cell_type": "markdown",
   "metadata": {},
   "source": [
    "So, here the Python **class** str is a kind of factory producing **instances** or **objects** of type **str**. Remember that objects are essentially just pieces of memory, with values and sets of associated operations. In the case of an object of type/class string:\n",
    "\n",
    "* the value is simply the string literal: `'internet of things'`\n",
    "* and operations are capitalize, split, ... (44 of them - see below)"
   ]
  },
  {
   "cell_type": "code",
   "execution_count": 175,
   "metadata": {
    "collapsed": false
   },
   "outputs": [
    {
     "data": {
      "text/plain": [
       "['capitalize',\n",
       " 'casefold',\n",
       " 'center',\n",
       " 'count',\n",
       " 'encode',\n",
       " 'endswith',\n",
       " 'expandtabs',\n",
       " 'find',\n",
       " 'format',\n",
       " 'format_map',\n",
       " 'index',\n",
       " 'isalnum',\n",
       " 'isalpha',\n",
       " 'isdecimal',\n",
       " 'isdigit',\n",
       " 'isidentifier',\n",
       " 'islower',\n",
       " 'isnumeric',\n",
       " 'isprintable',\n",
       " 'isspace',\n",
       " 'istitle',\n",
       " 'isupper',\n",
       " 'join',\n",
       " 'ljust',\n",
       " 'lower',\n",
       " 'lstrip',\n",
       " 'maketrans',\n",
       " 'partition',\n",
       " 'replace',\n",
       " 'rfind',\n",
       " 'rindex',\n",
       " 'rjust',\n",
       " 'rpartition',\n",
       " 'rsplit',\n",
       " 'rstrip',\n",
       " 'split',\n",
       " 'splitlines',\n",
       " 'startswith',\n",
       " 'strip',\n",
       " 'swapcase',\n",
       " 'title',\n",
       " 'translate',\n",
       " 'upper',\n",
       " 'zfill']"
      ]
     },
     "execution_count": 175,
     "metadata": {},
     "output_type": "execute_result"
    }
   ],
   "source": [
    "# Print all operations for an instance of type string 'str'\n",
    "[item for item in dir(my_string) if '__' not in item]"
   ]
  },
  {
   "cell_type": "markdown",
   "metadata": {},
   "source": [
    "All good, but now we want to create our custom type/class. Which is the purpose of the rest of this notebook."
   ]
  },
  {
   "cell_type": "markdown",
   "metadata": {},
   "source": [
    "### II. Creating a custom **`class`**"
   ]
  },
  {
   "cell_type": "code",
   "execution_count": 233,
   "metadata": {
    "collapsed": false
   },
   "outputs": [
    {
     "name": "stdout",
     "output_type": "stream",
     "text": [
      "<class '__main__.C'>\n"
     ]
    }
   ],
   "source": [
    "# To create a class C (by convention a class name is capitalized)\n",
    "class C:\n",
    "    x = 1\n",
    "\n",
    "print(C)"
   ]
  },
  {
   "cell_type": "markdown",
   "metadata": {},
   "source": [
    "We've just created a class **`C`** which is in the \"`__main__`\" module (the current one)."
   ]
  },
  {
   "cell_type": "code",
   "execution_count": 234,
   "metadata": {
    "collapsed": true
   },
   "outputs": [],
   "source": [
    "# Now let's create an instance\n",
    "i = C() # instances' name are by convention in lower case."
   ]
  },
  {
   "cell_type": "code",
   "execution_count": 235,
   "metadata": {
    "collapsed": false
   },
   "outputs": [
    {
     "name": "stdout",
     "output_type": "stream",
     "text": [
      "<__main__.C object at 0x10676aa20>\n"
     ]
    }
   ],
   "source": [
    "print(i)"
   ]
  },
  {
   "cell_type": "markdown",
   "metadata": {},
   "source": [
    "**`i`** is an instance of the class **`C`**. In Python each object has its owne namespace, so both **`C`** and  **``i``** have a specific namespace."
   ]
  },
  {
   "cell_type": "code",
   "execution_count": 236,
   "metadata": {
    "collapsed": false
   },
   "outputs": [
    {
     "data": {
      "text/plain": [
       "mappingproxy({'__dict__': <attribute '__dict__' of 'C' objects>,\n",
       "              '__doc__': None,\n",
       "              '__module__': '__main__',\n",
       "              '__weakref__': <attribute '__weakref__' of 'C' objects>,\n",
       "              'x': 1})"
      ]
     },
     "execution_count": 236,
     "metadata": {},
     "output_type": "execute_result"
    }
   ],
   "source": [
    "# To check objects' namespace there is a special method:\n",
    "C.__dict__"
   ]
  },
  {
   "cell_type": "code",
   "execution_count": 237,
   "metadata": {
    "collapsed": false
   },
   "outputs": [
    {
     "data": {
      "text/plain": [
       "{}"
      ]
     },
     "execution_count": 237,
     "metadata": {},
     "output_type": "execute_result"
    }
   ],
   "source": [
    "i.__dict__"
   ]
  },
  {
   "cell_type": "markdown",
   "metadata": {},
   "source": [
    "#### II.1 **`class`** and **instances** special relationship\n",
    "We see that the class **`C`** has several special method plus attribute x in its namespace, while the instance has not yet any attribute in its namespace.\n",
    "\n",
    "In that simple case, at creation, an instance has an empty namespace but there is a **special relationship between an instance and its class**."
   ]
  },
  {
   "cell_type": "code",
   "execution_count": 238,
   "metadata": {
    "collapsed": false
   },
   "outputs": [
    {
     "data": {
      "text/plain": [
       "1"
      ]
     },
     "execution_count": 238,
     "metadata": {},
     "output_type": "execute_result"
    }
   ],
   "source": [
    "# To access an attribute of a class (as we've seen already), use the dot \"**`**`\" notation.\n",
    "C.x"
   ]
  },
  {
   "cell_type": "markdown",
   "metadata": {},
   "source": [
    "But though the instance **`i`** has no attribute in its namespace, when we reference the attribute **`x`** under **`i`** namespace we get the value 1. Indeed, if **`x`** attribute is not found in **`i`** namespace, we then look it up in its class. This is call **inheritance**."
   ]
  },
  {
   "cell_type": "code",
   "execution_count": 202,
   "metadata": {
    "collapsed": false
   },
   "outputs": [
    {
     "data": {
      "text/plain": [
       "1"
      ]
     },
     "execution_count": 202,
     "metadata": {},
     "output_type": "execute_result"
    }
   ],
   "source": [
    "# But though i has no attribute x we still get 1\n",
    "i.x"
   ]
  },
  {
   "cell_type": "markdown",
   "metadata": {},
   "source": [
    "To know which class produced an instance:"
   ]
  },
  {
   "cell_type": "code",
   "execution_count": 203,
   "metadata": {
    "collapsed": false
   },
   "outputs": [
    {
     "data": {
      "text/plain": [
       "__main__.C"
      ]
     },
     "execution_count": 203,
     "metadata": {},
     "output_type": "execute_result"
    }
   ],
   "source": [
    "# Use the special method __class__\n",
    "i.__class__"
   ]
  },
  {
   "cell_type": "markdown",
   "metadata": {},
   "source": [
    "Classes and instances are mutable objects. As such, we can add and modify attributes after object's creation."
   ]
  },
  {
   "cell_type": "code",
   "execution_count": 204,
   "metadata": {
    "collapsed": true
   },
   "outputs": [],
   "source": [
    "# Add an new attribute to the class C\n",
    "C.y = 10"
   ]
  },
  {
   "cell_type": "code",
   "execution_count": 205,
   "metadata": {
    "collapsed": true
   },
   "outputs": [],
   "source": [
    "# Update x attribute\n",
    "C.x = 5"
   ]
  },
  {
   "cell_type": "code",
   "execution_count": 206,
   "metadata": {
    "collapsed": false
   },
   "outputs": [
    {
     "data": {
      "text/plain": [
       "mappingproxy({'__dict__': <attribute '__dict__' of 'C' objects>,\n",
       "              '__doc__': None,\n",
       "              '__module__': '__main__',\n",
       "              '__weakref__': <attribute '__weakref__' of 'C' objects>,\n",
       "              'x': 5,\n",
       "              'y': 10})"
      ]
     },
     "execution_count": 206,
     "metadata": {},
     "output_type": "execute_result"
    }
   ],
   "source": [
    "# Let's check C's namespace:\n",
    "C.__dict__"
   ]
  },
  {
   "cell_type": "code",
   "execution_count": 208,
   "metadata": {
    "collapsed": false
   },
   "outputs": [
    {
     "data": {
      "text/plain": [
       "{}"
      ]
     },
     "execution_count": 208,
     "metadata": {},
     "output_type": "execute_result"
    }
   ],
   "source": [
    "# Now if we check i's namespace we still get an empty one\n",
    "i.__dict__"
   ]
  },
  {
   "cell_type": "code",
   "execution_count": 209,
   "metadata": {
    "collapsed": false
   },
   "outputs": [
    {
     "data": {
      "text/plain": [
       "5"
      ]
     },
     "execution_count": 209,
     "metadata": {},
     "output_type": "execute_result"
    }
   ],
   "source": [
    "# But due to the relationship of inheritance we look them up in its class\n",
    "i.x"
   ]
  },
  {
   "cell_type": "code",
   "execution_count": 210,
   "metadata": {
    "collapsed": false
   },
   "outputs": [
    {
     "data": {
      "text/plain": [
       "10"
      ]
     },
     "execution_count": 210,
     "metadata": {},
     "output_type": "execute_result"
    }
   ],
   "source": [
    "i.y"
   ]
  },
  {
   "cell_type": "markdown",
   "metadata": {},
   "source": [
    "As you see, the **attribute resolution is done dynamically**: though the instance **`i`** has been created before, it is still \"linked\" to the updated version of the class C. \n",
    "\n",
    "Now let's add an attribute to the instance itself:"
   ]
  },
  {
   "cell_type": "code",
   "execution_count": 212,
   "metadata": {
    "collapsed": true
   },
   "outputs": [],
   "source": [
    "i.x = 'a'"
   ]
  },
  {
   "cell_type": "code",
   "execution_count": 213,
   "metadata": {
    "collapsed": false
   },
   "outputs": [
    {
     "data": {
      "text/plain": [
       "'a'"
      ]
     },
     "execution_count": 213,
     "metadata": {},
     "output_type": "execute_result"
    }
   ],
   "source": [
    "i.x"
   ]
  },
  {
   "cell_type": "code",
   "execution_count": 214,
   "metadata": {
    "collapsed": false
   },
   "outputs": [
    {
     "data": {
      "text/plain": [
       "{'x': 'a'}"
      ]
     },
     "execution_count": 214,
     "metadata": {},
     "output_type": "execute_result"
    }
   ],
   "source": [
    "# Check instance's namespace\n",
    "i.__dict__"
   ]
  },
  {
   "cell_type": "markdown",
   "metadata": {},
   "source": [
    "#### II.2 **`class`** and instances attributes"
   ]
  },
  {
   "cell_type": "markdown",
   "metadata": {},
   "source": [
    "In a module we can define functions. Similarly, we can create in a class what's called a **method**. **Methods** are behaviours specific to your custom class."
   ]
  },
  {
   "cell_type": "code",
   "execution_count": 215,
   "metadata": {
    "collapsed": true
   },
   "outputs": [],
   "source": [
    "class C:\n",
    "    x = 1\n",
    "    def f(self, a): # a method takes always as a first arg an instance 'self' by convention\n",
    "        print(self.x)\n",
    "        self.x = a"
   ]
  },
  {
   "cell_type": "markdown",
   "metadata": {},
   "source": [
    "Both **`x`** and **`f`** are **attributes** of the class C (*we will see the subtle difference between variables and attributes later on in this notebook.*)"
   ]
  },
  {
   "cell_type": "code",
   "execution_count": 219,
   "metadata": {
    "collapsed": true
   },
   "outputs": [],
   "source": [
    "i = C()"
   ]
  },
  {
   "cell_type": "code",
   "execution_count": 220,
   "metadata": {
    "collapsed": false
   },
   "outputs": [
    {
     "name": "stdout",
     "output_type": "stream",
     "text": [
      "1\n"
     ]
    }
   ],
   "source": [
    "i.f(5)"
   ]
  },
  {
   "cell_type": "markdown",
   "metadata": {},
   "source": [
    "The **`f`** attribute (the method) is not in **`i`** namespace so Python look it up in its class.\n",
    "\n",
    "When we call the method **`f`** using the dot notation `i.f(5)`; Python converts it behind the scene to:"
   ]
  },
  {
   "cell_type": "code",
   "execution_count": 224,
   "metadata": {
    "collapsed": false
   },
   "outputs": [
    {
     "name": "stdout",
     "output_type": "stream",
     "text": [
      "5\n"
     ]
    }
   ],
   "source": [
    "C.f(i, 5)"
   ]
  },
  {
   "cell_type": "markdown",
   "metadata": {},
   "source": [
    "So that **`self`** refers to **`i`** (the instance) and **`a`** refers to **`5`**."
   ]
  },
  {
   "cell_type": "markdown",
   "metadata": {},
   "source": [
    "### III. Inheritance\n",
    "Let's explore further the relationship between classes and instances and betwenn classes themselves."
   ]
  },
  {
   "cell_type": "markdown",
   "metadata": {},
   "source": [
    "#### III.1 Inheritance tree"
   ]
  },
  {
   "cell_type": "code",
   "execution_count": 239,
   "metadata": {
    "collapsed": true
   },
   "outputs": [],
   "source": [
    "# Let's define two classes (superclasses)\n",
    "class C1:\n",
    "    pass\n",
    "\n",
    "class C2:\n",
    "    pass"
   ]
  },
  {
   "cell_type": "markdown",
   "metadata": {},
   "source": [
    "Now define a class **`C`** which inherits from both **`C1`** and **`C2`**. \n",
    "\n",
    "**Inheritance** just **means** that if we reference an attribute in **`C`** namespace and we don't find it, then we look it up in its parent classes."
   ]
  },
  {
   "cell_type": "code",
   "execution_count": 240,
   "metadata": {
    "collapsed": true
   },
   "outputs": [],
   "source": [
    "# C inherits classes C1 and C2\n",
    "class C(C1, C2):\n",
    "    def func(self):\n",
    "        self.x = 10"
   ]
  },
  {
   "cell_type": "code",
   "execution_count": 241,
   "metadata": {
    "collapsed": true
   },
   "outputs": [],
   "source": [
    "# Now let's create 2 instances:\n",
    "i1 = C()\n",
    "i2 = C()"
   ]
  },
  {
   "cell_type": "markdown",
   "metadata": {},
   "source": [
    "We have created now an **inheritance tree**. If we refer to an attribute in i1:\n",
    "\n",
    "1. we look it up in **`i1`** instance namespace; if not there;\n",
    "2. we look it up in its class **`C`**; if not there;\n",
    "3. we look it up in its superclasses (**`C1`** and **`C2`**)."
   ]
  },
  {
   "cell_type": "markdown",
   "metadata": {},
   "source": [
    "#### III.2 Superclasses, classes and instances"
   ]
  },
  {
   "cell_type": "markdown",
   "metadata": {},
   "source": [
    "A **superclass** is a class that will be used as base class by other classes."
   ]
  },
  {
   "cell_type": "code",
   "execution_count": 296,
   "metadata": {
    "collapsed": true
   },
   "outputs": [],
   "source": [
    "# A superclass with two attributes (methods)\n",
    "class C:\n",
    "    def set_x(self, x):\n",
    "        self.x = x\n",
    "    def get_x(self):\n",
    "        print(self.x)"
   ]
  },
  {
   "cell_type": "code",
   "execution_count": 297,
   "metadata": {
    "collapsed": false
   },
   "outputs": [],
   "source": [
    "# And a subclass inheriting C\n",
    "class UnderC(C):\n",
    "    def get_x(self):\n",
    "        print('In subclass: ', self.x)"
   ]
  },
  {
   "cell_type": "code",
   "execution_count": 298,
   "metadata": {
    "collapsed": true
   },
   "outputs": [],
   "source": [
    "#  Create an instance of C\n",
    "c = C()"
   ]
  },
  {
   "cell_type": "code",
   "execution_count": 299,
   "metadata": {
    "collapsed": true
   },
   "outputs": [],
   "source": [
    "# Create an instance of C\n",
    "under_c = UnderC()"
   ]
  },
  {
   "cell_type": "code",
   "execution_count": 300,
   "metadata": {
    "collapsed": false
   },
   "outputs": [
    {
     "data": {
      "text/plain": [
       "__main__.C"
      ]
     },
     "execution_count": 300,
     "metadata": {},
     "output_type": "execute_result"
    }
   ],
   "source": [
    "c.__class__"
   ]
  },
  {
   "cell_type": "code",
   "execution_count": 301,
   "metadata": {
    "collapsed": false
   },
   "outputs": [
    {
     "data": {
      "text/plain": [
       "__main__.UnderC"
      ]
     },
     "execution_count": 301,
     "metadata": {},
     "output_type": "execute_result"
    }
   ],
   "source": [
    "under_c.__class__"
   ]
  },
  {
   "cell_type": "code",
   "execution_count": 302,
   "metadata": {
    "collapsed": false
   },
   "outputs": [
    {
     "data": {
      "text/plain": [
       "(__main__.C,)"
      ]
     },
     "execution_count": 302,
     "metadata": {},
     "output_type": "execute_result"
    }
   ],
   "source": [
    "# to know superclasses of class UnderC\n",
    "UnderC.__bases__"
   ]
  },
  {
   "cell_type": "markdown",
   "metadata": {},
   "source": [
    "Let's first check what's in instances namespaces:"
   ]
  },
  {
   "cell_type": "code",
   "execution_count": 303,
   "metadata": {
    "collapsed": false
   },
   "outputs": [
    {
     "data": {
      "text/plain": [
       "{}"
      ]
     },
     "execution_count": 303,
     "metadata": {},
     "output_type": "execute_result"
    }
   ],
   "source": [
    "c.__dict__"
   ]
  },
  {
   "cell_type": "code",
   "execution_count": 304,
   "metadata": {
    "collapsed": false
   },
   "outputs": [
    {
     "data": {
      "text/plain": [
       "{}"
      ]
     },
     "execution_count": 304,
     "metadata": {},
     "output_type": "execute_result"
    }
   ],
   "source": [
    "under_c.__dict__"
   ]
  },
  {
   "cell_type": "markdown",
   "metadata": {},
   "source": [
    "Based on the inheritance tree:"
   ]
  },
  {
   "cell_type": "code",
   "execution_count": 305,
   "metadata": {
    "collapsed": false
   },
   "outputs": [],
   "source": [
    "# If we call the method 'set_x' from the instance of the superclass\n",
    "c.set_x(10) "
   ]
  },
  {
   "cell_type": "markdown",
   "metadata": {},
   "source": [
    "**`set_x`** is not in instance's namespace, so we look it up in its class **`C`** and we assign **`10`** to the attribute **`x`** of the instance (which is now added in instance's namespace)."
   ]
  },
  {
   "cell_type": "code",
   "execution_count": 306,
   "metadata": {
    "collapsed": false
   },
   "outputs": [
    {
     "data": {
      "text/plain": [
       "{'x': 10}"
      ]
     },
     "execution_count": 306,
     "metadata": {},
     "output_type": "execute_result"
    }
   ],
   "source": [
    "c.__dict__"
   ]
  },
  {
   "cell_type": "code",
   "execution_count": 307,
   "metadata": {
    "collapsed": false
   },
   "outputs": [
    {
     "name": "stdout",
     "output_type": "stream",
     "text": [
      "10\n"
     ]
    }
   ],
   "source": [
    "c.get_x()"
   ]
  },
  {
   "cell_type": "code",
   "execution_count": 308,
   "metadata": {
    "collapsed": true
   },
   "outputs": [],
   "source": [
    "# Now if we call the method 'set_x' from the instance of the subclass\n",
    "under_c.set_x(20) "
   ]
  },
  {
   "cell_type": "markdown",
   "metadata": {
    "collapsed": true
   },
   "source": [
    "**`set_x`** attribute is not in instance's namespace, so we look it up in its class, not there either, so we look it up in its superclass."
   ]
  },
  {
   "cell_type": "code",
   "execution_count": 309,
   "metadata": {
    "collapsed": false
   },
   "outputs": [
    {
     "data": {
      "text/plain": [
       "{'x': 20}"
      ]
     },
     "execution_count": 309,
     "metadata": {},
     "output_type": "execute_result"
    }
   ],
   "source": [
    "under_c.__dict__"
   ]
  },
  {
   "cell_type": "code",
   "execution_count": 310,
   "metadata": {
    "collapsed": false
   },
   "outputs": [
    {
     "name": "stdout",
     "output_type": "stream",
     "text": [
      "In subclass:  20\n"
     ]
    }
   ],
   "source": [
    "under_c.get_x()"
   ]
  },
  {
   "cell_type": "markdown",
   "metadata": {},
   "source": [
    "#### III.3 Attributes dynamic link"
   ]
  },
  {
   "cell_type": "code",
   "execution_count": 311,
   "metadata": {
    "collapsed": true
   },
   "outputs": [],
   "source": [
    "# Let's define a function\n",
    "def f(self):\n",
    "    print(\"In superclass: \", self.x)"
   ]
  },
  {
   "cell_type": "code",
   "execution_count": 312,
   "metadata": {
    "collapsed": true
   },
   "outputs": [],
   "source": [
    "# Let's bind this function to the attribute (method) get_x (so we update it).\n",
    "C.get_x = f"
   ]
  },
  {
   "cell_type": "code",
   "execution_count": 313,
   "metadata": {
    "collapsed": false
   },
   "outputs": [
    {
     "name": "stdout",
     "output_type": "stream",
     "text": [
      "In superclass:  10\n"
     ]
    }
   ],
   "source": [
    "c.get_x()"
   ]
  },
  {
   "cell_type": "markdown",
   "metadata": {},
   "source": [
    "The concept of inheritance is key in **Object Oriented Programming (OOP)**."
   ]
  },
  {
   "cell_type": "markdown",
   "metadata": {},
   "source": [
    "### IV. Operator overloading"
   ]
  },
  {
   "cell_type": "markdown",
   "metadata": {},
   "source": [
    "In **OOP**, **overloading** a method is to re-define a method in a class which has been defined in a superclass.\n",
    "\n",
    "**Overloading an operator** is to re-define a method which is defined by the language for all classes by default. That way, \n",
    "we can change the default behavior of our custom classes."
   ]
  },
  {
   "cell_type": "markdown",
   "metadata": {},
   "source": [
    "#### IV.1 The **`__init__`** special method"
   ]
  },
  {
   "cell_type": "markdown",
   "metadata": {},
   "source": [
    "Behind the scene, every time you create an instance of a class, Python calls a special method named **`__init__`** wich acts as a **constructor** for the instance. This is a kind of method we can overload to customize the default behaviour of instances creation."
   ]
  },
  {
   "cell_type": "code",
   "execution_count": 319,
   "metadata": {
    "collapsed": true
   },
   "outputs": [],
   "source": [
    "# Let's define a class\n",
    "class C:\n",
    "    def set_x(self, x):\n",
    "        self.x = x\n",
    "    def get_x(self):\n",
    "        print(self.x)"
   ]
  },
  {
   "cell_type": "code",
   "execution_count": 320,
   "metadata": {
    "collapsed": true
   },
   "outputs": [],
   "source": [
    "i = C()"
   ]
  },
  {
   "cell_type": "code",
   "execution_count": 321,
   "metadata": {
    "collapsed": false
   },
   "outputs": [
    {
     "ename": "AttributeError",
     "evalue": "'C' object has no attribute 'x'",
     "output_type": "error",
     "traceback": [
      "\u001b[0;31m---------------------------------------------------------------------------\u001b[0m",
      "\u001b[0;31mAttributeError\u001b[0m                            Traceback (most recent call last)",
      "\u001b[0;32m<ipython-input-321-06f1ecd28bf4>\u001b[0m in \u001b[0;36m<module>\u001b[0;34m()\u001b[0m\n\u001b[0;32m----> 1\u001b[0;31m \u001b[0mi\u001b[0m\u001b[0;34m.\u001b[0m\u001b[0mget_x\u001b[0m\u001b[0;34m(\u001b[0m\u001b[0;34m)\u001b[0m\u001b[0;34m\u001b[0m\u001b[0m\n\u001b[0m",
      "\u001b[0;32m<ipython-input-319-6923e75c7362>\u001b[0m in \u001b[0;36mget_x\u001b[0;34m(self)\u001b[0m\n\u001b[1;32m      4\u001b[0m         \u001b[0mself\u001b[0m\u001b[0;34m.\u001b[0m\u001b[0mx\u001b[0m \u001b[0;34m=\u001b[0m \u001b[0mx\u001b[0m\u001b[0;34m\u001b[0m\u001b[0m\n\u001b[1;32m      5\u001b[0m     \u001b[0;32mdef\u001b[0m \u001b[0mget_x\u001b[0m\u001b[0;34m(\u001b[0m\u001b[0mself\u001b[0m\u001b[0;34m)\u001b[0m\u001b[0;34m:\u001b[0m\u001b[0;34m\u001b[0m\u001b[0m\n\u001b[0;32m----> 6\u001b[0;31m         \u001b[0mprint\u001b[0m\u001b[0;34m(\u001b[0m\u001b[0mself\u001b[0m\u001b[0;34m.\u001b[0m\u001b[0mx\u001b[0m\u001b[0;34m)\u001b[0m\u001b[0;34m\u001b[0m\u001b[0m\n\u001b[0m",
      "\u001b[0;31mAttributeError\u001b[0m: 'C' object has no attribute 'x'"
     ]
    }
   ],
   "source": [
    "i.get_x()"
   ]
  },
  {
   "cell_type": "markdown",
   "metadata": {},
   "source": [
    "**Why do we get an error?** \n",
    "\n",
    "1. **`get_x`** attribute is not in instance's namespace\n",
    "2. so we look it up in its class, we find it \n",
    "3. in **`get_x`** we try to print the attribute **`x`** of the instance but ..."
   ]
  },
  {
   "cell_type": "code",
   "execution_count": 324,
   "metadata": {
    "collapsed": false
   },
   "outputs": [
    {
     "data": {
      "text/plain": [
       "{}"
      ]
     },
     "execution_count": 324,
     "metadata": {},
     "output_type": "execute_result"
    }
   ],
   "source": [
    "# instance's namespace is empty\n",
    "i.__dict__"
   ]
  },
  {
   "cell_type": "markdown",
   "metadata": {},
   "source": [
    "This is where the special method **`__init__`** (a constructor) plays a role. This special method is always called during instance creation, so this is the place where you can intialize instance's attribute or assign them default values."
   ]
  },
  {
   "cell_type": "code",
   "execution_count": 325,
   "metadata": {
    "collapsed": true
   },
   "outputs": [],
   "source": [
    "# We overload the __init__ special method\n",
    "class C:\n",
    "    def __init__(self):\n",
    "        print('In C')\n",
    "        self.x = 0 # default value\n",
    "    def set_x(self, x):\n",
    "        self.x = x\n",
    "    def get_x(self):\n",
    "        print(self.x)"
   ]
  },
  {
   "cell_type": "code",
   "execution_count": 326,
   "metadata": {
    "collapsed": false
   },
   "outputs": [
    {
     "name": "stdout",
     "output_type": "stream",
     "text": [
      "In C\n"
     ]
    }
   ],
   "source": [
    "i = C()"
   ]
  },
  {
   "cell_type": "code",
   "execution_count": 327,
   "metadata": {
    "collapsed": false
   },
   "outputs": [
    {
     "data": {
      "text/plain": [
       "{'x': 0}"
      ]
     },
     "execution_count": 327,
     "metadata": {},
     "output_type": "execute_result"
    }
   ],
   "source": [
    "# let's take a look at instance's namespace\n",
    "i.__dict__"
   ]
  },
  {
   "cell_type": "code",
   "execution_count": 328,
   "metadata": {
    "collapsed": false
   },
   "outputs": [
    {
     "name": "stdout",
     "output_type": "stream",
     "text": [
      "0\n"
     ]
    }
   ],
   "source": [
    "i.get_x()"
   ]
  },
  {
   "cell_type": "markdown",
   "metadata": {},
   "source": [
    "We get rid of the error as we initalized **`x`** attributes when we created the instance."
   ]
  },
  {
   "cell_type": "code",
   "execution_count": 329,
   "metadata": {
    "collapsed": true
   },
   "outputs": [],
   "source": [
    "# Another example where we can explicitely specify \"x\" the default value\n",
    "class C:\n",
    "    def __init__(self, a):\n",
    "        print('In C')\n",
    "        self.x = a \n",
    "    def set_x(self, x):\n",
    "        self.x = x\n",
    "    def get_x(self):\n",
    "        print(self.x)"
   ]
  },
  {
   "cell_type": "code",
   "execution_count": 330,
   "metadata": {
    "collapsed": false
   },
   "outputs": [
    {
     "name": "stdout",
     "output_type": "stream",
     "text": [
      "In C\n"
     ]
    }
   ],
   "source": [
    "i = C(10)"
   ]
  },
  {
   "cell_type": "code",
   "execution_count": 331,
   "metadata": {
    "collapsed": false
   },
   "outputs": [
    {
     "data": {
      "text/plain": [
       "{'x': 10}"
      ]
     },
     "execution_count": 331,
     "metadata": {},
     "output_type": "execute_result"
    }
   ],
   "source": [
    "i.__dict__"
   ]
  },
  {
   "cell_type": "markdown",
   "metadata": {},
   "source": [
    "#### IV.2 The **`__init__`** constructor and inheritance"
   ]
  },
  {
   "cell_type": "code",
   "execution_count": 333,
   "metadata": {
    "collapsed": true
   },
   "outputs": [],
   "source": [
    "# Let's create a subclass of C\n",
    "class D(C):\n",
    "    def __init__(self):\n",
    "        print('In D')"
   ]
  },
  {
   "cell_type": "code",
   "execution_count": 334,
   "metadata": {
    "collapsed": false
   },
   "outputs": [
    {
     "name": "stdout",
     "output_type": "stream",
     "text": [
      "In D\n"
     ]
    }
   ],
   "source": [
    "i = D()"
   ]
  },
  {
   "cell_type": "code",
   "execution_count": 335,
   "metadata": {
    "collapsed": false
   },
   "outputs": [
    {
     "ename": "AttributeError",
     "evalue": "'D' object has no attribute 'x'",
     "output_type": "error",
     "traceback": [
      "\u001b[0;31m---------------------------------------------------------------------------\u001b[0m",
      "\u001b[0;31mAttributeError\u001b[0m                            Traceback (most recent call last)",
      "\u001b[0;32m<ipython-input-335-06f1ecd28bf4>\u001b[0m in \u001b[0;36m<module>\u001b[0;34m()\u001b[0m\n\u001b[0;32m----> 1\u001b[0;31m \u001b[0mi\u001b[0m\u001b[0;34m.\u001b[0m\u001b[0mget_x\u001b[0m\u001b[0;34m(\u001b[0m\u001b[0;34m)\u001b[0m\u001b[0;34m\u001b[0m\u001b[0m\n\u001b[0m",
      "\u001b[0;32m<ipython-input-329-14d495d0cf84>\u001b[0m in \u001b[0;36mget_x\u001b[0;34m(self)\u001b[0m\n\u001b[1;32m      7\u001b[0m         \u001b[0mself\u001b[0m\u001b[0;34m.\u001b[0m\u001b[0mx\u001b[0m \u001b[0;34m=\u001b[0m \u001b[0mx\u001b[0m\u001b[0;34m\u001b[0m\u001b[0m\n\u001b[1;32m      8\u001b[0m     \u001b[0;32mdef\u001b[0m \u001b[0mget_x\u001b[0m\u001b[0;34m(\u001b[0m\u001b[0mself\u001b[0m\u001b[0;34m)\u001b[0m\u001b[0;34m:\u001b[0m\u001b[0;34m\u001b[0m\u001b[0m\n\u001b[0;32m----> 9\u001b[0;31m         \u001b[0mprint\u001b[0m\u001b[0;34m(\u001b[0m\u001b[0mself\u001b[0m\u001b[0;34m.\u001b[0m\u001b[0mx\u001b[0m\u001b[0;34m)\u001b[0m\u001b[0;34m\u001b[0m\u001b[0m\n\u001b[0m",
      "\u001b[0;31mAttributeError\u001b[0m: 'D' object has no attribute 'x'"
     ]
    }
   ],
   "source": [
    "i.get_x()"
   ]
  },
  {
   "cell_type": "markdown",
   "metadata": {},
   "source": [
    "We get an error because C's **`__init__`** method is not inherited by default. We need to call it explicitely in subclass constructor."
   ]
  },
  {
   "cell_type": "code",
   "execution_count": 337,
   "metadata": {
    "collapsed": false
   },
   "outputs": [
    {
     "data": {
      "text/plain": [
       "{}"
      ]
     },
     "execution_count": 337,
     "metadata": {},
     "output_type": "execute_result"
    }
   ],
   "source": [
    "# __init__ constructor in superclass has not been called so i's namespace is still empty.\n",
    "i.__dict__"
   ]
  },
  {
   "cell_type": "code",
   "execution_count": 338,
   "metadata": {
    "collapsed": true
   },
   "outputs": [],
   "source": [
    "# So now, let's call superclass constructor explicitely\n",
    "class D(C):\n",
    "    def __init__(self, a):\n",
    "        C.__init__(self, a)\n",
    "        print('In D')"
   ]
  },
  {
   "cell_type": "code",
   "execution_count": 339,
   "metadata": {
    "collapsed": false
   },
   "outputs": [
    {
     "name": "stdout",
     "output_type": "stream",
     "text": [
      "In C\n",
      "In D\n"
     ]
    }
   ],
   "source": [
    "i = D(1098)"
   ]
  },
  {
   "cell_type": "markdown",
   "metadata": {},
   "source": [
    "#### IV.3 Another example of operator overlaoading: **__str__**"
   ]
  },
  {
   "cell_type": "markdown",
   "metadata": {},
   "source": [
    "The **`__str__`** special method is used by Python when we call **`print(your_class_name)`**. It justs print out a representation of your class."
   ]
  },
  {
   "cell_type": "code",
   "execution_count": 349,
   "metadata": {
    "collapsed": false
   },
   "outputs": [
    {
     "name": "stdout",
     "output_type": "stream",
     "text": [
      "<class '__main__.C'>\n"
     ]
    }
   ],
   "source": [
    "# By default when we print a class\n",
    "class C:\n",
    "    pass\n",
    "\n",
    "print(C)"
   ]
  },
  {
   "cell_type": "code",
   "execution_count": 350,
   "metadata": {
    "collapsed": false
   },
   "outputs": [
    {
     "name": "stdout",
     "output_type": "stream",
     "text": [
      "<__main__.C object at 0x107efcd68>\n"
     ]
    }
   ],
   "source": [
    "i = C()\n",
    "# By default when we print an instance\n",
    "print(i)"
   ]
  },
  {
   "cell_type": "markdown",
   "metadata": {},
   "source": [
    "Instead if we overload the **`__str__`** method we can re-define a custom behaviour."
   ]
  },
  {
   "cell_type": "code",
   "execution_count": 351,
   "metadata": {
    "collapsed": true
   },
   "outputs": [],
   "source": [
    "# Here we simply print out the value of attribute \"x\"\n",
    "class C:\n",
    "    def __init__(self, a):\n",
    "        print('In C')\n",
    "        self.x = a \n",
    "    def set_x(self, x):\n",
    "        self.x = x\n",
    "    def get_x(self):\n",
    "        print(self.x)\n",
    "    def __str__(self):\n",
    "        return str(self.x) # __str__ must return a string that why we cast it using str\n",
    "    \n",
    "class D(C):\n",
    "    def __init__(self, a):\n",
    "        C.__init__(self, a)\n",
    "        print('In D')"
   ]
  },
  {
   "cell_type": "code",
   "execution_count": 352,
   "metadata": {
    "collapsed": false
   },
   "outputs": [
    {
     "name": "stdout",
     "output_type": "stream",
     "text": [
      "In C\n"
     ]
    }
   ],
   "source": [
    "i = C(20)"
   ]
  },
  {
   "cell_type": "code",
   "execution_count": 353,
   "metadata": {
    "collapsed": false
   },
   "outputs": [
    {
     "name": "stdout",
     "output_type": "stream",
     "text": [
      "In C\n",
      "In D\n"
     ]
    }
   ],
   "source": [
    "j = D(30)"
   ]
  },
  {
   "cell_type": "code",
   "execution_count": 354,
   "metadata": {
    "collapsed": false
   },
   "outputs": [
    {
     "name": "stdout",
     "output_type": "stream",
     "text": [
      "20\n"
     ]
    }
   ],
   "source": [
    "print(i)"
   ]
  },
  {
   "cell_type": "code",
   "execution_count": 355,
   "metadata": {
    "collapsed": false
   },
   "outputs": [
    {
     "name": "stdout",
     "output_type": "stream",
     "text": [
      "30\n"
     ]
    }
   ],
   "source": [
    "print(j)"
   ]
  },
  {
   "cell_type": "markdown",
   "metadata": {},
   "source": [
    "In Python there are **more than 80 operators** that we can overload. For instance, we can overload the default Python behaviour for **in, +, -, <>, ==, s[i], ...**."
   ]
  },
  {
   "cell_type": "markdown",
   "metadata": {},
   "source": [
    "### V.  When to use functions, modules and classes?\n",
    "The main interest of functions, modules and classes is to factorize a computer program in order to facilitate code re-use, maintainance, reliability and readibility. However they differentiate in various aspects:"
   ]
  },
  {
   "cell_type": "markdown",
   "metadata": {},
   "source": [
    "* **Functions**: \n",
    "    * factorize code\n",
    "    * no state saved after execution\n",
    "    \n",
    "    \n",
    "* **Modules**: \n",
    "    * factorize code (more globally)\n",
    "    * save states (a mutable object inside accessible via dot notation)\n",
    "    * this is essentially a toolbox (functions)\n",
    "    * only one instance by program\n",
    "    \n",
    "    \n",
    "* **Classes**: \n",
    "    * factorize code\n",
    "    * save state\n",
    "    * this is a toolbox (methods)\n",
    "    * multiple instances\n",
    "    * inheritance possible between classes"
   ]
  },
  {
   "cell_type": "markdown",
   "metadata": {},
   "source": [
    "As a rule of thumb:\n",
    "1. **Start simple:**, write a piece of code for a specific behaviour in a straighforward/naive way that works;\n",
    "2. **Refactor** it in a cleaner or optimized way if required;\n",
    "3. **Factorize: **if you start copying and pasting this piece of behaviour, this is time to factorize it in a function to ne re-use when necessary\n",
    "4. when it looks like a **toolbox** with different but consistent functions and need only one instance in a program then use a **module**\n",
    "5. if it looks like a **toolbox**, need to save states, several instances potentially required in a program, and inheritance might make your code cleaner and more scalable, then use **class**."
   ]
  },
  {
   "cell_type": "markdown",
   "metadata": {},
   "source": [
    "### VI.  Assignement and reference for variable and attributes [optional]\n",
    "\n",
    "A quick reminder on terminology:\n",
    "\n",
    "* x is an **`attribute`** when we reference it via the dot notation `object.x`;\n",
    "* x is a **`variable`** when we reference it simply via the `x` notation.\n",
    "\n",
    "**Warning**: Assignement and referencing work differently for variables and attributes."
   ]
  },
  {
   "cell_type": "markdown",
   "metadata": {},
   "source": [
    "#### VI.1 attributes\n",
    "\n",
    "Assignement and referencing rules for attributes are pretty straightforward:\n",
    "* we assign the attribute using the dot notation **`object.x`**;\n",
    "* when we reference it we look it up in object namespace and if not found higher in the inheritance tree."
   ]
  },
  {
   "cell_type": "markdown",
   "metadata": {},
   "source": [
    "#### VI.2 Variables\n",
    "\n",
    "Assignement and referencing rules for variables are subtler. Indeed, for attributes the resolution is dynamic (only done when referencing). For variables, Python uses **lexical binding**, meaning that determining the proper reference depends on where the variable is referenced in your program (globally, in a function, in a for loop, list comprehension, ...).\n",
    "\n",
    "\n",
    "**Assignement**:\n",
    "\n",
    "* x assigned in a module: x is local in the module (hence global)\n",
    "* x assigned in a function: x is local to the function if not declared with global (where x is global)\n",
    "* x assigned in a class: x is local to the class if not declared as global\n",
    "\n",
    "**Referencing**:\n",
    "\n",
    "* x reference in a module: **[G rule]**: if a var is referenced in a module then looked up globally in the module\n",
    "* functions: **[LOG rule]** (Locally, Outer functions, Globally)\n",
    "* class: **[LG rule]** (Locally, Globally\n",
    "\n"
   ]
  },
  {
   "cell_type": "markdown",
   "metadata": {},
   "source": [
    "### Referencing:\n",
    "\n",
    "* module: rule G: if a var is referenced in a module then looked up globally in the module\n",
    "* functions: rule LOG\n",
    "* class: rule LG. \n",
    "\n",
    "Subtlety: A variable x in a class is not accessible by methods in a class unless we use notation class.C\n",
    "\n",
    "**Subtlety:** hence, a variable **`x`** in a class is not accessible by methods in a class unless we use notation **`class.C`**\n",
    "\n",
    "Let's see several examples to make it clear:"
   ]
  },
  {
   "cell_type": "code",
   "execution_count": 360,
   "metadata": {
    "collapsed": false
   },
   "outputs": [
    {
     "name": "stdout",
     "output_type": "stream",
     "text": [
      "1\n"
     ]
    }
   ],
   "source": [
    "# Example 1\n",
    "\n",
    "# In a module (here current one) - Looked up globally\n",
    "a = 1\n",
    "def f():\n",
    "    a = 2\n",
    "\n",
    "class C():\n",
    "    a = 3\n",
    "\n",
    "f()\n",
    "C()\n",
    "print(a)"
   ]
  },
  {
   "cell_type": "markdown",
   "metadata": {},
   "source": [
    "The variable a is looked up globally as referenced globally."
   ]
  },
  {
   "cell_type": "code",
   "execution_count": 363,
   "metadata": {
    "collapsed": false
   },
   "outputs": [
    {
     "name": "stdout",
     "output_type": "stream",
     "text": [
      "2\n"
     ]
    }
   ],
   "source": [
    "# Example 2\n",
    "\n",
    "# In nested function - LOG rule\n",
    "\n",
    "# Case 1\n",
    "a = 1\n",
    "def f():\n",
    "    a = 2\n",
    "    def g():\n",
    "        print(a)\n",
    "    g()\n",
    "f()"
   ]
  },
  {
   "cell_type": "markdown",
   "metadata": {},
   "source": [
    "The variable **`a`** is not assigned in **`g`** so looked up in outer function (here **`g`**), found so print 2. "
   ]
  },
  {
   "cell_type": "code",
   "execution_count": 366,
   "metadata": {
    "collapsed": false
   },
   "outputs": [
    {
     "name": "stdout",
     "output_type": "stream",
     "text": [
      "1\n"
     ]
    }
   ],
   "source": [
    "# Example 3\n",
    "\n",
    "# In nested functions - LOG rule\n",
    "\n",
    "# Case 2\n",
    "a = 1\n",
    "def f():\n",
    "    def g():\n",
    "        print(a)\n",
    "    g()\n",
    "f()"
   ]
  },
  {
   "cell_type": "markdown",
   "metadata": {},
   "source": [
    "The variable **`a`** is not assigned in **`g`** so looked up in outer function (here **`g`**), not found so looked up globally."
   ]
  },
  {
   "cell_type": "code",
   "execution_count": 367,
   "metadata": {
    "collapsed": false
   },
   "outputs": [
    {
     "name": "stdout",
     "output_type": "stream",
     "text": [
      "1\n",
      "2\n"
     ]
    }
   ],
   "source": [
    "# Example 4\n",
    "\n",
    "# Functions in a class (methods)\n",
    "a = 1\n",
    "class C:\n",
    "    a = 2\n",
    "    def f(self):\n",
    "        print(a)\n",
    "        print(C.a)\n",
    "C().f()"
   ]
  },
  {
   "cell_type": "markdown",
   "metadata": {},
   "source": [
    "Here is the subtlety. \n",
    "* **`print(a)`**: rule LG, **`a`** is not assigned in **`f`**, no outer function (class are not functions so by-passed). Hence **`a`** is looked up globally and is equal to **`1`**\n",
    "* **`print(C.a)`**: here **`a`** is not a variable but an attribute so we simply look it up in inheritance tree (at runtime this is not lexical binding anymore)."
   ]
  },
  {
   "cell_type": "code",
   "execution_count": 369,
   "metadata": {
    "collapsed": false
   },
   "outputs": [
    {
     "name": "stdout",
     "output_type": "stream",
     "text": [
      "1\n"
     ]
    },
    {
     "data": {
      "text/plain": [
       "<__main__.A at 0x107f13d68>"
      ]
     },
     "execution_count": 369,
     "metadata": {},
     "output_type": "execute_result"
    }
   ],
   "source": [
    "# Example 5\n",
    "# class in a class (LG rule)\n",
    "\n",
    "a = 1\n",
    "class A:\n",
    "    a = 2\n",
    "    class B:\n",
    "        print(a)\n",
    "    B()\n",
    "A()"
   ]
  },
  {
   "cell_type": "markdown",
   "metadata": {},
   "source": [
    "**`a`** is looked up globally."
   ]
  }
 ],
 "metadata": {
  "anaconda-cloud": {},
  "kernelspec": {
   "display_name": "Python 3",
   "language": "python",
   "name": "python3"
  },
  "language_info": {
   "codemirror_mode": {
    "name": "ipython",
    "version": 3
   },
   "file_extension": ".py",
   "mimetype": "text/x-python",
   "name": "python",
   "nbconvert_exporter": "python",
   "pygments_lexer": "ipython3",
   "version": "3.5.0"
  }
 },
 "nbformat": 4,
 "nbformat_minor": 2
}
