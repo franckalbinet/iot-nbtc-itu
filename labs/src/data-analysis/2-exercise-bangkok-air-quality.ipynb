{
 "cells": [
  {
   "cell_type": "markdown",
   "metadata": {},
   "source": [
    "## II. ANALYZING AIR QUALITY IN BANGKOK"
   ]
  },
  {
   "cell_type": "code",
   "execution_count": 320,
   "metadata": {
    "collapsed": true
   },
   "outputs": [],
   "source": [
    "import pandas as pd\n",
    "import requests\n",
    "import folium\n",
    "import seaborn as sns\n",
    "import matplotlib.pyplot as plt\n",
    "%matplotlib inline"
   ]
  },
  {
   "cell_type": "markdown",
   "metadata": {},
   "source": [
    "## 1. Loading the data"
   ]
  },
  {
   "cell_type": "code",
   "execution_count": 321,
   "metadata": {
    "collapsed": true
   },
   "outputs": [],
   "source": [
    "# Package the request, send the request and catch the response: r\n",
    "r = requests.get('https://api.openaq.org/v1/measurements?limit=10000&city=Bangkok')\n",
    "json_data = r.json()['results']"
   ]
  },
  {
   "cell_type": "code",
   "execution_count": 322,
   "metadata": {
    "collapsed": false
   },
   "outputs": [],
   "source": [
    "rows_list = []\n",
    "\n",
    "for m in json_data:\n",
    "    row = {'city': m['city'],\n",
    "           'lon': m['coordinates']['longitude'],\n",
    "           'lat': m['coordinates']['latitude'],\n",
    "           'time': m['date']['local'],\n",
    "           'loc': m['location'],\n",
    "           'param': m['parameter'],\n",
    "           'unit': m['unit'],\n",
    "           'value': m['value']\n",
    "          }\n",
    "    rows_list.append(row)\n",
    "\n",
    "data = pd.DataFrame(rows_list) \n",
    "data = data[['city','lon','lat','time','loc','param','unit','value']]"
   ]
  },
  {
   "cell_type": "code",
   "execution_count": 323,
   "metadata": {
    "collapsed": false
   },
   "outputs": [
    {
     "data": {
      "text/plain": [
       "(10000, 8)"
      ]
     },
     "execution_count": 323,
     "metadata": {},
     "output_type": "execute_result"
    }
   ],
   "source": [
    "data.shape"
   ]
  },
  {
   "cell_type": "code",
   "execution_count": 324,
   "metadata": {
    "collapsed": false
   },
   "outputs": [
    {
     "data": {
      "text/html": [
       "<div>\n",
       "<table border=\"1\" class=\"dataframe\">\n",
       "  <thead>\n",
       "    <tr style=\"text-align: right;\">\n",
       "      <th></th>\n",
       "      <th>city</th>\n",
       "      <th>lon</th>\n",
       "      <th>lat</th>\n",
       "      <th>time</th>\n",
       "      <th>loc</th>\n",
       "      <th>param</th>\n",
       "      <th>unit</th>\n",
       "      <th>value</th>\n",
       "    </tr>\n",
       "  </thead>\n",
       "  <tbody>\n",
       "    <tr>\n",
       "      <th>0</th>\n",
       "      <td>Bangkok</td>\n",
       "      <td>100.605741</td>\n",
       "      <td>13.666116</td>\n",
       "      <td>2017-11-20T20:00:00+07:00</td>\n",
       "      <td>Bangna, Bangna</td>\n",
       "      <td>no2</td>\n",
       "      <td>ppm</td>\n",
       "      <td>0.036</td>\n",
       "    </tr>\n",
       "    <tr>\n",
       "      <th>1</th>\n",
       "      <td>Bangkok</td>\n",
       "      <td>100.486604</td>\n",
       "      <td>13.727559</td>\n",
       "      <td>2017-11-20T20:00:00+07:00</td>\n",
       "      <td>Intarapitak Rd., Thon Buri</td>\n",
       "      <td>so2</td>\n",
       "      <td>ppm</td>\n",
       "      <td>0.001</td>\n",
       "    </tr>\n",
       "    <tr>\n",
       "      <th>2</th>\n",
       "      <td>Bangkok</td>\n",
       "      <td>100.605741</td>\n",
       "      <td>13.666116</td>\n",
       "      <td>2017-11-20T20:00:00+07:00</td>\n",
       "      <td>Bangna, Bangna</td>\n",
       "      <td>co</td>\n",
       "      <td>ppm</td>\n",
       "      <td>1.050</td>\n",
       "    </tr>\n",
       "    <tr>\n",
       "      <th>3</th>\n",
       "      <td>Bangkok</td>\n",
       "      <td>100.505812</td>\n",
       "      <td>13.668461</td>\n",
       "      <td>2017-11-20T20:00:00+07:00</td>\n",
       "      <td>Samae Dam, Bang Khun Thian</td>\n",
       "      <td>co</td>\n",
       "      <td>ppm</td>\n",
       "      <td>0.780</td>\n",
       "    </tr>\n",
       "    <tr>\n",
       "      <th>4</th>\n",
       "      <td>Bangkok</td>\n",
       "      <td>100.536494</td>\n",
       "      <td>13.729830</td>\n",
       "      <td>2017-11-20T20:00:00+07:00</td>\n",
       "      <td>Rama IV Rd., Pathum Wan</td>\n",
       "      <td>co</td>\n",
       "      <td>ppm</td>\n",
       "      <td>1.850</td>\n",
       "    </tr>\n",
       "  </tbody>\n",
       "</table>\n",
       "</div>"
      ],
      "text/plain": [
       "      city         lon        lat                       time  \\\n",
       "0  Bangkok  100.605741  13.666116  2017-11-20T20:00:00+07:00   \n",
       "1  Bangkok  100.486604  13.727559  2017-11-20T20:00:00+07:00   \n",
       "2  Bangkok  100.605741  13.666116  2017-11-20T20:00:00+07:00   \n",
       "3  Bangkok  100.505812  13.668461  2017-11-20T20:00:00+07:00   \n",
       "4  Bangkok  100.536494  13.729830  2017-11-20T20:00:00+07:00   \n",
       "\n",
       "                          loc param unit  value  \n",
       "0              Bangna, Bangna   no2  ppm  0.036  \n",
       "1  Intarapitak Rd., Thon Buri   so2  ppm  0.001  \n",
       "2              Bangna, Bangna    co  ppm  1.050  \n",
       "3  Samae Dam, Bang Khun Thian    co  ppm  0.780  \n",
       "4     Rama IV Rd., Pathum Wan    co  ppm  1.850  "
      ]
     },
     "execution_count": 324,
     "metadata": {},
     "output_type": "execute_result"
    }
   ],
   "source": [
    "data.head()"
   ]
  },
  {
   "cell_type": "markdown",
   "metadata": {},
   "source": [
    "## 2. Getting acquainted with the data"
   ]
  },
  {
   "cell_type": "markdown",
   "metadata": {},
   "source": [
    "### Counts per values"
   ]
  },
  {
   "cell_type": "code",
   "execution_count": 325,
   "metadata": {
    "collapsed": false
   },
   "outputs": [],
   "source": [
    "def count_by(df, col_name):\n",
    "    print('-'*30)\n",
    "    print('# of measurements by: \"' + col_name + '\"\\n\\n', data[col_name].value_counts())"
   ]
  },
  {
   "cell_type": "code",
   "execution_count": 326,
   "metadata": {
    "collapsed": false
   },
   "outputs": [
    {
     "name": "stdout",
     "output_type": "stream",
     "text": [
      "------------------------------\n",
      "# of measurements by: \"city\"\n",
      "\n",
      " Bangkok    10000\n",
      "Name: city, dtype: int64\n",
      "------------------------------\n",
      "# of measurements by: \"loc\"\n",
      "\n",
      " Intarapitak Rd., Thon Buri       2102\n",
      "Bangna, Bangna                   1922\n",
      "Samae Dam, Bang Khun Thian       1573\n",
      "Khlong Chan, Bang kapi           1435\n",
      "Lat Phrao Rd., Wang Thonglang    1402\n",
      "Rama IV Rd., Pathum Wan          1177\n",
      "Chong Nonsi, Yannawa              337\n",
      "Pubpla, Wang Thonglang             45\n",
      "Samsen Nai, Khet Phaya Thai         7\n",
      "Name: loc, dtype: int64\n",
      "------------------------------\n",
      "# of measurements by: \"param\"\n",
      "\n",
      " no2     2706\n",
      "pm10    2689\n",
      "co      1992\n",
      "o3      1716\n",
      "so2      897\n",
      "Name: param, dtype: int64\n",
      "------------------------------\n",
      "# of measurements by: \"unit\"\n",
      "\n",
      " ppm      7311\n",
      "µg/m³    2689\n",
      "Name: unit, dtype: int64\n"
     ]
    }
   ],
   "source": [
    "for c in ['city', 'loc', 'param', 'unit']:\n",
    "    count_by(data, c)"
   ]
  },
  {
   "cell_type": "markdown",
   "metadata": {},
   "source": [
    "### Mapping measurement locations"
   ]
  },
  {
   "cell_type": "code",
   "execution_count": 327,
   "metadata": {
    "collapsed": true
   },
   "outputs": [],
   "source": [
    "# https://folium.readthedocs.io/en/latest/quickstart.html#getting-started\n",
    "# https://deparkes.co.uk/2016/06/10/folium-map-tiles/\n",
    "# http://nbviewer.jupyter.org/github/python-visualization/folium/tree/master/examples/"
   ]
  },
  {
   "cell_type": "code",
   "execution_count": 328,
   "metadata": {
    "collapsed": false
   },
   "outputs": [],
   "source": [
    "map_loc = folium.Map(location=[13.7563, 100.5018], tiles='cartodbpositron', zoom_start=11)"
   ]
  },
  {
   "cell_type": "code",
   "execution_count": 329,
   "metadata": {
    "collapsed": false
   },
   "outputs": [
    {
     "data": {
      "text/html": [
       "<div>\n",
       "<table border=\"1\" class=\"dataframe\">\n",
       "  <thead>\n",
       "    <tr style=\"text-align: right;\">\n",
       "      <th></th>\n",
       "      <th>loc</th>\n",
       "      <th>lon</th>\n",
       "      <th>lat</th>\n",
       "    </tr>\n",
       "  </thead>\n",
       "  <tbody>\n",
       "    <tr>\n",
       "      <th>0</th>\n",
       "      <td>Bangna, Bangna</td>\n",
       "      <td>100.605741</td>\n",
       "      <td>13.666116</td>\n",
       "    </tr>\n",
       "    <tr>\n",
       "      <th>1</th>\n",
       "      <td>Intarapitak Rd., Thon Buri</td>\n",
       "      <td>100.486604</td>\n",
       "      <td>13.727559</td>\n",
       "    </tr>\n",
       "    <tr>\n",
       "      <th>3</th>\n",
       "      <td>Samae Dam, Bang Khun Thian</td>\n",
       "      <td>100.505812</td>\n",
       "      <td>13.668461</td>\n",
       "    </tr>\n",
       "    <tr>\n",
       "      <th>4</th>\n",
       "      <td>Rama IV Rd., Pathum Wan</td>\n",
       "      <td>100.536494</td>\n",
       "      <td>13.729830</td>\n",
       "    </tr>\n",
       "    <tr>\n",
       "      <th>9</th>\n",
       "      <td>Khlong Chan, Bang kapi</td>\n",
       "      <td>100.636548</td>\n",
       "      <td>13.781520</td>\n",
       "    </tr>\n",
       "    <tr>\n",
       "      <th>11</th>\n",
       "      <td>Chong Nonsi, Yannawa</td>\n",
       "      <td>100.547345</td>\n",
       "      <td>13.708041</td>\n",
       "    </tr>\n",
       "    <tr>\n",
       "      <th>14</th>\n",
       "      <td>Lat Phrao Rd., Wang Thonglang</td>\n",
       "      <td>100.596078</td>\n",
       "      <td>13.792635</td>\n",
       "    </tr>\n",
       "    <tr>\n",
       "      <th>1923</th>\n",
       "      <td>Pubpla, Wang Thonglang</td>\n",
       "      <td>100.614562</td>\n",
       "      <td>13.769630</td>\n",
       "    </tr>\n",
       "    <tr>\n",
       "      <th>6615</th>\n",
       "      <td>Samsen Nai, Khet Phaya Thai</td>\n",
       "      <td>100.537798</td>\n",
       "      <td>13.780444</td>\n",
       "    </tr>\n",
       "  </tbody>\n",
       "</table>\n",
       "</div>"
      ],
      "text/plain": [
       "                                loc         lon        lat\n",
       "0                    Bangna, Bangna  100.605741  13.666116\n",
       "1        Intarapitak Rd., Thon Buri  100.486604  13.727559\n",
       "3        Samae Dam, Bang Khun Thian  100.505812  13.668461\n",
       "4           Rama IV Rd., Pathum Wan  100.536494  13.729830\n",
       "9            Khlong Chan, Bang kapi  100.636548  13.781520\n",
       "11             Chong Nonsi, Yannawa  100.547345  13.708041\n",
       "14    Lat Phrao Rd., Wang Thonglang  100.596078  13.792635\n",
       "1923         Pubpla, Wang Thonglang  100.614562  13.769630\n",
       "6615    Samsen Nai, Khet Phaya Thai  100.537798  13.780444"
      ]
     },
     "execution_count": 329,
     "metadata": {},
     "output_type": "execute_result"
    }
   ],
   "source": [
    "# Locations of interest\n",
    "data[['loc', 'lon', 'lat']].drop_duplicates()"
   ]
  },
  {
   "cell_type": "code",
   "execution_count": 330,
   "metadata": {
    "collapsed": false
   },
   "outputs": [
    {
     "data": {
      "image/png": "[encoded data removed]",
      "text/plain": [
       "<matplotlib.figure.Figure at 0x11fb4f780>"
      ]
     },
     "metadata": {},
     "output_type": "display_data"
    }
   ],
   "source": [
    "nb_loc = len(data[['loc', 'lon', 'lat']].drop_duplicates())\n",
    "color_palette = sns.color_palette(\"Set2\", nb_loc)\n",
    "sns.palplot(color_palette)"
   ]
  },
  {
   "cell_type": "code",
   "execution_count": 331,
   "metadata": {
    "collapsed": false
   },
   "outputs": [],
   "source": [
    "col_idx = 0\n",
    "for row in data[['loc', 'lon', 'lat']].drop_duplicates().itertuples():\n",
    "    location, lon, lat = row[1:4]\n",
    "    folium.CircleMarker([lat, lon],\n",
    "                        radius=10,\n",
    "                        popup='<i>' + location + '</i>',\n",
    "                        color=color_palette.as_hex()[col_idx],\n",
    "                        fill=True,\n",
    "                        fill_color=color_palette.as_hex()[col_idx],\n",
    "                        fill_opacity=0.8,\n",
    "                        line_opacity=0.8\n",
    "                       ).add_to(map_loc)\n",
    "    col_idx += 1"
   ]
  },
  {
   "cell_type": "code",
   "execution_count": 332,
   "metadata": {
    "collapsed": false,
    "scrolled": false
   },
   "outputs": [
    {
     "data": {
      "text/html": [
       "<div style=\"width:100%;\"><div style=\"position:relative;width:100%;height:0;padding-bottom:60%;\"><iframe src=\"data:text/html;charset=utf-8;base64,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\" style=\"position:absolute;width:100%;height:100%;left:0;top:0;border:none !important;\" allowfullscreen webkitallowfullscreen mozallowfullscreen></iframe></div></div>"
      ],
      "text/plain": [
       "<folium.folium.Map at 0x10c5396a0>"
      ]
     },
     "execution_count": 332,
     "metadata": {},
     "output_type": "execute_result"
    }
   ],
   "source": [
    "map_loc"
   ]
  },
  {
   "cell_type": "markdown",
   "metadata": {},
   "source": [
    "### The case of Particulate Matter 10 [pm10]\n",
    "\n",
    "http://www.who.int/mediacentre/factsheets/fs313/en/ guidelines:\n",
    "* Limit daily average per day 50 ug/m3\n",
    "* Limit yearly average per day 40 ug/m3"
   ]
  },
  {
   "cell_type": "code",
   "execution_count": 333,
   "metadata": {
    "collapsed": false
   },
   "outputs": [],
   "source": [
    "pm10 = data[data.param == 'pm10']"
   ]
  },
  {
   "cell_type": "code",
   "execution_count": 334,
   "metadata": {
    "collapsed": false
   },
   "outputs": [
    {
     "data": {
      "text/html": [
       "<div>\n",
       "<table border=\"1\" class=\"dataframe\">\n",
       "  <thead>\n",
       "    <tr style=\"text-align: right;\">\n",
       "      <th></th>\n",
       "      <th>city</th>\n",
       "      <th>lon</th>\n",
       "      <th>lat</th>\n",
       "      <th>time</th>\n",
       "      <th>loc</th>\n",
       "      <th>param</th>\n",
       "      <th>unit</th>\n",
       "      <th>value</th>\n",
       "    </tr>\n",
       "  </thead>\n",
       "  <tbody>\n",
       "    <tr>\n",
       "      <th>8</th>\n",
       "      <td>Bangkok</td>\n",
       "      <td>100.536494</td>\n",
       "      <td>13.729830</td>\n",
       "      <td>2017-11-20T20:00:00+07:00</td>\n",
       "      <td>Rama IV Rd., Pathum Wan</td>\n",
       "      <td>pm10</td>\n",
       "      <td>µg/m³</td>\n",
       "      <td>52.0</td>\n",
       "    </tr>\n",
       "    <tr>\n",
       "      <th>9</th>\n",
       "      <td>Bangkok</td>\n",
       "      <td>100.636548</td>\n",
       "      <td>13.781520</td>\n",
       "      <td>2017-11-20T20:00:00+07:00</td>\n",
       "      <td>Khlong Chan, Bang kapi</td>\n",
       "      <td>pm10</td>\n",
       "      <td>µg/m³</td>\n",
       "      <td>28.0</td>\n",
       "    </tr>\n",
       "    <tr>\n",
       "      <th>11</th>\n",
       "      <td>Bangkok</td>\n",
       "      <td>100.547345</td>\n",
       "      <td>13.708041</td>\n",
       "      <td>2017-11-20T20:00:00+07:00</td>\n",
       "      <td>Chong Nonsi, Yannawa</td>\n",
       "      <td>pm10</td>\n",
       "      <td>µg/m³</td>\n",
       "      <td>42.0</td>\n",
       "    </tr>\n",
       "    <tr>\n",
       "      <th>13</th>\n",
       "      <td>Bangkok</td>\n",
       "      <td>100.605741</td>\n",
       "      <td>13.666116</td>\n",
       "      <td>2017-11-20T20:00:00+07:00</td>\n",
       "      <td>Bangna, Bangna</td>\n",
       "      <td>pm10</td>\n",
       "      <td>µg/m³</td>\n",
       "      <td>34.0</td>\n",
       "    </tr>\n",
       "    <tr>\n",
       "      <th>17</th>\n",
       "      <td>Bangkok</td>\n",
       "      <td>100.505812</td>\n",
       "      <td>13.668461</td>\n",
       "      <td>2017-11-20T20:00:00+07:00</td>\n",
       "      <td>Samae Dam, Bang Khun Thian</td>\n",
       "      <td>pm10</td>\n",
       "      <td>µg/m³</td>\n",
       "      <td>72.0</td>\n",
       "    </tr>\n",
       "  </tbody>\n",
       "</table>\n",
       "</div>"
      ],
      "text/plain": [
       "       city         lon        lat                       time  \\\n",
       "8   Bangkok  100.536494  13.729830  2017-11-20T20:00:00+07:00   \n",
       "9   Bangkok  100.636548  13.781520  2017-11-20T20:00:00+07:00   \n",
       "11  Bangkok  100.547345  13.708041  2017-11-20T20:00:00+07:00   \n",
       "13  Bangkok  100.605741  13.666116  2017-11-20T20:00:00+07:00   \n",
       "17  Bangkok  100.505812  13.668461  2017-11-20T20:00:00+07:00   \n",
       "\n",
       "                           loc param   unit  value  \n",
       "8      Rama IV Rd., Pathum Wan  pm10  µg/m³   52.0  \n",
       "9       Khlong Chan, Bang kapi  pm10  µg/m³   28.0  \n",
       "11        Chong Nonsi, Yannawa  pm10  µg/m³   42.0  \n",
       "13              Bangna, Bangna  pm10  µg/m³   34.0  \n",
       "17  Samae Dam, Bang Khun Thian  pm10  µg/m³   72.0  "
      ]
     },
     "execution_count": 334,
     "metadata": {},
     "output_type": "execute_result"
    }
   ],
   "source": [
    "pm10.head()"
   ]
  },
  {
   "cell_type": "code",
   "execution_count": 335,
   "metadata": {
    "collapsed": false
   },
   "outputs": [
    {
     "data": {
      "text/plain": [
       "<matplotlib.axes._subplots.AxesSubplot at 0x11fe127f0>"
      ]
     },
     "execution_count": 335,
     "metadata": {},
     "output_type": "execute_result"
    },
    {
     "data": {
      "image/png": "[encoded data removed]",
      "text/plain": [
       "<matplotlib.figure.Figure at 0x11fca97b8>"
      ]
     },
     "metadata": {},
     "output_type": "display_data"
    }
   ],
   "source": [
    "pm10['value'].hist()"
   ]
  },
  {
   "cell_type": "code",
   "execution_count": 336,
   "metadata": {
    "collapsed": false
   },
   "outputs": [],
   "source": [
    "locations = data[['loc', 'lon', 'lat']].drop_duplicates()['loc'].values"
   ]
  },
  {
   "cell_type": "code",
   "execution_count": 337,
   "metadata": {
    "collapsed": false
   },
   "outputs": [
    {
     "data": {
      "image/png": "[encoded data removed]",
      "text/plain": [
       "<matplotlib.figure.Figure at 0x11fe29b00>"
      ]
     },
     "metadata": {},
     "output_type": "display_data"
    }
   ],
   "source": [
    "plt.rcParams['figure.figsize'] = (20, 20)\n",
    "def draw_histograms_by_loc(n_rows, n_cols):\n",
    "    locations = data[['loc', 'lon', 'lat']].drop_duplicates()['loc'].values\n",
    "    fig = plt.figure()\n",
    "    #plt.title(\"PM10 concentration\")\n",
    "    for i, loc in enumerate(locations):\n",
    "        ax = fig.add_subplot(n_rows, n_cols, i+1)\n",
    "        pm10[pm10['loc'] == loc]['value'].hist(bins=10, ax=ax)\n",
    "        plt.axvline(x=50, color='r', linestyle='--')\n",
    "        ax.set_title(loc)\n",
    "    fig.tight_layout()  # Improves appearance a bit.\n",
    "    plt.show()\n",
    "\n",
    "draw_histograms_by_loc(5, 3)"
   ]
  },
  {
   "cell_type": "markdown",
   "metadata": {},
   "source": [
    "### Exploring time dimensions"
   ]
  },
  {
   "cell_type": "code",
   "execution_count": 340,
   "metadata": {
    "collapsed": false
   },
   "outputs": [
    {
     "data": {
      "text/html": [
       "<div>\n",
       "<table border=\"1\" class=\"dataframe\">\n",
       "  <thead>\n",
       "    <tr style=\"text-align: right;\">\n",
       "      <th></th>\n",
       "      <th>city</th>\n",
       "      <th>lon</th>\n",
       "      <th>lat</th>\n",
       "      <th>time</th>\n",
       "      <th>loc</th>\n",
       "      <th>param</th>\n",
       "      <th>unit</th>\n",
       "      <th>value</th>\n",
       "    </tr>\n",
       "  </thead>\n",
       "  <tbody>\n",
       "    <tr>\n",
       "      <th>8</th>\n",
       "      <td>Bangkok</td>\n",
       "      <td>100.536494</td>\n",
       "      <td>13.729830</td>\n",
       "      <td>2017-11-20T20:00:00+07:00</td>\n",
       "      <td>Rama IV Rd., Pathum Wan</td>\n",
       "      <td>pm10</td>\n",
       "      <td>µg/m³</td>\n",
       "      <td>52.0</td>\n",
       "    </tr>\n",
       "    <tr>\n",
       "      <th>9</th>\n",
       "      <td>Bangkok</td>\n",
       "      <td>100.636548</td>\n",
       "      <td>13.781520</td>\n",
       "      <td>2017-11-20T20:00:00+07:00</td>\n",
       "      <td>Khlong Chan, Bang kapi</td>\n",
       "      <td>pm10</td>\n",
       "      <td>µg/m³</td>\n",
       "      <td>28.0</td>\n",
       "    </tr>\n",
       "    <tr>\n",
       "      <th>11</th>\n",
       "      <td>Bangkok</td>\n",
       "      <td>100.547345</td>\n",
       "      <td>13.708041</td>\n",
       "      <td>2017-11-20T20:00:00+07:00</td>\n",
       "      <td>Chong Nonsi, Yannawa</td>\n",
       "      <td>pm10</td>\n",
       "      <td>µg/m³</td>\n",
       "      <td>42.0</td>\n",
       "    </tr>\n",
       "    <tr>\n",
       "      <th>13</th>\n",
       "      <td>Bangkok</td>\n",
       "      <td>100.605741</td>\n",
       "      <td>13.666116</td>\n",
       "      <td>2017-11-20T20:00:00+07:00</td>\n",
       "      <td>Bangna, Bangna</td>\n",
       "      <td>pm10</td>\n",
       "      <td>µg/m³</td>\n",
       "      <td>34.0</td>\n",
       "    </tr>\n",
       "    <tr>\n",
       "      <th>17</th>\n",
       "      <td>Bangkok</td>\n",
       "      <td>100.505812</td>\n",
       "      <td>13.668461</td>\n",
       "      <td>2017-11-20T20:00:00+07:00</td>\n",
       "      <td>Samae Dam, Bang Khun Thian</td>\n",
       "      <td>pm10</td>\n",
       "      <td>µg/m³</td>\n",
       "      <td>72.0</td>\n",
       "    </tr>\n",
       "    <tr>\n",
       "      <th>20</th>\n",
       "      <td>Bangkok</td>\n",
       "      <td>100.596078</td>\n",
       "      <td>13.792635</td>\n",
       "      <td>2017-11-20T20:00:00+07:00</td>\n",
       "      <td>Lat Phrao Rd., Wang Thonglang</td>\n",
       "      <td>pm10</td>\n",
       "      <td>µg/m³</td>\n",
       "      <td>56.0</td>\n",
       "    </tr>\n",
       "    <tr>\n",
       "      <th>21</th>\n",
       "      <td>Bangkok</td>\n",
       "      <td>100.486604</td>\n",
       "      <td>13.727559</td>\n",
       "      <td>2017-11-20T20:00:00+07:00</td>\n",
       "      <td>Intarapitak Rd., Thon Buri</td>\n",
       "      <td>pm10</td>\n",
       "      <td>µg/m³</td>\n",
       "      <td>40.0</td>\n",
       "    </tr>\n",
       "    <tr>\n",
       "      <th>24</th>\n",
       "      <td>Bangkok</td>\n",
       "      <td>100.505812</td>\n",
       "      <td>13.668461</td>\n",
       "      <td>2017-11-20T19:00:00+07:00</td>\n",
       "      <td>Samae Dam, Bang Khun Thian</td>\n",
       "      <td>pm10</td>\n",
       "      <td>µg/m³</td>\n",
       "      <td>75.0</td>\n",
       "    </tr>\n",
       "    <tr>\n",
       "      <th>25</th>\n",
       "      <td>Bangkok</td>\n",
       "      <td>100.536494</td>\n",
       "      <td>13.729830</td>\n",
       "      <td>2017-11-20T19:00:00+07:00</td>\n",
       "      <td>Rama IV Rd., Pathum Wan</td>\n",
       "      <td>pm10</td>\n",
       "      <td>µg/m³</td>\n",
       "      <td>54.0</td>\n",
       "    </tr>\n",
       "    <tr>\n",
       "      <th>28</th>\n",
       "      <td>Bangkok</td>\n",
       "      <td>100.605741</td>\n",
       "      <td>13.666116</td>\n",
       "      <td>2017-11-20T19:00:00+07:00</td>\n",
       "      <td>Bangna, Bangna</td>\n",
       "      <td>pm10</td>\n",
       "      <td>µg/m³</td>\n",
       "      <td>35.0</td>\n",
       "    </tr>\n",
       "    <tr>\n",
       "      <th>30</th>\n",
       "      <td>Bangkok</td>\n",
       "      <td>100.547345</td>\n",
       "      <td>13.708041</td>\n",
       "      <td>2017-11-20T19:00:00+07:00</td>\n",
       "      <td>Chong Nonsi, Yannawa</td>\n",
       "      <td>pm10</td>\n",
       "      <td>µg/m³</td>\n",
       "      <td>43.0</td>\n",
       "    </tr>\n",
       "    <tr>\n",
       "      <th>41</th>\n",
       "      <td>Bangkok</td>\n",
       "      <td>100.636548</td>\n",
       "      <td>13.781520</td>\n",
       "      <td>2017-11-20T19:00:00+07:00</td>\n",
       "      <td>Khlong Chan, Bang kapi</td>\n",
       "      <td>pm10</td>\n",
       "      <td>µg/m³</td>\n",
       "      <td>28.0</td>\n",
       "    </tr>\n",
       "    <tr>\n",
       "      <th>42</th>\n",
       "      <td>Bangkok</td>\n",
       "      <td>100.486604</td>\n",
       "      <td>13.727559</td>\n",
       "      <td>2017-11-20T19:00:00+07:00</td>\n",
       "      <td>Intarapitak Rd., Thon Buri</td>\n",
       "      <td>pm10</td>\n",
       "      <td>µg/m³</td>\n",
       "      <td>42.0</td>\n",
       "    </tr>\n",
       "    <tr>\n",
       "      <th>43</th>\n",
       "      <td>Bangkok</td>\n",
       "      <td>100.596078</td>\n",
       "      <td>13.792635</td>\n",
       "      <td>2017-11-20T19:00:00+07:00</td>\n",
       "      <td>Lat Phrao Rd., Wang Thonglang</td>\n",
       "      <td>pm10</td>\n",
       "      <td>µg/m³</td>\n",
       "      <td>58.0</td>\n",
       "    </tr>\n",
       "    <tr>\n",
       "      <th>49</th>\n",
       "      <td>Bangkok</td>\n",
       "      <td>100.536494</td>\n",
       "      <td>13.729830</td>\n",
       "      <td>2017-11-20T18:00:00+07:00</td>\n",
       "      <td>Rama IV Rd., Pathum Wan</td>\n",
       "      <td>pm10</td>\n",
       "      <td>µg/m³</td>\n",
       "      <td>55.0</td>\n",
       "    </tr>\n",
       "    <tr>\n",
       "      <th>50</th>\n",
       "      <td>Bangkok</td>\n",
       "      <td>100.636548</td>\n",
       "      <td>13.781520</td>\n",
       "      <td>2017-11-20T18:00:00+07:00</td>\n",
       "      <td>Khlong Chan, Bang kapi</td>\n",
       "      <td>pm10</td>\n",
       "      <td>µg/m³</td>\n",
       "      <td>29.0</td>\n",
       "    </tr>\n",
       "    <tr>\n",
       "      <th>55</th>\n",
       "      <td>Bangkok</td>\n",
       "      <td>100.596078</td>\n",
       "      <td>13.792635</td>\n",
       "      <td>2017-11-20T18:00:00+07:00</td>\n",
       "      <td>Lat Phrao Rd., Wang Thonglang</td>\n",
       "      <td>pm10</td>\n",
       "      <td>µg/m³</td>\n",
       "      <td>59.0</td>\n",
       "    </tr>\n",
       "    <tr>\n",
       "      <th>63</th>\n",
       "      <td>Bangkok</td>\n",
       "      <td>100.486604</td>\n",
       "      <td>13.727559</td>\n",
       "      <td>2017-11-20T18:00:00+07:00</td>\n",
       "      <td>Intarapitak Rd., Thon Buri</td>\n",
       "      <td>pm10</td>\n",
       "      <td>µg/m³</td>\n",
       "      <td>43.0</td>\n",
       "    </tr>\n",
       "    <tr>\n",
       "      <th>65</th>\n",
       "      <td>Bangkok</td>\n",
       "      <td>100.605741</td>\n",
       "      <td>13.666116</td>\n",
       "      <td>2017-11-20T18:00:00+07:00</td>\n",
       "      <td>Bangna, Bangna</td>\n",
       "      <td>pm10</td>\n",
       "      <td>µg/m³</td>\n",
       "      <td>36.0</td>\n",
       "    </tr>\n",
       "    <tr>\n",
       "      <th>67</th>\n",
       "      <td>Bangkok</td>\n",
       "      <td>100.547345</td>\n",
       "      <td>13.708041</td>\n",
       "      <td>2017-11-20T18:00:00+07:00</td>\n",
       "      <td>Chong Nonsi, Yannawa</td>\n",
       "      <td>pm10</td>\n",
       "      <td>µg/m³</td>\n",
       "      <td>45.0</td>\n",
       "    </tr>\n",
       "  </tbody>\n",
       "</table>\n",
       "</div>"
      ],
      "text/plain": [
       "       city         lon        lat                       time  \\\n",
       "8   Bangkok  100.536494  13.729830  2017-11-20T20:00:00+07:00   \n",
       "9   Bangkok  100.636548  13.781520  2017-11-20T20:00:00+07:00   \n",
       "11  Bangkok  100.547345  13.708041  2017-11-20T20:00:00+07:00   \n",
       "13  Bangkok  100.605741  13.666116  2017-11-20T20:00:00+07:00   \n",
       "17  Bangkok  100.505812  13.668461  2017-11-20T20:00:00+07:00   \n",
       "20  Bangkok  100.596078  13.792635  2017-11-20T20:00:00+07:00   \n",
       "21  Bangkok  100.486604  13.727559  2017-11-20T20:00:00+07:00   \n",
       "24  Bangkok  100.505812  13.668461  2017-11-20T19:00:00+07:00   \n",
       "25  Bangkok  100.536494  13.729830  2017-11-20T19:00:00+07:00   \n",
       "28  Bangkok  100.605741  13.666116  2017-11-20T19:00:00+07:00   \n",
       "30  Bangkok  100.547345  13.708041  2017-11-20T19:00:00+07:00   \n",
       "41  Bangkok  100.636548  13.781520  2017-11-20T19:00:00+07:00   \n",
       "42  Bangkok  100.486604  13.727559  2017-11-20T19:00:00+07:00   \n",
       "43  Bangkok  100.596078  13.792635  2017-11-20T19:00:00+07:00   \n",
       "49  Bangkok  100.536494  13.729830  2017-11-20T18:00:00+07:00   \n",
       "50  Bangkok  100.636548  13.781520  2017-11-20T18:00:00+07:00   \n",
       "55  Bangkok  100.596078  13.792635  2017-11-20T18:00:00+07:00   \n",
       "63  Bangkok  100.486604  13.727559  2017-11-20T18:00:00+07:00   \n",
       "65  Bangkok  100.605741  13.666116  2017-11-20T18:00:00+07:00   \n",
       "67  Bangkok  100.547345  13.708041  2017-11-20T18:00:00+07:00   \n",
       "\n",
       "                              loc param   unit  value  \n",
       "8         Rama IV Rd., Pathum Wan  pm10  µg/m³   52.0  \n",
       "9          Khlong Chan, Bang kapi  pm10  µg/m³   28.0  \n",
       "11           Chong Nonsi, Yannawa  pm10  µg/m³   42.0  \n",
       "13                 Bangna, Bangna  pm10  µg/m³   34.0  \n",
       "17     Samae Dam, Bang Khun Thian  pm10  µg/m³   72.0  \n",
       "20  Lat Phrao Rd., Wang Thonglang  pm10  µg/m³   56.0  \n",
       "21     Intarapitak Rd., Thon Buri  pm10  µg/m³   40.0  \n",
       "24     Samae Dam, Bang Khun Thian  pm10  µg/m³   75.0  \n",
       "25        Rama IV Rd., Pathum Wan  pm10  µg/m³   54.0  \n",
       "28                 Bangna, Bangna  pm10  µg/m³   35.0  \n",
       "30           Chong Nonsi, Yannawa  pm10  µg/m³   43.0  \n",
       "41         Khlong Chan, Bang kapi  pm10  µg/m³   28.0  \n",
       "42     Intarapitak Rd., Thon Buri  pm10  µg/m³   42.0  \n",
       "43  Lat Phrao Rd., Wang Thonglang  pm10  µg/m³   58.0  \n",
       "49        Rama IV Rd., Pathum Wan  pm10  µg/m³   55.0  \n",
       "50         Khlong Chan, Bang kapi  pm10  µg/m³   29.0  \n",
       "55  Lat Phrao Rd., Wang Thonglang  pm10  µg/m³   59.0  \n",
       "63     Intarapitak Rd., Thon Buri  pm10  µg/m³   43.0  \n",
       "65                 Bangna, Bangna  pm10  µg/m³   36.0  \n",
       "67           Chong Nonsi, Yannawa  pm10  µg/m³   45.0  "
      ]
     },
     "execution_count": 340,
     "metadata": {},
     "output_type": "execute_result"
    }
   ],
   "source": [
    "pm10.head(20)"
   ]
  },
  {
   "cell_type": "code",
   "execution_count": 341,
   "metadata": {
    "collapsed": false
   },
   "outputs": [],
   "source": [
    "pm10_rot = pm10.set_index(pd.DatetimeIndex(pm10['time']), inplace=False)"
   ]
  },
  {
   "cell_type": "code",
   "execution_count": 342,
   "metadata": {
    "collapsed": false
   },
   "outputs": [
    {
     "data": {
      "text/html": [
       "<div>\n",
       "<table border=\"1\" class=\"dataframe\">\n",
       "  <thead>\n",
       "    <tr style=\"text-align: right;\">\n",
       "      <th></th>\n",
       "      <th>city</th>\n",
       "      <th>lon</th>\n",
       "      <th>lat</th>\n",
       "      <th>time</th>\n",
       "      <th>loc</th>\n",
       "      <th>param</th>\n",
       "      <th>unit</th>\n",
       "      <th>value</th>\n",
       "    </tr>\n",
       "    <tr>\n",
       "      <th>time</th>\n",
       "      <th></th>\n",
       "      <th></th>\n",
       "      <th></th>\n",
       "      <th></th>\n",
       "      <th></th>\n",
       "      <th></th>\n",
       "      <th></th>\n",
       "      <th></th>\n",
       "    </tr>\n",
       "  </thead>\n",
       "  <tbody>\n",
       "    <tr>\n",
       "      <th>2017-11-20 13:00:00</th>\n",
       "      <td>Bangkok</td>\n",
       "      <td>100.536494</td>\n",
       "      <td>13.729830</td>\n",
       "      <td>2017-11-20T20:00:00+07:00</td>\n",
       "      <td>Rama IV Rd., Pathum Wan</td>\n",
       "      <td>pm10</td>\n",
       "      <td>µg/m³</td>\n",
       "      <td>52.0</td>\n",
       "    </tr>\n",
       "    <tr>\n",
       "      <th>2017-11-20 13:00:00</th>\n",
       "      <td>Bangkok</td>\n",
       "      <td>100.636548</td>\n",
       "      <td>13.781520</td>\n",
       "      <td>2017-11-20T20:00:00+07:00</td>\n",
       "      <td>Khlong Chan, Bang kapi</td>\n",
       "      <td>pm10</td>\n",
       "      <td>µg/m³</td>\n",
       "      <td>28.0</td>\n",
       "    </tr>\n",
       "    <tr>\n",
       "      <th>2017-11-20 13:00:00</th>\n",
       "      <td>Bangkok</td>\n",
       "      <td>100.547345</td>\n",
       "      <td>13.708041</td>\n",
       "      <td>2017-11-20T20:00:00+07:00</td>\n",
       "      <td>Chong Nonsi, Yannawa</td>\n",
       "      <td>pm10</td>\n",
       "      <td>µg/m³</td>\n",
       "      <td>42.0</td>\n",
       "    </tr>\n",
       "    <tr>\n",
       "      <th>2017-11-20 13:00:00</th>\n",
       "      <td>Bangkok</td>\n",
       "      <td>100.605741</td>\n",
       "      <td>13.666116</td>\n",
       "      <td>2017-11-20T20:00:00+07:00</td>\n",
       "      <td>Bangna, Bangna</td>\n",
       "      <td>pm10</td>\n",
       "      <td>µg/m³</td>\n",
       "      <td>34.0</td>\n",
       "    </tr>\n",
       "    <tr>\n",
       "      <th>2017-11-20 13:00:00</th>\n",
       "      <td>Bangkok</td>\n",
       "      <td>100.505812</td>\n",
       "      <td>13.668461</td>\n",
       "      <td>2017-11-20T20:00:00+07:00</td>\n",
       "      <td>Samae Dam, Bang Khun Thian</td>\n",
       "      <td>pm10</td>\n",
       "      <td>µg/m³</td>\n",
       "      <td>72.0</td>\n",
       "    </tr>\n",
       "  </tbody>\n",
       "</table>\n",
       "</div>"
      ],
      "text/plain": [
       "                        city         lon        lat  \\\n",
       "time                                                  \n",
       "2017-11-20 13:00:00  Bangkok  100.536494  13.729830   \n",
       "2017-11-20 13:00:00  Bangkok  100.636548  13.781520   \n",
       "2017-11-20 13:00:00  Bangkok  100.547345  13.708041   \n",
       "2017-11-20 13:00:00  Bangkok  100.605741  13.666116   \n",
       "2017-11-20 13:00:00  Bangkok  100.505812  13.668461   \n",
       "\n",
       "                                          time                         loc  \\\n",
       "time                                                                         \n",
       "2017-11-20 13:00:00  2017-11-20T20:00:00+07:00     Rama IV Rd., Pathum Wan   \n",
       "2017-11-20 13:00:00  2017-11-20T20:00:00+07:00      Khlong Chan, Bang kapi   \n",
       "2017-11-20 13:00:00  2017-11-20T20:00:00+07:00        Chong Nonsi, Yannawa   \n",
       "2017-11-20 13:00:00  2017-11-20T20:00:00+07:00              Bangna, Bangna   \n",
       "2017-11-20 13:00:00  2017-11-20T20:00:00+07:00  Samae Dam, Bang Khun Thian   \n",
       "\n",
       "                    param   unit  value  \n",
       "time                                     \n",
       "2017-11-20 13:00:00  pm10  µg/m³   52.0  \n",
       "2017-11-20 13:00:00  pm10  µg/m³   28.0  \n",
       "2017-11-20 13:00:00  pm10  µg/m³   42.0  \n",
       "2017-11-20 13:00:00  pm10  µg/m³   34.0  \n",
       "2017-11-20 13:00:00  pm10  µg/m³   72.0  "
      ]
     },
     "execution_count": 342,
     "metadata": {},
     "output_type": "execute_result"
    }
   ],
   "source": [
    "pm10_rot.head()"
   ]
  },
  {
   "cell_type": "code",
   "execution_count": 343,
   "metadata": {
    "collapsed": true
   },
   "outputs": [],
   "source": [
    "# Now comes the magic of Pandas\n",
    "pm10_rot = pm10_rot.pivot(columns='loc', values='value')"
   ]
  },
  {
   "cell_type": "code",
   "execution_count": 344,
   "metadata": {
    "collapsed": false
   },
   "outputs": [
    {
     "data": {
      "text/html": [
       "<div>\n",
       "<table border=\"1\" class=\"dataframe\">\n",
       "  <thead>\n",
       "    <tr style=\"text-align: right;\">\n",
       "      <th>loc</th>\n",
       "      <th>Bangna, Bangna</th>\n",
       "      <th>Chong Nonsi, Yannawa</th>\n",
       "      <th>Intarapitak Rd., Thon Buri</th>\n",
       "      <th>Khlong Chan, Bang kapi</th>\n",
       "      <th>Lat Phrao Rd., Wang Thonglang</th>\n",
       "      <th>Pubpla, Wang Thonglang</th>\n",
       "      <th>Rama IV Rd., Pathum Wan</th>\n",
       "      <th>Samae Dam, Bang Khun Thian</th>\n",
       "      <th>Samsen Nai, Khet Phaya Thai</th>\n",
       "    </tr>\n",
       "    <tr>\n",
       "      <th>time</th>\n",
       "      <th></th>\n",
       "      <th></th>\n",
       "      <th></th>\n",
       "      <th></th>\n",
       "      <th></th>\n",
       "      <th></th>\n",
       "      <th></th>\n",
       "      <th></th>\n",
       "      <th></th>\n",
       "    </tr>\n",
       "  </thead>\n",
       "  <tbody>\n",
       "    <tr>\n",
       "      <th>2017-10-30 01:00:00</th>\n",
       "      <td>NaN</td>\n",
       "      <td>NaN</td>\n",
       "      <td>NaN</td>\n",
       "      <td>NaN</td>\n",
       "      <td>NaN</td>\n",
       "      <td>NaN</td>\n",
       "      <td>67.0</td>\n",
       "      <td>NaN</td>\n",
       "      <td>NaN</td>\n",
       "    </tr>\n",
       "    <tr>\n",
       "      <th>2017-10-30 02:00:00</th>\n",
       "      <td>64.0</td>\n",
       "      <td>NaN</td>\n",
       "      <td>68.0</td>\n",
       "      <td>57.0</td>\n",
       "      <td>78.0</td>\n",
       "      <td>NaN</td>\n",
       "      <td>67.0</td>\n",
       "      <td>NaN</td>\n",
       "      <td>NaN</td>\n",
       "    </tr>\n",
       "    <tr>\n",
       "      <th>2017-10-30 03:00:00</th>\n",
       "      <td>65.0</td>\n",
       "      <td>NaN</td>\n",
       "      <td>67.0</td>\n",
       "      <td>57.0</td>\n",
       "      <td>77.0</td>\n",
       "      <td>NaN</td>\n",
       "      <td>67.0</td>\n",
       "      <td>NaN</td>\n",
       "      <td>NaN</td>\n",
       "    </tr>\n",
       "    <tr>\n",
       "      <th>2017-10-30 04:00:00</th>\n",
       "      <td>65.0</td>\n",
       "      <td>NaN</td>\n",
       "      <td>67.0</td>\n",
       "      <td>58.0</td>\n",
       "      <td>78.0</td>\n",
       "      <td>NaN</td>\n",
       "      <td>67.0</td>\n",
       "      <td>NaN</td>\n",
       "      <td>NaN</td>\n",
       "    </tr>\n",
       "    <tr>\n",
       "      <th>2017-10-30 05:00:00</th>\n",
       "      <td>65.0</td>\n",
       "      <td>NaN</td>\n",
       "      <td>67.0</td>\n",
       "      <td>58.0</td>\n",
       "      <td>78.0</td>\n",
       "      <td>NaN</td>\n",
       "      <td>67.0</td>\n",
       "      <td>NaN</td>\n",
       "      <td>NaN</td>\n",
       "    </tr>\n",
       "  </tbody>\n",
       "</table>\n",
       "</div>"
      ],
      "text/plain": [
       "loc                  Bangna, Bangna  Chong Nonsi, Yannawa  \\\n",
       "time                                                        \n",
       "2017-10-30 01:00:00             NaN                   NaN   \n",
       "2017-10-30 02:00:00            64.0                   NaN   \n",
       "2017-10-30 03:00:00            65.0                   NaN   \n",
       "2017-10-30 04:00:00            65.0                   NaN   \n",
       "2017-10-30 05:00:00            65.0                   NaN   \n",
       "\n",
       "loc                  Intarapitak Rd., Thon Buri  Khlong Chan, Bang kapi  \\\n",
       "time                                                                      \n",
       "2017-10-30 01:00:00                         NaN                     NaN   \n",
       "2017-10-30 02:00:00                        68.0                    57.0   \n",
       "2017-10-30 03:00:00                        67.0                    57.0   \n",
       "2017-10-30 04:00:00                        67.0                    58.0   \n",
       "2017-10-30 05:00:00                        67.0                    58.0   \n",
       "\n",
       "loc                  Lat Phrao Rd., Wang Thonglang  Pubpla, Wang Thonglang  \\\n",
       "time                                                                         \n",
       "2017-10-30 01:00:00                            NaN                     NaN   \n",
       "2017-10-30 02:00:00                           78.0                     NaN   \n",
       "2017-10-30 03:00:00                           77.0                     NaN   \n",
       "2017-10-30 04:00:00                           78.0                     NaN   \n",
       "2017-10-30 05:00:00                           78.0                     NaN   \n",
       "\n",
       "loc                  Rama IV Rd., Pathum Wan  Samae Dam, Bang Khun Thian  \\\n",
       "time                                                                       \n",
       "2017-10-30 01:00:00                     67.0                         NaN   \n",
       "2017-10-30 02:00:00                     67.0                         NaN   \n",
       "2017-10-30 03:00:00                     67.0                         NaN   \n",
       "2017-10-30 04:00:00                     67.0                         NaN   \n",
       "2017-10-30 05:00:00                     67.0                         NaN   \n",
       "\n",
       "loc                  Samsen Nai, Khet Phaya Thai  \n",
       "time                                              \n",
       "2017-10-30 01:00:00                          NaN  \n",
       "2017-10-30 02:00:00                          NaN  \n",
       "2017-10-30 03:00:00                          NaN  \n",
       "2017-10-30 04:00:00                          NaN  \n",
       "2017-10-30 05:00:00                          NaN  "
      ]
     },
     "execution_count": 344,
     "metadata": {},
     "output_type": "execute_result"
    }
   ],
   "source": [
    "pm10_rot.head()"
   ]
  },
  {
   "cell_type": "code",
   "execution_count": 345,
   "metadata": {
    "collapsed": false
   },
   "outputs": [
    {
     "data": {
      "text/plain": [
       "array([<matplotlib.axes._subplots.AxesSubplot object at 0x11ff5fcc0>,\n",
       "       <matplotlib.axes._subplots.AxesSubplot object at 0x11d0fee48>,\n",
       "       <matplotlib.axes._subplots.AxesSubplot object at 0x11db714a8>,\n",
       "       <matplotlib.axes._subplots.AxesSubplot object at 0x11ffc71d0>,\n",
       "       <matplotlib.axes._subplots.AxesSubplot object at 0x11d93ccf8>,\n",
       "       <matplotlib.axes._subplots.AxesSubplot object at 0x11d93cd30>,\n",
       "       <matplotlib.axes._subplots.AxesSubplot object at 0x11dba5cc0>,\n",
       "       <matplotlib.axes._subplots.AxesSubplot object at 0x11d756198>,\n",
       "       <matplotlib.axes._subplots.AxesSubplot object at 0x11ce6b4e0>], dtype=object)"
      ]
     },
     "execution_count": 345,
     "metadata": {},
     "output_type": "execute_result"
    },
    {
     "data": {
      "image/png": "[encoded data removed]",
      "text/plain": [
       "<matplotlib.figure.Figure at 0x11ff64e80>"
      ]
     },
     "metadata": {},
     "output_type": "display_data"
    }
   ],
   "source": [
    "plt.rcParams['figure.figsize'] = (16, 16)\n",
    "pm10_rot.plot(subplots=True)"
   ]
  },
  {
   "cell_type": "code",
   "execution_count": null,
   "metadata": {
    "collapsed": true
   },
   "outputs": [],
   "source": []
  }
 ],
 "metadata": {
  "kernelspec": {
   "display_name": "Python [conda root]",
   "language": "python",
   "name": "conda-root-py"
  },
  "language_info": {
   "codemirror_mode": {
    "name": "ipython",
    "version": 3
   },
   "file_extension": ".py",
   "mimetype": "text/x-python",
   "name": "python",
   "nbconvert_exporter": "python",
   "pygments_lexer": "ipython3",
   "version": "3.6.0"
  }
 },
 "nbformat": 4,
 "nbformat_minor": 2
}
