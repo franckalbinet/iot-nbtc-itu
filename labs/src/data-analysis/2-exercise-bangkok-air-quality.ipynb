{
 "cells": [
  {
   "cell_type": "markdown",
   "metadata": {},
   "source": [
    "## II. ANALYZING AIR QUALITY IN BANGKOK"
   ]
  },
  {
   "cell_type": "code",
   "execution_count": 191,
   "metadata": {
    "collapsed": true
   },
   "outputs": [],
   "source": [
    "import pandas as pd\n",
    "import requests\n",
    "import folium\n",
    "import seaborn as sns\n",
    "import matplotlib.pyplot as plt\n",
    "%matplotlib inline"
   ]
  },
  {
   "cell_type": "markdown",
   "metadata": {},
   "source": [
    "## 1. Loading the data"
   ]
  },
  {
   "cell_type": "code",
   "execution_count": null,
   "metadata": {
    "collapsed": true
   },
   "outputs": [],
   "source": [
    "# Package the request, send the request and catch the response: r\n",
    "r = requests.get('https://api.openaq.org/v1/measurements?limit=10000&city=Bangkok')\n",
    "json_data = r.json()['results']"
   ]
  },
  {
   "cell_type": "code",
   "execution_count": 57,
   "metadata": {
    "collapsed": false
   },
   "outputs": [],
   "source": [
    "rows_list = []\n",
    "\n",
    "for m in json_data:\n",
    "    row = {'city': m['city'],\n",
    "           'lon': m['coordinates']['longitude'],\n",
    "           'lat': m['coordinates']['latitude'],\n",
    "           'time': m['date']['local'],\n",
    "           'loc': m['location'],\n",
    "           'param': m['parameter'],\n",
    "           'unit': m['unit'],\n",
    "           'value': m['value']\n",
    "          }\n",
    "    rows_list.append(row)\n",
    "\n",
    "data = pd.DataFrame(rows_list) \n",
    "data = data[['city','lon','lat','time','loc','param','unit','value']]"
   ]
  },
  {
   "cell_type": "code",
   "execution_count": 58,
   "metadata": {
    "collapsed": false
   },
   "outputs": [
    {
     "data": {
      "text/plain": [
       "(10000, 8)"
      ]
     },
     "execution_count": 58,
     "metadata": {},
     "output_type": "execute_result"
    }
   ],
   "source": [
    "data.shape"
   ]
  },
  {
   "cell_type": "code",
   "execution_count": 59,
   "metadata": {
    "collapsed": false
   },
   "outputs": [
    {
     "data": {
      "text/html": [
       "<div>\n",
       "<table border=\"1\" class=\"dataframe\">\n",
       "  <thead>\n",
       "    <tr style=\"text-align: right;\">\n",
       "      <th></th>\n",
       "      <th>city</th>\n",
       "      <th>lon</th>\n",
       "      <th>lat</th>\n",
       "      <th>time</th>\n",
       "      <th>loc</th>\n",
       "      <th>param</th>\n",
       "      <th>unit</th>\n",
       "      <th>value</th>\n",
       "    </tr>\n",
       "  </thead>\n",
       "  <tbody>\n",
       "    <tr>\n",
       "      <th>0</th>\n",
       "      <td>Bangkok</td>\n",
       "      <td>100.605741</td>\n",
       "      <td>13.666116</td>\n",
       "      <td>2017-11-17T19:00:00+07:00</td>\n",
       "      <td>Bangna, Bangna</td>\n",
       "      <td>co</td>\n",
       "      <td>ppm</td>\n",
       "      <td>0.940</td>\n",
       "    </tr>\n",
       "    <tr>\n",
       "      <th>1</th>\n",
       "      <td>Bangkok</td>\n",
       "      <td>100.505812</td>\n",
       "      <td>13.668461</td>\n",
       "      <td>2017-11-17T19:00:00+07:00</td>\n",
       "      <td>Samae Dam, Bang Khun Thian</td>\n",
       "      <td>o3</td>\n",
       "      <td>ppm</td>\n",
       "      <td>0.001</td>\n",
       "    </tr>\n",
       "    <tr>\n",
       "      <th>2</th>\n",
       "      <td>Bangkok</td>\n",
       "      <td>100.605741</td>\n",
       "      <td>13.666116</td>\n",
       "      <td>2017-11-17T19:00:00+07:00</td>\n",
       "      <td>Bangna, Bangna</td>\n",
       "      <td>no2</td>\n",
       "      <td>ppm</td>\n",
       "      <td>0.048</td>\n",
       "    </tr>\n",
       "    <tr>\n",
       "      <th>3</th>\n",
       "      <td>Bangkok</td>\n",
       "      <td>100.505812</td>\n",
       "      <td>13.668461</td>\n",
       "      <td>2017-11-17T19:00:00+07:00</td>\n",
       "      <td>Samae Dam, Bang Khun Thian</td>\n",
       "      <td>pm10</td>\n",
       "      <td>µg/m³</td>\n",
       "      <td>65.000</td>\n",
       "    </tr>\n",
       "    <tr>\n",
       "      <th>4</th>\n",
       "      <td>Bangkok</td>\n",
       "      <td>100.596078</td>\n",
       "      <td>13.792635</td>\n",
       "      <td>2017-11-17T19:00:00+07:00</td>\n",
       "      <td>Lat Phrao Rd., Wang Thonglang</td>\n",
       "      <td>no2</td>\n",
       "      <td>ppm</td>\n",
       "      <td>0.038</td>\n",
       "    </tr>\n",
       "  </tbody>\n",
       "</table>\n",
       "</div>"
      ],
      "text/plain": [
       "      city         lon        lat                       time  \\\n",
       "0  Bangkok  100.605741  13.666116  2017-11-17T19:00:00+07:00   \n",
       "1  Bangkok  100.505812  13.668461  2017-11-17T19:00:00+07:00   \n",
       "2  Bangkok  100.605741  13.666116  2017-11-17T19:00:00+07:00   \n",
       "3  Bangkok  100.505812  13.668461  2017-11-17T19:00:00+07:00   \n",
       "4  Bangkok  100.596078  13.792635  2017-11-17T19:00:00+07:00   \n",
       "\n",
       "                             loc param   unit   value  \n",
       "0                 Bangna, Bangna    co    ppm   0.940  \n",
       "1     Samae Dam, Bang Khun Thian    o3    ppm   0.001  \n",
       "2                 Bangna, Bangna   no2    ppm   0.048  \n",
       "3     Samae Dam, Bang Khun Thian  pm10  µg/m³  65.000  \n",
       "4  Lat Phrao Rd., Wang Thonglang   no2    ppm   0.038  "
      ]
     },
     "execution_count": 59,
     "metadata": {},
     "output_type": "execute_result"
    }
   ],
   "source": [
    "data.head()"
   ]
  },
  {
   "cell_type": "markdown",
   "metadata": {},
   "source": [
    "## 2. Getting acquainted with the data"
   ]
  },
  {
   "cell_type": "markdown",
   "metadata": {},
   "source": [
    "### Counts per values"
   ]
  },
  {
   "cell_type": "code",
   "execution_count": 114,
   "metadata": {
    "collapsed": false
   },
   "outputs": [],
   "source": [
    "def count_by(df, col_name):\n",
    "    print('-'*30)\n",
    "    print('# of measurements by: \"' + col_name + '\"\\n\\n', data[col_name].value_counts())"
   ]
  },
  {
   "cell_type": "code",
   "execution_count": 115,
   "metadata": {
    "collapsed": false
   },
   "outputs": [
    {
     "name": "stdout",
     "output_type": "stream",
     "text": [
      "------------------------------\n",
      "# of measurements by: \"city\"\n",
      "\n",
      " Bangkok    10000\n",
      "Name: city, dtype: int64\n",
      "------------------------------\n",
      "# of measurements by: \"loc\"\n",
      "\n",
      " Intarapitak Rd., Thon Buri       2157\n",
      "Bangna, Bangna                   2020\n",
      "Khlong Chan, Bang kapi           1526\n",
      "Lat Phrao Rd., Wang Thonglang    1482\n",
      "Samae Dam, Bang Khun Thian       1309\n",
      "Rama IV Rd., Pathum Wan          1306\n",
      "Chong Nonsi, Yannawa              141\n",
      "Pubpla, Wang Thonglang             48\n",
      "Samsen Nai, Khet Phaya Thai        11\n",
      "Name: loc, dtype: int64\n",
      "------------------------------\n",
      "# of measurements by: \"param\"\n",
      "\n",
      " no2     2710\n",
      "pm10    2662\n",
      "co      2014\n",
      "o3      1722\n",
      "so2      892\n",
      "Name: param, dtype: int64\n",
      "------------------------------\n",
      "# of measurements by: \"unit\"\n",
      "\n",
      " ppm      7338\n",
      "µg/m³    2662\n",
      "Name: unit, dtype: int64\n"
     ]
    }
   ],
   "source": [
    "for c in ['city', 'loc', 'param', 'unit']:\n",
    "    count_by(data, c)"
   ]
  },
  {
   "cell_type": "markdown",
   "metadata": {},
   "source": [
    "### Mapping measurement locations"
   ]
  },
  {
   "cell_type": "code",
   "execution_count": 120,
   "metadata": {
    "collapsed": true
   },
   "outputs": [],
   "source": [
    "# https://folium.readthedocs.io/en/latest/quickstart.html#getting-started\n",
    "# https://deparkes.co.uk/2016/06/10/folium-map-tiles/\n",
    "# http://nbviewer.jupyter.org/github/python-visualization/folium/tree/master/examples/"
   ]
  },
  {
   "cell_type": "code",
   "execution_count": 259,
   "metadata": {
    "collapsed": false
   },
   "outputs": [],
   "source": [
    "map_loc = folium.Map(location=[13.7563, 100.5018], tiles='cartodbpositron', zoom_start=11)"
   ]
  },
  {
   "cell_type": "code",
   "execution_count": 260,
   "metadata": {
    "collapsed": false
   },
   "outputs": [
    {
     "data": {
      "text/html": [
       "<div>\n",
       "<table border=\"1\" class=\"dataframe\">\n",
       "  <thead>\n",
       "    <tr style=\"text-align: right;\">\n",
       "      <th></th>\n",
       "      <th>loc</th>\n",
       "      <th>lon</th>\n",
       "      <th>lat</th>\n",
       "    </tr>\n",
       "  </thead>\n",
       "  <tbody>\n",
       "    <tr>\n",
       "      <th>0</th>\n",
       "      <td>Bangna, Bangna</td>\n",
       "      <td>100.605741</td>\n",
       "      <td>13.666116</td>\n",
       "    </tr>\n",
       "    <tr>\n",
       "      <th>1</th>\n",
       "      <td>Samae Dam, Bang Khun Thian</td>\n",
       "      <td>100.505812</td>\n",
       "      <td>13.668461</td>\n",
       "    </tr>\n",
       "    <tr>\n",
       "      <th>4</th>\n",
       "      <td>Lat Phrao Rd., Wang Thonglang</td>\n",
       "      <td>100.596078</td>\n",
       "      <td>13.792635</td>\n",
       "    </tr>\n",
       "    <tr>\n",
       "      <th>7</th>\n",
       "      <td>Intarapitak Rd., Thon Buri</td>\n",
       "      <td>100.486604</td>\n",
       "      <td>13.727559</td>\n",
       "    </tr>\n",
       "    <tr>\n",
       "      <th>11</th>\n",
       "      <td>Chong Nonsi, Yannawa</td>\n",
       "      <td>100.547345</td>\n",
       "      <td>13.708041</td>\n",
       "    </tr>\n",
       "    <tr>\n",
       "      <th>20</th>\n",
       "      <td>Khlong Chan, Bang kapi</td>\n",
       "      <td>100.636548</td>\n",
       "      <td>13.781520</td>\n",
       "    </tr>\n",
       "    <tr>\n",
       "      <th>206</th>\n",
       "      <td>Pubpla, Wang Thonglang</td>\n",
       "      <td>100.614562</td>\n",
       "      <td>13.769630</td>\n",
       "    </tr>\n",
       "    <tr>\n",
       "      <th>1360</th>\n",
       "      <td>Rama IV Rd., Pathum Wan</td>\n",
       "      <td>100.536494</td>\n",
       "      <td>13.729830</td>\n",
       "    </tr>\n",
       "    <tr>\n",
       "      <th>4895</th>\n",
       "      <td>Samsen Nai, Khet Phaya Thai</td>\n",
       "      <td>100.537798</td>\n",
       "      <td>13.780444</td>\n",
       "    </tr>\n",
       "  </tbody>\n",
       "</table>\n",
       "</div>"
      ],
      "text/plain": [
       "                                loc         lon        lat\n",
       "0                    Bangna, Bangna  100.605741  13.666116\n",
       "1        Samae Dam, Bang Khun Thian  100.505812  13.668461\n",
       "4     Lat Phrao Rd., Wang Thonglang  100.596078  13.792635\n",
       "7        Intarapitak Rd., Thon Buri  100.486604  13.727559\n",
       "11             Chong Nonsi, Yannawa  100.547345  13.708041\n",
       "20           Khlong Chan, Bang kapi  100.636548  13.781520\n",
       "206          Pubpla, Wang Thonglang  100.614562  13.769630\n",
       "1360        Rama IV Rd., Pathum Wan  100.536494  13.729830\n",
       "4895    Samsen Nai, Khet Phaya Thai  100.537798  13.780444"
      ]
     },
     "execution_count": 260,
     "metadata": {},
     "output_type": "execute_result"
    }
   ],
   "source": [
    "# Locations of interest\n",
    "data[['loc', 'lon', 'lat']].drop_duplicates()"
   ]
  },
  {
   "cell_type": "code",
   "execution_count": 261,
   "metadata": {
    "collapsed": false
   },
   "outputs": [
    {
     "data": {
      "image/png": "[encoded data removed]",
      "text/plain": [
       "<matplotlib.figure.Figure at 0x11c946128>"
      ]
     },
     "metadata": {},
     "output_type": "display_data"
    }
   ],
   "source": [
    "nb_loc = len(data[['loc', 'lon', 'lat']].drop_duplicates())\n",
    "color_palette = sns.color_palette(\"Set2\", nb_loc)\n",
    "sns.palplot(color_palette)"
   ]
  },
  {
   "cell_type": "code",
   "execution_count": 263,
   "metadata": {
    "collapsed": false
   },
   "outputs": [],
   "source": [
    "col_idx = 0\n",
    "for row in data[['loc', 'lon', 'lat']].drop_duplicates().itertuples():\n",
    "    location, lon, lat = row[1:4]\n",
    "    folium.CircleMarker([lat, lon],\n",
    "                        radius=10,\n",
    "                        popup='<i>' + location + '</i>',\n",
    "                        color=color_palette.as_hex()[col_idx],\n",
    "                        fill=True,\n",
    "                        fill_color=color_palette.as_hex()[col_idx],\n",
    "                        fill_opacity=0.8,\n",
    "                        line_opacity=0.8\n",
    "                       ).add_to(map_loc)\n",
    "    col_idx += 1"
   ]
  },
  {
   "cell_type": "code",
   "execution_count": 265,
   "metadata": {
    "collapsed": false,
    "scrolled": false
   },
   "outputs": [
    {
     "data": {
      "text/html": [
       "<div style=\"width:100%;\"><div style=\"position:relative;width:100%;height:0;padding-bottom:60%;\"><iframe src=\"data:text/html;charset=utf-8;base64,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\" style=\"position:absolute;width:100%;height:100%;left:0;top:0;border:none !important;\" allowfullscreen webkitallowfullscreen mozallowfullscreen></iframe></div></div>"
      ],
      "text/plain": [
       "<folium.folium.Map at 0x11c51b358>"
      ]
     },
     "execution_count": 265,
     "metadata": {},
     "output_type": "execute_result"
    }
   ],
   "source": [
    "map_loc"
   ]
  },
  {
   "cell_type": "code",
   "execution_count": null,
   "metadata": {
    "collapsed": true
   },
   "outputs": [],
   "source": []
  }
 ],
 "metadata": {
  "kernelspec": {
   "display_name": "Python [conda root]",
   "language": "python",
   "name": "conda-root-py"
  },
  "language_info": {
   "codemirror_mode": {
    "name": "ipython",
    "version": 3
   },
   "file_extension": ".py",
   "mimetype": "text/x-python",
   "name": "python",
   "nbconvert_exporter": "python",
   "pygments_lexer": "ipython3",
   "version": "3.6.0"
  }
 },
 "nbformat": 4,
 "nbformat_minor": 2
}
