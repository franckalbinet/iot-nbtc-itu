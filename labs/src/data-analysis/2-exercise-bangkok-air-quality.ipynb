{
 "cells": [
  {
   "cell_type": "markdown",
   "metadata": {},
   "source": [
    "## II. ANALYZING AIR QUALITY IN BANGKOK [EXERCISE]\n",
    "We want in this exercise to analyze air quality data in Bangkok provided by the **`OpenAQ`** platform.\n",
    "\n",
    "> \"OpenAQ is the world's first open, real-time and historical air quality platform, aggregating government-measured and research-grade data - entirely open-source. To do so, we will access to crowd-sourced data\"\n",
    "\n",
    "For further information: https://github.com/openaq/openaq-info/blob/master/FAQ.md#whatis\n",
    "\n",
    "While illustrating typical steps of a data analysis workflow: data loading, data transformation, Exploratory Data Analysis (EDA) and specific Python's tools/techniques, this notebook will as well allow to draw attention to important aspects of data analysis such as missing values handling and data validation."
   ]
  },
  {
   "cell_type": "code",
   "execution_count": 2,
   "metadata": {
    "collapsed": true
   },
   "outputs": [],
   "source": [
    "import pandas as pd\n",
    "import requests\n",
    "import folium\n",
    "import seaborn as sns\n",
    "import matplotlib.pyplot as plt\n",
    "%matplotlib inline"
   ]
  },
  {
   "cell_type": "markdown",
   "metadata": {},
   "source": [
    "If you get an error after executing the previous cell, install required packages if needed."
   ]
  },
  {
   "cell_type": "markdown",
   "metadata": {},
   "source": [
    "## 1. Loading the data\n",
    "**`OpenAQ`** API documention can be accessed here: https://docs.openaq.org/\n",
    "\n",
    "To load the data you need to pass the appropriate URL to the \n",
    "\n",
    "`requests.get(url)` method.\n",
    "\n",
    "In our cases, we want all measurements taken in Bangkok in a specific period."
   ]
  },
  {
   "cell_type": "code",
   "execution_count": 40,
   "metadata": {
    "collapsed": false
   },
   "outputs": [],
   "source": [
    "### START CODE HERE ### (≈1 line)\n",
    "# Call 'requests.get(...)' and assign to 'r'\n",
    "r = None\n",
    "### END CODE HERE ###"
   ]
  },
  {
   "cell_type": "code",
   "execution_count": null,
   "metadata": {
    "collapsed": true
   },
   "outputs": [],
   "source": [
    "# Print returned json and check its structure\n",
    "print(r.json())"
   ]
  },
  {
   "cell_type": "code",
   "execution_count": 38,
   "metadata": {
    "collapsed": true
   },
   "outputs": [],
   "source": [
    "# Retrieving the 'results' only ()\n",
    "json_data = r.json()['results']"
   ]
  },
  {
   "cell_type": "code",
   "execution_count": null,
   "metadata": {
    "collapsed": true
   },
   "outputs": [],
   "source": [
    "print(json_data)"
   ]
  },
  {
   "cell_type": "markdown",
   "metadata": {},
   "source": [
    "We've already seen that Pandas dataframe type is very convenient for data analysis. If you pass a list of dictionnary to the Pandas method: \n",
    "\n",
    "`pd.DataFrame(list_of_dict)`\n",
    "\n",
    "with for instance \n",
    "\n",
    "`list_of_dict=[{'param': 'pm10', 'value': 40}, {'param': 'pm2.5', 'value': 30}, ...]`\n",
    "\n",
    "then you would get a Pandas dataframe with ['param', 'value'] columns.\n",
    "\n",
    "When you print, `json_data` you notice that each element of the list have not the appropriate structure (nested dictionaries, ...). As a result, we need to iterate over this initial list to create the structure we want.\n",
    "\n",
    "In the cell below, you need:\n",
    "* to iterate over the list,\n",
    "* create a single row and,\n",
    "* append it to 'the rows_list' list"
   ]
  },
  {
   "cell_type": "code",
   "execution_count": 42,
   "metadata": {
    "collapsed": false
   },
   "outputs": [],
   "source": [
    "rows_list = []\n",
    "\n",
    "for m in json_data:\n",
    "    row = {'city': m['city'],\n",
    "           'lon': m['coordinates']['longitude'],\n",
    "           'lat': m['coordinates']['latitude'],\n",
    "           'time': m['date']['local'],\n",
    "           'loc': m['location'],\n",
    "           'param': m['parameter'],\n",
    "           'unit': m['unit'],\n",
    "           'value': m['value']\n",
    "          }\n",
    "\n",
    "    ### START CODE HERE ### (≈1 line)\n",
    "    # Append row to rows_list\n",
    "    \n",
    "    ### END CODE HERE ###"
   ]
  },
  {
   "cell_type": "code",
   "execution_count": null,
   "metadata": {
    "collapsed": true
   },
   "outputs": [],
   "source": [
    "print(rows_list)"
   ]
  },
  {
   "cell_type": "code",
   "execution_count": 45,
   "metadata": {
    "collapsed": true
   },
   "outputs": [],
   "source": [
    "# Now to create a Dataframe, simply:\n",
    "data = pd.DataFrame(rows_list) \n",
    "\n",
    "# Here we simply reorder the columns in a prefered way\n",
    "data = data[['city','lon','lat','time','loc','param','unit','value']]"
   ]
  },
  {
   "cell_type": "code",
   "execution_count": 46,
   "metadata": {
    "collapsed": false
   },
   "outputs": [],
   "source": [
    "### START CODE HERE ### (≈1 line)\n",
    "# Print the shape of data\n",
    "    \n",
    "### END CODE HERE ###"
   ]
  },
  {
   "cell_type": "code",
   "execution_count": 47,
   "metadata": {
    "collapsed": false
   },
   "outputs": [],
   "source": [
    "### START CODE HERE ### (≈1 line)\n",
    "# Print the first 5 rows of data\n",
    "    \n",
    "### END CODE HERE ###"
   ]
  },
  {
   "cell_type": "markdown",
   "metadata": {},
   "source": [
    "## 2. Getting acquainted with the data\n",
    "Now we've loaded the data and structured in your wanted way, it is time to get a quick look at it."
   ]
  },
  {
   "cell_type": "markdown",
   "metadata": {},
   "source": [
    "### Counts per values"
   ]
  },
  {
   "cell_type": "markdown",
   "metadata": {},
   "source": [
    "As a first approach, we would like to answer the following questions:\n",
    "* how many locations and how many measurements collected for each?\n",
    "* what king of parameters have been measured and how much?\n",
    "* what are the various units used?\n",
    "\n",
    "To have the count of rows per category, you can simply call the `.value_counts()` method on a column of interest of your dataframe."
   ]
  },
  {
   "cell_type": "code",
   "execution_count": 53,
   "metadata": {
    "collapsed": false
   },
   "outputs": [],
   "source": [
    "### START CODE HERE ### (≈1 line)\n",
    "# Get the list of location and number of measurements carried out for each of them.\n",
    "    \n",
    "### END CODE HERE ###"
   ]
  },
  {
   "cell_type": "markdown",
   "metadata": {},
   "source": [
    "Usually, as soon as you start copying and pasting a snippet of code, this is a good signal to write a function. Below, we've created an ad hoc function allowing to factorize the code and get the counts of row/measurements by value (for instance location) for a list of column names. "
   ]
  },
  {
   "cell_type": "code",
   "execution_count": 54,
   "metadata": {
    "collapsed": false
   },
   "outputs": [],
   "source": [
    "def count_by(df, col_name):\n",
    "    print('-'*30)\n",
    "    print('# of measurements by: \"' + col_name + '\"\\n\\n', df[col_name].value_counts())"
   ]
  },
  {
   "cell_type": "code",
   "execution_count": 55,
   "metadata": {
    "collapsed": false
   },
   "outputs": [
    {
     "name": "stdout",
     "output_type": "stream",
     "text": [
      "------------------------------\n",
      "# of measurements by: \"city\"\n",
      "\n",
      " Bangkok    10000\n",
      "Name: city, dtype: int64\n",
      "------------------------------\n",
      "# of measurements by: \"loc\"\n",
      "\n",
      " Intarapitak Rd., Thon Buri       2054\n",
      "Bangna, Bangna                   1869\n",
      "Samae Dam, Bang Khun Thian       1649\n",
      "Khlong Chan, Bang kapi           1437\n",
      "Lat Phrao Rd., Wang Thonglang    1393\n",
      "Rama IV Rd., Pathum Wan          1176\n",
      "Chong Nonsi, Yannawa              372\n",
      "Pubpla, Wang Thonglang             43\n",
      "Samsen Nai, Khet Phaya Thai         7\n",
      "Name: loc, dtype: int64\n",
      "------------------------------\n",
      "# of measurements by: \"param\"\n",
      "\n",
      " no2     2718\n",
      "pm10    2700\n",
      "co      1987\n",
      "o3      1718\n",
      "so2      877\n",
      "Name: param, dtype: int64\n",
      "------------------------------\n",
      "# of measurements by: \"unit\"\n",
      "\n",
      " ppm      7300\n",
      "µg/m³    2700\n",
      "Name: unit, dtype: int64\n"
     ]
    }
   ],
   "source": [
    "for c in ['city', 'loc', 'param', 'unit']:\n",
    "    count_by(data, c)"
   ]
  },
  {
   "cell_type": "markdown",
   "metadata": {},
   "source": [
    "### Mapping measurement locations\n",
    "To create map in Python and Jupyter notebook, various solutions are available. We outline below simple steps to get a quick map of measurement stations. \n",
    "\n",
    "Looking at the documentation below, feel free to further elaborate the basic map plotted (for instance, update the radius of circles based on measurement statistics, ...)."
   ]
  },
  {
   "cell_type": "code",
   "execution_count": 9,
   "metadata": {
    "collapsed": true
   },
   "outputs": [],
   "source": [
    "# https://folium.readthedocs.io/en/latest/quickstart.html#getting-started\n",
    "# https://deparkes.co.uk/2016/06/10/folium-map-tiles/\n",
    "# http://nbviewer.jupyter.org/github/python-visualization/folium/tree/master/examples/"
   ]
  },
  {
   "cell_type": "code",
   "execution_count": 10,
   "metadata": {
    "collapsed": false
   },
   "outputs": [],
   "source": [
    "map_loc = folium.Map(location=[13.7563, 100.5018], tiles='cartodbpositron', zoom_start=11)"
   ]
  },
  {
   "cell_type": "code",
   "execution_count": 11,
   "metadata": {
    "collapsed": false
   },
   "outputs": [
    {
     "data": {
      "text/html": [
       "<div>\n",
       "<table border=\"1\" class=\"dataframe\">\n",
       "  <thead>\n",
       "    <tr style=\"text-align: right;\">\n",
       "      <th></th>\n",
       "      <th>loc</th>\n",
       "      <th>lon</th>\n",
       "      <th>lat</th>\n",
       "    </tr>\n",
       "  </thead>\n",
       "  <tbody>\n",
       "    <tr>\n",
       "      <th>0</th>\n",
       "      <td>Intarapitak Rd., Thon Buri</td>\n",
       "      <td>100.486604</td>\n",
       "      <td>13.727559</td>\n",
       "    </tr>\n",
       "    <tr>\n",
       "      <th>2</th>\n",
       "      <td>Bangna, Bangna</td>\n",
       "      <td>100.605741</td>\n",
       "      <td>13.666116</td>\n",
       "    </tr>\n",
       "    <tr>\n",
       "      <th>5</th>\n",
       "      <td>Samae Dam, Bang Khun Thian</td>\n",
       "      <td>100.505812</td>\n",
       "      <td>13.668461</td>\n",
       "    </tr>\n",
       "    <tr>\n",
       "      <th>11</th>\n",
       "      <td>Chong Nonsi, Yannawa</td>\n",
       "      <td>100.547345</td>\n",
       "      <td>13.708041</td>\n",
       "    </tr>\n",
       "    <tr>\n",
       "      <th>18</th>\n",
       "      <td>Rama IV Rd., Pathum Wan</td>\n",
       "      <td>100.536494</td>\n",
       "      <td>13.729830</td>\n",
       "    </tr>\n",
       "    <tr>\n",
       "      <th>30</th>\n",
       "      <td>Khlong Chan, Bang kapi</td>\n",
       "      <td>100.636548</td>\n",
       "      <td>13.781520</td>\n",
       "    </tr>\n",
       "    <tr>\n",
       "      <th>39</th>\n",
       "      <td>Lat Phrao Rd., Wang Thonglang</td>\n",
       "      <td>100.596078</td>\n",
       "      <td>13.792635</td>\n",
       "    </tr>\n",
       "    <tr>\n",
       "      <th>155</th>\n",
       "      <td>Pubpla, Wang Thonglang</td>\n",
       "      <td>100.614562</td>\n",
       "      <td>13.769630</td>\n",
       "    </tr>\n",
       "    <tr>\n",
       "      <th>7074</th>\n",
       "      <td>Samsen Nai, Khet Phaya Thai</td>\n",
       "      <td>100.537798</td>\n",
       "      <td>13.780444</td>\n",
       "    </tr>\n",
       "  </tbody>\n",
       "</table>\n",
       "</div>"
      ],
      "text/plain": [
       "                                loc         lon        lat\n",
       "0        Intarapitak Rd., Thon Buri  100.486604  13.727559\n",
       "2                    Bangna, Bangna  100.605741  13.666116\n",
       "5        Samae Dam, Bang Khun Thian  100.505812  13.668461\n",
       "11             Chong Nonsi, Yannawa  100.547345  13.708041\n",
       "18          Rama IV Rd., Pathum Wan  100.536494  13.729830\n",
       "30           Khlong Chan, Bang kapi  100.636548  13.781520\n",
       "39    Lat Phrao Rd., Wang Thonglang  100.596078  13.792635\n",
       "155          Pubpla, Wang Thonglang  100.614562  13.769630\n",
       "7074    Samsen Nai, Khet Phaya Thai  100.537798  13.780444"
      ]
     },
     "execution_count": 11,
     "metadata": {},
     "output_type": "execute_result"
    }
   ],
   "source": [
    "# Locations of interest\n",
    "data[['loc', 'lon', 'lat']].drop_duplicates()"
   ]
  },
  {
   "cell_type": "code",
   "execution_count": 12,
   "metadata": {
    "collapsed": false
   },
   "outputs": [
    {
     "data": {
      "image/png": "[encoded data removed]",
      "text/plain": [
       "<matplotlib.figure.Figure at 0x10fd957f0>"
      ]
     },
     "metadata": {},
     "output_type": "display_data"
    }
   ],
   "source": [
    "nb_loc = len(data[['loc', 'lon', 'lat']].drop_duplicates())\n",
    "color_palette = sns.color_palette(\"Set2\", nb_loc)\n",
    "sns.palplot(color_palette)"
   ]
  },
  {
   "cell_type": "code",
   "execution_count": 13,
   "metadata": {
    "collapsed": false
   },
   "outputs": [],
   "source": [
    "col_idx = 0\n",
    "for row in data[['loc', 'lon', 'lat']].drop_duplicates().itertuples():\n",
    "    location, lon, lat = row[1:4]\n",
    "    folium.CircleMarker([lat, lon],\n",
    "                        radius=10,\n",
    "                        popup='<i>' + location + '</i>',\n",
    "                        color=color_palette.as_hex()[col_idx],\n",
    "                        fill=True,\n",
    "                        fill_color=color_palette.as_hex()[col_idx],\n",
    "                        fill_opacity=0.8,\n",
    "                        line_opacity=0.8\n",
    "                       ).add_to(map_loc)\n",
    "    col_idx += 1"
   ]
  },
  {
   "cell_type": "code",
   "execution_count": 56,
   "metadata": {
    "collapsed": false,
    "scrolled": false
   },
   "outputs": [
    {
     "data": {
      "text/html": [
       "<div style=\"width:100%;\"><div style=\"position:relative;width:100%;height:0;padding-bottom:60%;\"><iframe src=\"data:text/html;charset=utf-8;base64,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\" style=\"position:absolute;width:100%;height:100%;left:0;top:0;border:none !important;\" allowfullscreen webkitallowfullscreen mozallowfullscreen></iframe></div></div>"
      ],
      "text/plain": [
       "<folium.folium.Map at 0x111ffe390>"
      ]
     },
     "execution_count": 56,
     "metadata": {},
     "output_type": "execute_result"
    }
   ],
   "source": [
    "map_loc"
   ]
  },
  {
   "cell_type": "markdown",
   "metadata": {},
   "source": [
    "## 3. Data analyis | the case of Particulate Matter 10 [pm10]\n",
    "According to various international/regional organization (see for instance WHO guidelines http://www.who.int/mediacentre/factsheets/fs313/en/), the limit exposure to small particulate matter of 10 microns or less in diameter (PM10) should not exceed: \n",
    "* the limit daily average per day of 50 μg/m3\n",
    "* the limit yearly average per day of 40 μg/m3\n",
    "\n",
    "Based on the fetched data, we would like to see, and calculate the daily average of PM10 concentation."
   ]
  },
  {
   "cell_type": "code",
   "execution_count": 57,
   "metadata": {
    "collapsed": false
   },
   "outputs": [],
   "source": [
    "# We subset the data where parameter measured is 'pm10'\n",
    "pm10 = data[data.param == 'pm10']"
   ]
  },
  {
   "cell_type": "code",
   "execution_count": 58,
   "metadata": {
    "collapsed": false
   },
   "outputs": [
    {
     "data": {
      "text/html": [
       "<div>\n",
       "<table border=\"1\" class=\"dataframe\">\n",
       "  <thead>\n",
       "    <tr style=\"text-align: right;\">\n",
       "      <th></th>\n",
       "      <th>city</th>\n",
       "      <th>lon</th>\n",
       "      <th>lat</th>\n",
       "      <th>time</th>\n",
       "      <th>loc</th>\n",
       "      <th>param</th>\n",
       "      <th>unit</th>\n",
       "      <th>value</th>\n",
       "    </tr>\n",
       "  </thead>\n",
       "  <tbody>\n",
       "    <tr>\n",
       "      <th>3</th>\n",
       "      <td>Bangkok</td>\n",
       "      <td>100.486604</td>\n",
       "      <td>13.727559</td>\n",
       "      <td>2017-11-21T16:00:00+07:00</td>\n",
       "      <td>Intarapitak Rd., Thon Buri</td>\n",
       "      <td>pm10</td>\n",
       "      <td>µg/m³</td>\n",
       "      <td>27.0</td>\n",
       "    </tr>\n",
       "    <tr>\n",
       "      <th>4</th>\n",
       "      <td>Bangkok</td>\n",
       "      <td>100.605741</td>\n",
       "      <td>13.666116</td>\n",
       "      <td>2017-11-21T16:00:00+07:00</td>\n",
       "      <td>Bangna, Bangna</td>\n",
       "      <td>pm10</td>\n",
       "      <td>µg/m³</td>\n",
       "      <td>26.0</td>\n",
       "    </tr>\n",
       "    <tr>\n",
       "      <th>14</th>\n",
       "      <td>Bangkok</td>\n",
       "      <td>100.505812</td>\n",
       "      <td>13.668461</td>\n",
       "      <td>2017-11-21T16:00:00+07:00</td>\n",
       "      <td>Samae Dam, Bang Khun Thian</td>\n",
       "      <td>pm10</td>\n",
       "      <td>µg/m³</td>\n",
       "      <td>28.0</td>\n",
       "    </tr>\n",
       "    <tr>\n",
       "      <th>21</th>\n",
       "      <td>Bangkok</td>\n",
       "      <td>100.536494</td>\n",
       "      <td>13.729830</td>\n",
       "      <td>2017-11-21T15:00:00+07:00</td>\n",
       "      <td>Rama IV Rd., Pathum Wan</td>\n",
       "      <td>pm10</td>\n",
       "      <td>µg/m³</td>\n",
       "      <td>35.0</td>\n",
       "    </tr>\n",
       "    <tr>\n",
       "      <th>25</th>\n",
       "      <td>Bangkok</td>\n",
       "      <td>100.547345</td>\n",
       "      <td>13.708041</td>\n",
       "      <td>2017-11-21T15:00:00+07:00</td>\n",
       "      <td>Chong Nonsi, Yannawa</td>\n",
       "      <td>pm10</td>\n",
       "      <td>µg/m³</td>\n",
       "      <td>21.0</td>\n",
       "    </tr>\n",
       "  </tbody>\n",
       "</table>\n",
       "</div>"
      ],
      "text/plain": [
       "       city         lon        lat                       time  \\\n",
       "3   Bangkok  100.486604  13.727559  2017-11-21T16:00:00+07:00   \n",
       "4   Bangkok  100.605741  13.666116  2017-11-21T16:00:00+07:00   \n",
       "14  Bangkok  100.505812  13.668461  2017-11-21T16:00:00+07:00   \n",
       "21  Bangkok  100.536494  13.729830  2017-11-21T15:00:00+07:00   \n",
       "25  Bangkok  100.547345  13.708041  2017-11-21T15:00:00+07:00   \n",
       "\n",
       "                           loc param   unit  value  \n",
       "3   Intarapitak Rd., Thon Buri  pm10  µg/m³   27.0  \n",
       "4               Bangna, Bangna  pm10  µg/m³   26.0  \n",
       "14  Samae Dam, Bang Khun Thian  pm10  µg/m³   28.0  \n",
       "21     Rama IV Rd., Pathum Wan  pm10  µg/m³   35.0  \n",
       "25        Chong Nonsi, Yannawa  pm10  µg/m³   21.0  "
      ]
     },
     "execution_count": 58,
     "metadata": {},
     "output_type": "execute_result"
    }
   ],
   "source": [
    "pm10.head()"
   ]
  },
  {
   "cell_type": "code",
   "execution_count": 59,
   "metadata": {
    "collapsed": false
   },
   "outputs": [],
   "source": [
    "### START CODE HERE ### (≈1 line)\n",
    "# Get an histogram of pm10 values\n",
    "\n",
    "### END CODE HERE ###"
   ]
  },
  {
   "cell_type": "code",
   "execution_count": 60,
   "metadata": {
    "collapsed": false
   },
   "outputs": [],
   "source": [
    "# we assign here the list of locations of interest to `locations` var\n",
    "locations = data[['loc', 'lon', 'lat']].drop_duplicates()['loc'].values"
   ]
  },
  {
   "cell_type": "code",
   "execution_count": 62,
   "metadata": {
    "collapsed": false
   },
   "outputs": [
    {
     "name": "stdout",
     "output_type": "stream",
     "text": [
      "['Intarapitak Rd., Thon Buri' 'Bangna, Bangna' 'Samae Dam, Bang Khun Thian'\n",
      " 'Chong Nonsi, Yannawa' 'Rama IV Rd., Pathum Wan' 'Khlong Chan, Bang kapi'\n",
      " 'Lat Phrao Rd., Wang Thonglang' 'Pubpla, Wang Thonglang'\n",
      " 'Samsen Nai, Khet Phaya Thai']\n"
     ]
    }
   ],
   "source": [
    "print(locations)"
   ]
  },
  {
   "cell_type": "code",
   "execution_count": 63,
   "metadata": {
    "collapsed": false
   },
   "outputs": [
    {
     "data": {
      "image/png": "[encoded data removed]",
      "text/plain": [
       "<matplotlib.figure.Figure at 0x104b4fd30>"
      ]
     },
     "metadata": {},
     "output_type": "display_data"
    }
   ],
   "source": [
    "# Study carefully this code snippet in order to see how to plot sytematically histograms for all locations\n",
    "plt.rcParams['figure.figsize'] = (20, 20)\n",
    "def draw_histograms_by_loc(n_rows, n_cols):\n",
    "    locations = data[['loc', 'lon', 'lat']].drop_duplicates()['loc'].values\n",
    "    fig = plt.figure()\n",
    "    for i, loc in enumerate(locations):\n",
    "        ax = fig.add_subplot(n_rows, n_cols, i+1)\n",
    "        pm10[pm10['loc'] == loc]['value'].hist(bins=10, ax=ax)\n",
    "        plt.axvline(x=50, color='r', linestyle='--')\n",
    "        ax.set_title(loc)\n",
    "    fig.tight_layout()  # Improves appearance a bit.\n",
    "    plt.show()\n",
    "\n",
    "draw_histograms_by_loc(5, 3)"
   ]
  },
  {
   "cell_type": "markdown",
   "metadata": {},
   "source": [
    "### Exploring time dimensions"
   ]
  },
  {
   "cell_type": "code",
   "execution_count": 64,
   "metadata": {
    "collapsed": false
   },
   "outputs": [
    {
     "data": {
      "text/html": [
       "<div>\n",
       "<table border=\"1\" class=\"dataframe\">\n",
       "  <thead>\n",
       "    <tr style=\"text-align: right;\">\n",
       "      <th></th>\n",
       "      <th>city</th>\n",
       "      <th>lon</th>\n",
       "      <th>lat</th>\n",
       "      <th>time</th>\n",
       "      <th>loc</th>\n",
       "      <th>param</th>\n",
       "      <th>unit</th>\n",
       "      <th>value</th>\n",
       "    </tr>\n",
       "  </thead>\n",
       "  <tbody>\n",
       "    <tr>\n",
       "      <th>3</th>\n",
       "      <td>Bangkok</td>\n",
       "      <td>100.486604</td>\n",
       "      <td>13.727559</td>\n",
       "      <td>2017-11-21T16:00:00+07:00</td>\n",
       "      <td>Intarapitak Rd., Thon Buri</td>\n",
       "      <td>pm10</td>\n",
       "      <td>µg/m³</td>\n",
       "      <td>27.0</td>\n",
       "    </tr>\n",
       "    <tr>\n",
       "      <th>4</th>\n",
       "      <td>Bangkok</td>\n",
       "      <td>100.605741</td>\n",
       "      <td>13.666116</td>\n",
       "      <td>2017-11-21T16:00:00+07:00</td>\n",
       "      <td>Bangna, Bangna</td>\n",
       "      <td>pm10</td>\n",
       "      <td>µg/m³</td>\n",
       "      <td>26.0</td>\n",
       "    </tr>\n",
       "    <tr>\n",
       "      <th>14</th>\n",
       "      <td>Bangkok</td>\n",
       "      <td>100.505812</td>\n",
       "      <td>13.668461</td>\n",
       "      <td>2017-11-21T16:00:00+07:00</td>\n",
       "      <td>Samae Dam, Bang Khun Thian</td>\n",
       "      <td>pm10</td>\n",
       "      <td>µg/m³</td>\n",
       "      <td>28.0</td>\n",
       "    </tr>\n",
       "    <tr>\n",
       "      <th>21</th>\n",
       "      <td>Bangkok</td>\n",
       "      <td>100.536494</td>\n",
       "      <td>13.729830</td>\n",
       "      <td>2017-11-21T15:00:00+07:00</td>\n",
       "      <td>Rama IV Rd., Pathum Wan</td>\n",
       "      <td>pm10</td>\n",
       "      <td>µg/m³</td>\n",
       "      <td>35.0</td>\n",
       "    </tr>\n",
       "    <tr>\n",
       "      <th>25</th>\n",
       "      <td>Bangkok</td>\n",
       "      <td>100.547345</td>\n",
       "      <td>13.708041</td>\n",
       "      <td>2017-11-21T15:00:00+07:00</td>\n",
       "      <td>Chong Nonsi, Yannawa</td>\n",
       "      <td>pm10</td>\n",
       "      <td>µg/m³</td>\n",
       "      <td>21.0</td>\n",
       "    </tr>\n",
       "  </tbody>\n",
       "</table>\n",
       "</div>"
      ],
      "text/plain": [
       "       city         lon        lat                       time  \\\n",
       "3   Bangkok  100.486604  13.727559  2017-11-21T16:00:00+07:00   \n",
       "4   Bangkok  100.605741  13.666116  2017-11-21T16:00:00+07:00   \n",
       "14  Bangkok  100.505812  13.668461  2017-11-21T16:00:00+07:00   \n",
       "21  Bangkok  100.536494  13.729830  2017-11-21T15:00:00+07:00   \n",
       "25  Bangkok  100.547345  13.708041  2017-11-21T15:00:00+07:00   \n",
       "\n",
       "                           loc param   unit  value  \n",
       "3   Intarapitak Rd., Thon Buri  pm10  µg/m³   27.0  \n",
       "4               Bangna, Bangna  pm10  µg/m³   26.0  \n",
       "14  Samae Dam, Bang Khun Thian  pm10  µg/m³   28.0  \n",
       "21     Rama IV Rd., Pathum Wan  pm10  µg/m³   35.0  \n",
       "25        Chong Nonsi, Yannawa  pm10  µg/m³   21.0  "
      ]
     },
     "execution_count": 64,
     "metadata": {},
     "output_type": "execute_result"
    }
   ],
   "source": [
    "pm10.head(5)"
   ]
  },
  {
   "cell_type": "code",
   "execution_count": null,
   "metadata": {
    "collapsed": true
   },
   "outputs": [],
   "source": [
    "### START CODE HERE ### (≈2-3 lines)\n",
    "# Instead of data structure below, to simplify time series plotting\n",
    "# we'd like to rotate the dataframe to get the following structure:\n",
    "#\n",
    "#      time,'Intarapitak Rd.', 'Thon Buri', ... (other location's name)\n",
    "#      2017-11-21 09:00:00,27.3,34.2, ...\n",
    "#\n",
    "#  with time column as index\n",
    "#  Assign the rotated dataframe to the variable `pm10_rot`\n",
    "# \n",
    "pm10_rot = None\n",
    "### END CODE HERE ###"
   ]
  },
  {
   "cell_type": "code",
   "execution_count": null,
   "metadata": {
    "collapsed": true
   },
   "outputs": [],
   "source": [
    "# Below, we plot the time series of all locations\n",
    "plt.rcParams['figure.figsize'] = (16, 16)\n",
    "pm10_rot.plot(subplots=True)"
   ]
  },
  {
   "cell_type": "code",
   "execution_count": null,
   "metadata": {
    "collapsed": true
   },
   "outputs": [],
   "source": [
    "### START CODE HERE ### (≈1 line)\n",
    "# Resample the newly/rotated data frame on a daily basis and get the mean of measurements\n",
    "# You can do so by using the `.resample('D').mean()` chained method on a dataframe\n",
    "\n",
    "### END CODE HERE ###"
   ]
  },
  {
   "cell_type": "markdown",
   "metadata": {},
   "source": [
    "### Bonus questions"
   ]
  },
  {
   "cell_type": "markdown",
   "metadata": {},
   "source": [
    "1. How to deal with missing values?\n",
    "2. What is the # of days where daily limit exceed 50μg/day over the period considered?\n",
    "3. How trustable are the data you fetched?\n",
    "4. ..."
   ]
  }
 ],
 "metadata": {
  "kernelspec": {
   "display_name": "Python [conda root]",
   "language": "python",
   "name": "conda-root-py"
  }
 },
 "nbformat": 4,
 "nbformat_minor": 2
}
