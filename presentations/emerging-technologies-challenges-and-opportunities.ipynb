{
 "cells": [
  {
   "cell_type": "code",
   "execution_count": null,
   "metadata": {
    "collapsed": true,
    "slideshow": {
     "slide_type": "notes"
    }
   },
   "outputs": [],
   "source": [
    "# To run this notebook as a reveal.js presentation, run the following command in notebook's folder:\n",
    "# `jupyter-nbconvert --to slides 1-python-in-one-hour-or-so.ipynb --reveal-prefix=reveal.js --post serve`"
   ]
  },
  {
   "cell_type": "markdown",
   "metadata": {
    "slideshow": {
     "slide_type": "slide"
    }
   },
   "source": [
    "# EMERGING TECHNOLOGIES\n",
    "# CHALLENGES & OPPORTUNITIES"
   ]
  },
  {
   "cell_type": "markdown",
   "metadata": {
    "slideshow": {
     "slide_type": "slide"
    }
   },
   "source": [
    "# CHAPTER 1 ► GARTNER'S HYPE CYCLE 2017"
   ]
  },
  {
   "cell_type": "markdown",
   "metadata": {
    "slideshow": {
     "slide_type": "subslide"
    }
   },
   "source": [
    "Reference: https://goo.gl/bstq8e\n",
    "\n",
    "![img/hype-cycle-gartner.png](img/hype-cycle-gartner.png)"
   ]
  },
  {
   "cell_type": "markdown",
   "metadata": {
    "slideshow": {
     "slide_type": "subslide"
    }
   },
   "source": [
    "## Key takeaways:\n",
    "\n",
    "* **Heavy R&D spending from Amazon, Apple, Baidu, Google, IBM, Microsoft, and Facebook is fueling a race for Deep Learning and Machine Learning patents today and will accelerate in the future**\n",
    "\n",
    "* **Artificial General Intelligence is going to become pervasive during the next decade, becoming the foundation of AI as a Service**"
   ]
  },
  {
   "cell_type": "markdown",
   "metadata": {
    "slideshow": {
     "slide_type": "slide"
    }
   },
   "source": [
    "# CHAPTER 2 ► WHAT IS BIG DATA?"
   ]
  },
  {
   "cell_type": "markdown",
   "metadata": {
    "slideshow": {
     "slide_type": "subslide"
    }
   },
   "source": [
    "## Everybody has their own opinion ! So will give mine!"
   ]
  },
  {
   "cell_type": "markdown",
   "metadata": {
    "slideshow": {
     "slide_type": "subslide"
    }
   },
   "source": [
    "## The more or less conventional definition, the 5 Vs:\n",
    "\n",
    "* **VOLUME**\n",
    "\n",
    "* **VELOCITY**\n",
    "\n",
    "* **VARIETY**\n",
    "\n",
    "* **VERACITY**\n",
    "\n",
    "* **VALUE**\n",
    "\n",
    "Some add **Variability** and **Visualization**... Why not?"
   ]
  },
  {
   "cell_type": "markdown",
   "metadata": {
    "slideshow": {
     "slide_type": "subslide"
    }
   },
   "source": [
    "## BIG is a very relative notion!\n",
    "\n",
    "![img/big-is-relative.png](img/big-is-relative.png)\n",
    "Source: https://www.wired.com/2011/01/jumbo-shrimps-why-mega-mammals-still-looked-puny-next-to-the-biggest-dinosaurs/"
   ]
  },
  {
   "cell_type": "markdown",
   "metadata": {
    "slideshow": {
     "slide_type": "subslide"
    }
   },
   "source": [
    "## What I can not handle with my available toolbox is Big Data! `[Personal view]` \n",
    "\n",
    "* **Have you tried to open a `csv` file containing 10 million rows in Excel?**\n",
    "\n",
    "* **Have you tried to visualize 72 million measurements on Google Earth?**"
   ]
  },
  {
   "cell_type": "markdown",
   "metadata": {
    "slideshow": {
     "slide_type": "subslide"
    }
   },
   "source": [
    "## The example of SAFECAST DATA VISUALIZATION \n",
    "\n",
    "![img/safecast-web.png](img/safecast-web.png)\n",
    "https://blog.safecast.org/"
   ]
  },
  {
   "cell_type": "markdown",
   "metadata": {
    "slideshow": {
     "slide_type": "subslide"
    }
   },
   "source": [
    "## Mapping 72 million measurements at once\n",
    "\n",
    "* **ATTEMPT 1 ► FAILURE! - Not enough RAM and not appropriate tool ► THIS IS BIG DATA FOR ME!**\n",
    "\n",
    "* **ATTEMPT 2 ► SUCCESS! - Bought 16 Gb of RAM and used recent https://datashader.readthedocs.io Python package**"
   ]
  },
  {
   "cell_type": "markdown",
   "metadata": {
    "slideshow": {
     "slide_type": "subslide"
    }
   },
   "source": [
    "## With the right toolbox, takes 3s to render 72 million of points [MacBook Pro with 16 Gb RAM]"
   ]
  },
  {
   "cell_type": "markdown",
   "metadata": {
    "slideshow": {
     "slide_type": "fragment"
    }
   },
   "source": [
    "```python\n",
    "def draw_map(df, plot_width, plot_height, colors, agg_func, interp, background_col):\n",
    "    cvs = ds.Canvas(plot_width=plot_width, plot_height=plot_height)\n",
    "    agg = cvs.points(df, 'lon', 'lat',  agg_func('value'))\n",
    "    img = tf.shade(agg, cmap=colors, how=interp)\n",
    "    return tf.set_background(img, color=background_col)\n",
    "\n",
    "img = draw_map(df, plot_width, plot_height, inferno, ds.count, 'log', 'black')\n",
    "```"
   ]
  },
  {
   "cell_type": "markdown",
   "metadata": {
    "slideshow": {
     "slide_type": "subslide"
    }
   },
   "source": [
    "![img/safecast-map.png](img/safecast-map.png)"
   ]
  },
  {
   "cell_type": "markdown",
   "metadata": {
    "slideshow": {
     "slide_type": "slide"
    }
   },
   "source": [
    "# CHAPTER 3 ► BIG DATA INFRASTRUCTURE & FRAMEWORKS"
   ]
  },
  {
   "cell_type": "markdown",
   "metadata": {
    "slideshow": {
     "slide_type": "subslide"
    }
   },
   "source": [
    "## Batch vs. stream vs hybrid processing frameworks\n",
    "\n",
    "* **Batch-only processing: Apache Hadoop**\n",
    "\n",
    "* **Stream-only frameworks: Apache Storm, Apache Samza**\n",
    "\n",
    "* **Hybrid frameworks: Apache Spark, Apache Flink**\n",
    "\n",
    "Reference: https://www.digitalocean.com/community/tutorials/hadoop-storm-samza-spark-and-flink-big-data-frameworks-compared\n",
    "\n",
    "Note: There is a Master in HPC at ICTP: http://www.mhpc.it/"
   ]
  },
  {
   "cell_type": "markdown",
   "metadata": {
    "slideshow": {
     "slide_type": "subslide"
    }
   },
   "source": [
    "## Cloud computing in Africa - ISOC's update?"
   ]
  },
  {
   "cell_type": "markdown",
   "metadata": {
    "slideshow": {
     "slide_type": "subslide"
    }
   },
   "source": [
    "## Google cloud regions\n",
    "\n",
    "![img/google-cloud-regions.png](img/google-cloud-regions.png)"
   ]
  },
  {
   "cell_type": "markdown",
   "metadata": {
    "slideshow": {
     "slide_type": "subslide"
    }
   },
   "source": [
    "## Amazon Web Services cloud regions\n",
    "![img/amazon-regions.png](img/amazon-regions.png)"
   ]
  },
  {
   "cell_type": "markdown",
   "metadata": {
    "slideshow": {
     "slide_type": "subslide"
    }
   },
   "source": [
    "## Microsoft Azure regions\n",
    "\n",
    "![img/microsoft-azure.png](img/microsoft-azure.png)\n",
    "\n",
    "## ... "
   ]
  },
  {
   "cell_type": "markdown",
   "metadata": {
    "slideshow": {
     "slide_type": "subslide"
    }
   },
   "source": [
    "## Is Africa a forgotten continent?\n",
    "\n",
    "## If that's the case, might change very soon!"
   ]
  },
  {
   "cell_type": "markdown",
   "metadata": {
    "slideshow": {
     "slide_type": "subslide"
    }
   },
   "source": [
    "## What about Cloud computing and Iot?\n",
    "\n",
    "**Every cloud computing platforms targets the market and propose a dedicated offer** - for instance: https://goo.gl/zAR3KT"
   ]
  },
  {
   "cell_type": "markdown",
   "metadata": {
    "slideshow": {
     "slide_type": "slide"
    }
   },
   "source": [
    "# CHAPTER 4 ► WHEN AND WHY DO WE NEED SUCH VOLUME OF DATA?"
   ]
  },
  {
   "cell_type": "markdown",
   "metadata": {
    "slideshow": {
     "slide_type": "subslide"
    }
   },
   "source": [
    "## The drill-down & roll-up strategy\n",
    "\n",
    "* **In many situations, is the relevant approach**\n",
    "\n",
    "* **No need to look at all your data at once**\n",
    "\n",
    "* **The example of decision making during nuclear emergencies**\n"
   ]
  },
  {
   "cell_type": "markdown",
   "metadata": {
    "slideshow": {
     "slide_type": "subslide"
    }
   },
   "source": [
    "## BUT, current tech. trends change the rules ..."
   ]
  },
  {
   "cell_type": "markdown",
   "metadata": {
    "slideshow": {
     "slide_type": "fragment"
    }
   },
   "source": [
    "## The case of Deep Learning and Artificial Neural Networks (ANN)"
   ]
  },
  {
   "cell_type": "markdown",
   "metadata": {
    "slideshow": {
     "slide_type": "subslide"
    }
   },
   "source": [
    "## A bit of history"
   ]
  },
  {
   "cell_type": "markdown",
   "metadata": {
    "slideshow": {
     "slide_type": "fragment"
    }
   },
   "source": [
    "* **Idea goes all the way back to the 40's**"
   ]
  },
  {
   "cell_type": "markdown",
   "metadata": {
    "slideshow": {
     "slide_type": "fragment"
    }
   },
   "source": [
    "* **Kohonen self-organizing map in the 70's**"
   ]
  },
  {
   "cell_type": "markdown",
   "metadata": {
    "slideshow": {
     "slide_type": "fragment"
    }
   },
   "source": [
    "* **In 1986 Rumelhart, Hinton and Williams experiments with hidden-layer**"
   ]
  },
  {
   "cell_type": "markdown",
   "metadata": {
    "slideshow": {
     "slide_type": "fragment"
    }
   },
   "source": [
    "* ** During the 2000s it fell out of favour**"
   ]
  },
  {
   "cell_type": "markdown",
   "metadata": {
    "slideshow": {
     "slide_type": "fragment"
    }
   },
   "source": [
    "* **but returned in the 2010s, benefitting from cheap, powerful GPU-based computing systems.**"
   ]
  },
  {
   "cell_type": "markdown",
   "metadata": {
    "slideshow": {
     "slide_type": "fragment"
    }
   },
   "source": [
    "* **In 2014, backpropagation was used to train a deep neural network for speech recognition.**"
   ]
  },
  {
   "cell_type": "markdown",
   "metadata": {
    "slideshow": {
     "slide_type": "subslide"
    }
   },
   "source": [
    "## Refs: \n",
    "\n",
    "* **https://en.wikipedia.org/wiki/Backpropagation**\n",
    "* **https://cs.stanford.edu/people/eroberts/courses/soco/projects/neural-networks/History/history1.html**"
   ]
  },
  {
   "cell_type": "markdown",
   "metadata": {
    "slideshow": {
     "slide_type": "subslide"
    }
   },
   "source": [
    "## Both computation technique and big data have changed the game"
   ]
  },
  {
   "cell_type": "markdown",
   "metadata": {
    "slideshow": {
     "slide_type": "subslide"
    }
   },
   "source": [
    "## Why did GPU change the game?"
   ]
  },
  {
   "cell_type": "markdown",
   "metadata": {
    "slideshow": {
     "slide_type": "fragment"
    }
   },
   "source": [
    "* **GPUs are all about matrix operations, linear algebra and parallelizing**"
   ]
  },
  {
   "cell_type": "markdown",
   "metadata": {
    "slideshow": {
     "slide_type": "fragment"
    }
   },
   "source": [
    "* **Perfectly suits ANNs computation needs**"
   ]
  },
  {
   "cell_type": "markdown",
   "metadata": {
    "slideshow": {
     "slide_type": "subslide"
    }
   },
   "source": [
    "## Why do Linear Algebra and Vectorization matter?"
   ]
  },
  {
   "cell_type": "code",
   "execution_count": 9,
   "metadata": {
    "collapsed": false,
    "slideshow": {
     "slide_type": "subslide"
    }
   },
   "outputs": [
    {
     "name": "stdout",
     "output_type": "stream",
     "text": [
      "[1 2 3 4 5]\n"
     ]
    }
   ],
   "source": [
    "import numpy as np\n",
    "\n",
    "a = np.array([1, 2, 3, 4, 5])\n",
    "print(a)"
   ]
  },
  {
   "cell_type": "code",
   "execution_count": 13,
   "metadata": {
    "collapsed": false,
    "slideshow": {
     "slide_type": "subslide"
    }
   },
   "outputs": [
    {
     "name": "stdout",
     "output_type": "stream",
     "text": [
      "Vectorized version: 1.3108253479003906ms\n",
      "For loop: 644.2921161651611ms\n"
     ]
    }
   ],
   "source": [
    "import time\n",
    "\n",
    "a = np.random.rand(1000000)\n",
    "b = np.random.rand(1000000)\n",
    "\n",
    "tic = time.time()\n",
    "c = np.dot(a, b)\n",
    "toc = time.time()\n",
    "\n",
    "print(\"Vectorized version: \" + str(1000*(toc - tic)) + \"ms\")\n",
    "\n",
    "c = 0\n",
    "tic = time.time()\n",
    "for i in range(1000000):\n",
    "    c += a[i]*b[i]\n",
    "    \n",
    "toc = time.time()\n",
    "\n",
    "print(\"For loop: \" + str(1000*(toc - tic)) + \"ms\")"
   ]
  },
  {
   "cell_type": "markdown",
   "metadata": {
    "slideshow": {
     "slide_type": "subslide"
    }
   },
   "source": [
    "## Technological stack: an example"
   ]
  },
  {
   "cell_type": "markdown",
   "metadata": {
    "slideshow": {
     "slide_type": "fragment"
    }
   },
   "source": [
    "## For 0.9 USD/hour you can get for instance:\n",
    " \n",
    "* **4 CPU cores**\n",
    "* **64 GB of RAM**\n",
    "* **1 NVIDIA GPU**\n",
    "* **Ubuntu + CudaNN + Python + ...**"
   ]
  },
  {
   "cell_type": "markdown",
   "metadata": {
    "slideshow": {
     "slide_type": "fragment"
    }
   },
   "source": [
    "## Will cover all you need unless you want to compete with Google or Baidu"
   ]
  },
  {
   "cell_type": "markdown",
   "metadata": {
    "slideshow": {
     "slide_type": "slide"
    }
   },
   "source": [
    "# Use cases of IoT | big data | Deep learning"
   ]
  },
  {
   "cell_type": "markdown",
   "metadata": {
    "slideshow": {
     "slide_type": "subslide"
    }
   },
   "source": [
    "## Actually only limited by our imagination ..."
   ]
  },
  {
   "cell_type": "markdown",
   "metadata": {
    "slideshow": {
     "slide_type": "subslide"
    }
   },
   "source": [
    "## Some examples:\n",
    "\n",
    "* **Land slide: ref...**\n",
    "\n",
    "\n",
    "* **How a Japanese cucumber farmer is using deep learning and TensorFlow:**\n",
    "    * https://goo.gl/YPZL52\n",
    "\n",
    "\n",
    "* **Traffic light control:**\n",
    "    * https://en.wikipedia.org/wiki/Traffic_light_control_and_coordination\n",
    "    * Write `traffic light control deep learning` in your search engine"
   ]
  },
  {
   "cell_type": "markdown",
   "metadata": {
    "slideshow": {
     "slide_type": "slide"
    }
   },
   "source": [
    "# Want to harness IoT and IA?"
   ]
  }
 ],
 "metadata": {
  "celltoolbar": "Slideshow",
  "kernelspec": {
   "display_name": "Python [conda root]",
   "language": "python",
   "name": "conda-root-py"
  },
  "language_info": {
   "codemirror_mode": {
    "name": "ipython",
    "version": 3
   },
   "file_extension": ".py",
   "mimetype": "text/x-python",
   "name": "python",
   "nbconvert_exporter": "python",
   "pygments_lexer": "ipython3",
   "version": "3.6.0"
  }
 },
 "nbformat": 4,
 "nbformat_minor": 2
}
